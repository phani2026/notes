{
 "cells": [
  {
   "cell_type": "code",
   "execution_count": 1,
   "metadata": {},
   "outputs": [],
   "source": [
    "import os\n",
    "# os.environ['APP_HOST'] = 'http://192.168.60.25:8005'\n",
    "os.environ['USER_ID'] = 'abbd86d4-d3c0-48d4-be5a-a6cefd22002b'\n",
    "os.environ['PROJECT_ID'] = '9d9bca30-a314-4f93-b9c2-f368a0b0135b'\n",
    "os.environ['TENANT_ID'] = 'cb7d3189-7b2d-4d72-951f-a70a79931f52'\n",
    "\n",
    "import sys\n",
    "sys.version\n",
    "sys.path.append('/Users/phaneendra/IdeaProjects/razor-sdk')"
   ]
  },
  {
   "cell_type": "code",
   "execution_count": 2,
   "metadata": {},
   "outputs": [
    {
     "name": "stdout",
     "output_type": "stream",
     "text": [
      "Couldn't setup host configurations. You may not be running this in the platform's Jupyter\n",
      "Failed to load configuration file. Using default configs\n"
     ]
    }
   ],
   "source": [
    "from razor import Block, Pipeline, inputs, outputs"
   ]
  },
  {
   "cell_type": "code",
   "execution_count": 3,
   "metadata": {},
   "outputs": [
    {
     "data": {
      "image/svg+xml": [
       "<svg height=\"126pt\" viewBox=\"0.00 0.00 193.59 126.00\" width=\"194pt\" xmlns=\"http://www.w3.org/2000/svg\" xmlns:xlink=\"http://www.w3.org/1999/xlink\">\n",
       "<g class=\"graph\" id=\"graph0\" transform=\"scale(1 1) rotate(0) translate(4 122)\">\n",
       "<title>%3</title>\n",
       "<polygon fill=\"white\" points=\"-4,4 -4,-122 189.59,-122 189.59,4 -4,4\" stroke=\"transparent\"/>\n",
       "<!-- (Multiply) Multiply_1 -->\n",
       "<g class=\"node\" id=\"node1\">\n",
       "<title>(Multiply) Multiply_1</title>\n",
       "<ellipse cx=\"60.25\" cy=\"-18\" fill=\"none\" rx=\"60.5\" ry=\"18\" stroke=\"black\"/>\n",
       "<text font-family=\"Helvetica,sans-Serif\" font-size=\"10.00\" text-anchor=\"middle\" x=\"60.25\" y=\"-15\">(Multiply) Multiply_1</text>\n",
       "</g>\n",
       "<!-- (Add) Add_1 -->\n",
       "<g class=\"node\" id=\"node2\">\n",
       "<title>(Add) Add_1</title>\n",
       "<ellipse cx=\"60.25\" cy=\"-100\" fill=\"none\" rx=\"41.18\" ry=\"18\" stroke=\"black\"/>\n",
       "<text font-family=\"Helvetica,sans-Serif\" font-size=\"10.00\" text-anchor=\"middle\" x=\"60.25\" y=\"-97\">(Add) Add_1</text>\n",
       "</g>\n",
       "<!-- (Add) Add_1&#45;&gt;(Multiply) Multiply_1 -->\n",
       "<g class=\"edge\" id=\"edge1\">\n",
       "<title>(Add) Add_1-&gt;(Multiply) Multiply_1</title>\n",
       "<path d=\"M60.25,-81.64C60.25,-71.3 60.25,-57.94 60.25,-46.22\" fill=\"none\" stroke=\"black\"/>\n",
       "<polygon fill=\"black\" points=\"63.75,-46.05 60.25,-36.05 56.75,-46.05 63.75,-46.05\" stroke=\"black\"/>\n",
       "<text font-family=\"Helvetica,sans-Serif\" font-size=\"10.00\" text-anchor=\"middle\" x=\"122.92\" y=\"-56\">sum_out-&gt;summed_number</text>\n",
       "</g>\n",
       "</g>\n",
       "</svg>"
      ],
      "text/plain": [
       "<IPython.core.display.SVG object>"
      ]
     },
     "metadata": {},
     "output_type": "display_data"
    }
   ],
   "source": [
    "import razor\n",
    "from razor import Block, inputs, outputs, Pipeline\n",
    "from razor.platform import project_space_path\n",
    "\n",
    "@inputs.atomic.generic('numbers')\n",
    "@outputs.series.generic('sum_out')\n",
    "class Add(Block):\n",
    "    def run(self, numbers, sum_out):\n",
    "        sum_out.put(sum(numbers))\n",
    "        sum_out.put(2)\n",
    "        \n",
    "@inputs.series.generic('summed_number')\n",
    "@inputs.atomic.generic('factor')\n",
    "@outputs.atomic.generic('result')\n",
    "class Multiply(Block):\n",
    "    def run(self, summed_number, factor, result):\n",
    "        print(f\"Multiply sumnuber, factor: {summed_number} {factor}\")\n",
    "        for x in summed_number:\n",
    "            print(f\"Nuber is: {x}\")\n",
    "            result.put(x*factor)\n",
    "        \n",
    "add = (\n",
    "    Add()\n",
    "    .numbers(variable='numbers')\n",
    ")\n",
    "\n",
    "mul = (\n",
    "    Multiply()\n",
    "    .summed_number(add.sum_out)\n",
    "    .factor(variable='factor')\n",
    ")\n",
    "\n",
    "p = Pipeline(name='PipelineVars', targets=[mul])\n",
    "p.show()\n",
    "\n",
    "deployed_pipeline = razor.platform.engines(name='Engine-1-dev1').execute(pipeline=p, pipeline_vars={\n",
    "    \"numbers\": [1, 2, 3],\n",
    "    \"factor\": 5\n",
    "})\n",
    "\n",
    "# pipeline = Pipeline(targets=[csv_writer], name=\"hima_pipeline\")\n",
    "# pipeline.show()\n",
    "\n"
   ]
  },
  {
   "cell_type": "code",
   "execution_count": 4,
   "metadata": {},
   "outputs": [],
   "source": [
    "# import razor\n",
    "# deployed_pipeline= razor.platform.engines(name='Engine-1-dev1').execute(pipeline=pipeline)"
   ]
  },
  {
   "cell_type": "code",
   "execution_count": null,
   "metadata": {},
   "outputs": [],
   "source": []
  },
  {
   "cell_type": "code",
   "execution_count": 5,
   "metadata": {},
   "outputs": [
    {
     "name": "stdout",
     "output_type": "stream",
     "text": [
      "Pipeline Progress: [####################] 100.0% - Success\n"
     ]
    },
    {
     "data": {
      "text/html": [
       "\n",
       "<div id=\"altair-viz-30627b5124044e128ccfc7cb1ba9b701\"></div>\n",
       "<script type=\"text/javascript\">\n",
       "  (function(spec, embedOpt){\n",
       "    let outputDiv = document.currentScript.previousElementSibling;\n",
       "    if (outputDiv.id !== \"altair-viz-30627b5124044e128ccfc7cb1ba9b701\") {\n",
       "      outputDiv = document.getElementById(\"altair-viz-30627b5124044e128ccfc7cb1ba9b701\");\n",
       "    }\n",
       "    const paths = {\n",
       "      \"vega\": \"https://cdn.jsdelivr.net/npm//vega@5?noext\",\n",
       "      \"vega-lib\": \"https://cdn.jsdelivr.net/npm//vega-lib?noext\",\n",
       "      \"vega-lite\": \"https://cdn.jsdelivr.net/npm//vega-lite@4.8.1?noext\",\n",
       "      \"vega-embed\": \"https://cdn.jsdelivr.net/npm//vega-embed@6?noext\",\n",
       "    };\n",
       "\n",
       "    function loadScript(lib) {\n",
       "      return new Promise(function(resolve, reject) {\n",
       "        var s = document.createElement('script');\n",
       "        s.src = paths[lib];\n",
       "        s.async = true;\n",
       "        s.onload = () => resolve(paths[lib]);\n",
       "        s.onerror = () => reject(`Error loading script: ${paths[lib]}`);\n",
       "        document.getElementsByTagName(\"head\")[0].appendChild(s);\n",
       "      });\n",
       "    }\n",
       "\n",
       "    function showError(err) {\n",
       "      outputDiv.innerHTML = `<div class=\"error\" style=\"color:red;\">${err}</div>`;\n",
       "      throw err;\n",
       "    }\n",
       "\n",
       "    function displayChart(vegaEmbed) {\n",
       "      vegaEmbed(outputDiv, spec, embedOpt)\n",
       "        .catch(err => showError(`Javascript Error: ${err.message}<br>This usually means there's a typo in your chart specification. See the javascript console for the full traceback.`));\n",
       "    }\n",
       "\n",
       "    if(typeof define === \"function\" && define.amd) {\n",
       "      requirejs.config({paths});\n",
       "      require([\"vega-embed\"], displayChart, err => showError(`Error loading script: ${err.message}`));\n",
       "    } else if (typeof vegaEmbed === \"function\") {\n",
       "      displayChart(vegaEmbed);\n",
       "    } else {\n",
       "      loadScript(\"vega\")\n",
       "        .then(() => loadScript(\"vega-lite\"))\n",
       "        .then(() => loadScript(\"vega-embed\"))\n",
       "        .catch(showError)\n",
       "        .then(() => displayChart(vegaEmbed));\n",
       "    }\n",
       "  })({\"config\": {\"view\": {\"continuousWidth\": 400, \"continuousHeight\": 300}}, \"vconcat\": [{\"hconcat\": [{\"data\": {\"name\": \"data-6eb40a11a6b95d4ebd271dcdbc913586\"}, \"mark\": {\"type\": \"line\", \"point\": true}, \"encoding\": {\"color\": {\"type\": \"nominal\", \"field\": \"y_label\", \"legend\": {\"columns\": 1, \"orient\": \"bottom\"}}, \"x\": {\"type\": \"ordinal\", \"field\": \"x\", \"title\": \"TIME( milliseconds )\"}, \"y\": {\"type\": \"quantitative\", \"field\": \"y\", \"scale\": {\"zero\": false}, \"title\": \"CPU(16) %\"}}, \"height\": 300, \"title\": {\"text\": \"CPU vs TIME of Block: Multiply_1\", \"frame\": \"group\"}, \"width\": 300}, {\"data\": {\"name\": \"data-e0ce64ea932fbb94b37b35d92a45e52d\"}, \"mark\": {\"type\": \"line\", \"point\": true}, \"encoding\": {\"color\": {\"type\": \"nominal\", \"field\": \"y_label\", \"legend\": {\"columns\": 1, \"orient\": \"bottom\"}}, \"x\": {\"type\": \"ordinal\", \"field\": \"x\", \"title\": \"TIME( milliseconds )\"}, \"y\": {\"type\": \"quantitative\", \"field\": \"y\", \"scale\": {\"zero\": false}, \"title\": \"Memory(16)\"}}, \"height\": 300, \"title\": {\"text\": \"MEMORY vs TIME of Block: Multiply_1\", \"frame\": \"group\"}, \"width\": 300}, {\"data\": {\"name\": \"data-dab72ea8daa1f01df1da2fad0696445a\"}, \"mark\": {\"type\": \"line\", \"point\": true}, \"encoding\": {\"color\": {\"type\": \"nominal\", \"field\": \"y_label\", \"legend\": {\"columns\": 1, \"orient\": \"bottom\"}}, \"x\": {\"type\": \"ordinal\", \"field\": \"x\", \"title\": \"TIME( milliseconds )\"}, \"y\": {\"type\": \"quantitative\", \"field\": \"y\", \"scale\": {\"zero\": false}, \"title\": \"NUMBER OF RECORDS CONSUMED / NUMBER OF RECORDS PRODUCED\"}}, \"height\": 300, \"title\": {\"text\": \"IO METRICS of Block: Multiply_1\", \"frame\": \"group\"}, \"width\": 300}], \"resolve\": {\"scale\": {\"color\": \"independent\"}}}, {\"hconcat\": [{\"data\": {\"name\": \"data-2dbbf33b02a9ad0f82d4be46473e2c36\"}, \"mark\": {\"type\": \"line\", \"point\": true}, \"encoding\": {\"color\": {\"type\": \"nominal\", \"field\": \"y_label\", \"legend\": {\"columns\": 1, \"orient\": \"bottom\"}}, \"x\": {\"type\": \"ordinal\", \"field\": \"x\", \"title\": \"TIME( milliseconds )\"}, \"y\": {\"type\": \"quantitative\", \"field\": \"y\", \"scale\": {\"zero\": false}, \"title\": \"CPU(16) %\"}}, \"height\": 300, \"title\": {\"text\": \"CPU vs TIME of Block: Add_1\", \"frame\": \"group\"}, \"width\": 300}, {\"data\": {\"name\": \"data-a3e340bd7574ec9b769cabbf2ab8fe83\"}, \"mark\": {\"type\": \"line\", \"point\": true}, \"encoding\": {\"color\": {\"type\": \"nominal\", \"field\": \"y_label\", \"legend\": {\"columns\": 1, \"orient\": \"bottom\"}}, \"x\": {\"type\": \"ordinal\", \"field\": \"x\", \"title\": \"TIME( milliseconds )\"}, \"y\": {\"type\": \"quantitative\", \"field\": \"y\", \"scale\": {\"zero\": false}, \"title\": \"Memory(16)\"}}, \"height\": 300, \"title\": {\"text\": \"MEMORY vs TIME of Block: Add_1\", \"frame\": \"group\"}, \"width\": 300}, {\"data\": {\"name\": \"data-8d749be1ed36c62b8c6a6c70c6abc61a\"}, \"mark\": {\"type\": \"line\", \"point\": true}, \"encoding\": {\"color\": {\"type\": \"nominal\", \"field\": \"y_label\", \"legend\": {\"columns\": 1, \"orient\": \"bottom\"}}, \"x\": {\"type\": \"ordinal\", \"field\": \"x\", \"title\": \"TIME( milliseconds )\"}, \"y\": {\"type\": \"quantitative\", \"field\": \"y\", \"scale\": {\"zero\": false}, \"title\": \"NUMBER OF RECORDS PRODUCED\"}}, \"height\": 300, \"title\": {\"text\": \"IO METRICS of Block: Add_1\", \"frame\": \"group\"}, \"width\": 300}], \"resolve\": {\"scale\": {\"color\": \"independent\"}}}], \"$schema\": \"https://vega.github.io/schema/vega-lite/v4.8.1.json\", \"datasets\": {\"data-6eb40a11a6b95d4ebd271dcdbc913586\": [{\"y\": 0.0, \"y_label\": \"CPU(16) %\", \"x\": 0.0, \"x_label\": \"TIME\", \"x_type\": \"DATE\", \"y_type\": \"FLOAT\"}, {\"y\": 89.9, \"y_label\": \"CPU(16) %\", \"x\": 168.0, \"x_label\": \"TIME\", \"x_type\": \"DATE\", \"y_type\": \"FLOAT\"}, {\"y\": 92.6, \"y_label\": \"CPU(16) %\", \"x\": 281.0, \"x_label\": \"TIME\", \"x_type\": \"DATE\", \"y_type\": \"FLOAT\"}, {\"y\": 74.1, \"y_label\": \"CPU(16) %\", \"x\": 387.0, \"x_label\": \"TIME\", \"x_type\": \"DATE\", \"y_type\": \"FLOAT\"}, {\"y\": 95.7, \"y_label\": \"CPU(16) %\", \"x\": 860.0, \"x_label\": \"TIME\", \"x_type\": \"DATE\", \"y_type\": \"FLOAT\"}, {\"y\": 92.6, \"y_label\": \"CPU(16) %\", \"x\": 950.0, \"x_label\": \"TIME\", \"x_type\": \"DATE\", \"y_type\": \"FLOAT\"}, {\"y\": 87.4, \"y_label\": \"CPU(16) %\", \"x\": 38.0, \"x_label\": \"TIME\", \"x_type\": \"DATE\", \"y_type\": \"FLOAT\"}, {\"y\": 1.8, \"y_label\": \"CPU(16) %\", \"x\": 135.0, \"x_label\": \"TIME\", \"x_type\": \"DATE\", \"y_type\": \"FLOAT\"}, {\"y\": 1.8, \"y_label\": \"CPU(16) %\", \"x\": 224.0, \"x_label\": \"TIME\", \"x_type\": \"DATE\", \"y_type\": \"FLOAT\"}, {\"y\": 2.7, \"y_label\": \"CPU(16) %\", \"x\": 328.0, \"x_label\": \"TIME\", \"x_type\": \"DATE\", \"y_type\": \"FLOAT\"}, {\"y\": 1.8, \"y_label\": \"CPU(16) %\", \"x\": 418.0, \"x_label\": \"TIME\", \"x_type\": \"DATE\", \"y_type\": \"FLOAT\"}, {\"y\": 1.8, \"y_label\": \"CPU(16) %\", \"x\": 513.0, \"x_label\": \"TIME\", \"x_type\": \"DATE\", \"y_type\": \"FLOAT\"}, {\"y\": 2.8, \"y_label\": \"CPU(16) %\", \"x\": 593.0, \"x_label\": \"TIME\", \"x_type\": \"DATE\", \"y_type\": \"FLOAT\"}, {\"y\": 1.8, \"y_label\": \"CPU(16) %\", \"x\": 686.0, \"x_label\": \"TIME\", \"x_type\": \"DATE\", \"y_type\": \"FLOAT\"}, {\"y\": 4.3, \"y_label\": \"CPU(16) %\", \"x\": 859.0, \"x_label\": \"TIME\", \"x_type\": \"DATE\", \"y_type\": \"FLOAT\"}], \"data-e0ce64ea932fbb94b37b35d92a45e52d\": [{\"y\": 41852928.0, \"y_label\": \"Memory(16)\", \"x\": 0.0, \"x_label\": \"TIME\", \"x_type\": \"DATE\", \"y_type\": \"FLOAT\"}, {\"y\": 99201024.0, \"y_label\": \"Memory(16)\", \"x\": 168.0, \"x_label\": \"TIME\", \"x_type\": \"DATE\", \"y_type\": \"FLOAT\"}, {\"y\": 140955648.0, \"y_label\": \"Memory(16)\", \"x\": 281.0, \"x_label\": \"TIME\", \"x_type\": \"DATE\", \"y_type\": \"FLOAT\"}, {\"y\": 151924736.0, \"y_label\": \"Memory(16)\", \"x\": 387.0, \"x_label\": \"TIME\", \"x_type\": \"DATE\", \"y_type\": \"FLOAT\"}, {\"y\": 289796096.0, \"y_label\": \"Memory(16)\", \"x\": 860.0, \"x_label\": \"TIME\", \"x_type\": \"DATE\", \"y_type\": \"FLOAT\"}, {\"y\": 325218304.0, \"y_label\": \"Memory(16)\", \"x\": 950.0, \"x_label\": \"TIME\", \"x_type\": \"DATE\", \"y_type\": \"FLOAT\"}, {\"y\": 341364736.0, \"y_label\": \"Memory(16)\", \"x\": 38.0, \"x_label\": \"TIME\", \"x_type\": \"DATE\", \"y_type\": \"FLOAT\"}, {\"y\": 341635072.0, \"y_label\": \"Memory(16)\", \"x\": 135.0, \"x_label\": \"TIME\", \"x_type\": \"DATE\", \"y_type\": \"FLOAT\"}, {\"y\": 341635072.0, \"y_label\": \"Memory(16)\", \"x\": 224.0, \"x_label\": \"TIME\", \"x_type\": \"DATE\", \"y_type\": \"FLOAT\"}, {\"y\": 341741568.0, \"y_label\": \"Memory(16)\", \"x\": 328.0, \"x_label\": \"TIME\", \"x_type\": \"DATE\", \"y_type\": \"FLOAT\"}, {\"y\": 341741568.0, \"y_label\": \"Memory(16)\", \"x\": 418.0, \"x_label\": \"TIME\", \"x_type\": \"DATE\", \"y_type\": \"FLOAT\"}, {\"y\": 341741568.0, \"y_label\": \"Memory(16)\", \"x\": 513.0, \"x_label\": \"TIME\", \"x_type\": \"DATE\", \"y_type\": \"FLOAT\"}, {\"y\": 342142976.0, \"y_label\": \"Memory(16)\", \"x\": 593.0, \"x_label\": \"TIME\", \"x_type\": \"DATE\", \"y_type\": \"FLOAT\"}, {\"y\": 342142976.0, \"y_label\": \"Memory(16)\", \"x\": 686.0, \"x_label\": \"TIME\", \"x_type\": \"DATE\", \"y_type\": \"FLOAT\"}, {\"y\": 342192128.0, \"y_label\": \"Memory(16)\", \"x\": 859.0, \"x_label\": \"TIME\", \"x_type\": \"DATE\", \"y_type\": \"FLOAT\"}], \"data-dab72ea8daa1f01df1da2fad0696445a\": [{\"y\": 3, \"y_label\": \"NUMBER OF RECORDS CONSUMED\", \"x\": 0.0, \"x_label\": \"TIME\", \"x_type\": \"DATE\", \"y_type\": \"FLOAT\"}, {\"y\": 3, \"y_label\": \"NUMBER OF RECORDS PRODUCED\", \"x\": 25.0, \"x_label\": \"TIME\", \"x_type\": \"DATE\", \"y_type\": \"FLOAT\"}], \"data-2dbbf33b02a9ad0f82d4be46473e2c36\": [{\"y\": 0.0, \"y_label\": \"CPU(16) %\", \"x\": 0.0, \"x_label\": \"TIME\", \"x_type\": \"DATE\", \"y_type\": \"FLOAT\"}, {\"y\": 46.8, \"y_label\": \"CPU(16) %\", \"x\": 176.0, \"x_label\": \"TIME\", \"x_type\": \"DATE\", \"y_type\": \"FLOAT\"}, {\"y\": 16.5, \"y_label\": \"CPU(16) %\", \"x\": 269.0, \"x_label\": \"TIME\", \"x_type\": \"DATE\", \"y_type\": \"FLOAT\"}, {\"y\": 55.4, \"y_label\": \"CPU(16) %\", \"x\": 369.0, \"x_label\": \"TIME\", \"x_type\": \"DATE\", \"y_type\": \"FLOAT\"}, {\"y\": 48.9, \"y_label\": \"CPU(16) %\", \"x\": 473.0, \"x_label\": \"TIME\", \"x_type\": \"DATE\", \"y_type\": \"FLOAT\"}, {\"y\": 46.6, \"y_label\": \"CPU(16) %\", \"x\": 568.0, \"x_label\": \"TIME\", \"x_type\": \"DATE\", \"y_type\": \"FLOAT\"}, {\"y\": 59.8, \"y_label\": \"CPU(16) %\", \"x\": 655.0, \"x_label\": \"TIME\", \"x_type\": \"DATE\", \"y_type\": \"FLOAT\"}, {\"y\": 45.4, \"y_label\": \"CPU(16) %\", \"x\": 735.0, \"x_label\": \"TIME\", \"x_type\": \"DATE\", \"y_type\": \"FLOAT\"}, {\"y\": 44.6, \"y_label\": \"CPU(16) %\", \"x\": 812.0, \"x_label\": \"TIME\", \"x_type\": \"DATE\", \"y_type\": \"FLOAT\"}, {\"y\": 69.5, \"y_label\": \"CPU(16) %\", \"x\": 876.0, \"x_label\": \"TIME\", \"x_type\": \"DATE\", \"y_type\": \"FLOAT\"}, {\"y\": 86.7, \"y_label\": \"CPU(16) %\", \"x\": 961.0, \"x_label\": \"TIME\", \"x_type\": \"DATE\", \"y_type\": \"FLOAT\"}, {\"y\": 88.7, \"y_label\": \"CPU(16) %\", \"x\": 43.0, \"x_label\": \"TIME\", \"x_type\": \"DATE\", \"y_type\": \"FLOAT\"}, {\"y\": 59.9, \"y_label\": \"CPU(16) %\", \"x\": 145.0, \"x_label\": \"TIME\", \"x_type\": \"DATE\", \"y_type\": \"FLOAT\"}, {\"y\": 60.2, \"y_label\": \"CPU(16) %\", \"x\": 241.0, \"x_label\": \"TIME\", \"x_type\": \"DATE\", \"y_type\": \"FLOAT\"}, {\"y\": 4.6, \"y_label\": \"CPU(16) %\", \"x\": 331.0, \"x_label\": \"TIME\", \"x_type\": \"DATE\", \"y_type\": \"FLOAT\"}, {\"y\": 1.8, \"y_label\": \"CPU(16) %\", \"x\": 418.0, \"x_label\": \"TIME\", \"x_type\": \"DATE\", \"y_type\": \"FLOAT\"}], \"data-a3e340bd7574ec9b769cabbf2ab8fe83\": [{\"y\": 41058304.0, \"y_label\": \"Memory(16)\", \"x\": 0.0, \"x_label\": \"TIME\", \"x_type\": \"DATE\", \"y_type\": \"FLOAT\"}, {\"y\": 61743104.0, \"y_label\": \"Memory(16)\", \"x\": 176.0, \"x_label\": \"TIME\", \"x_type\": \"DATE\", \"y_type\": \"FLOAT\"}, {\"y\": 61743104.0, \"y_label\": \"Memory(16)\", \"x\": 269.0, \"x_label\": \"TIME\", \"x_type\": \"DATE\", \"y_type\": \"FLOAT\"}, {\"y\": 87576576.0, \"y_label\": \"Memory(16)\", \"x\": 369.0, \"x_label\": \"TIME\", \"x_type\": \"DATE\", \"y_type\": \"FLOAT\"}, {\"y\": 102354944.0, \"y_label\": \"Memory(16)\", \"x\": 473.0, \"x_label\": \"TIME\", \"x_type\": \"DATE\", \"y_type\": \"FLOAT\"}, {\"y\": 114495488.0, \"y_label\": \"Memory(16)\", \"x\": 568.0, \"x_label\": \"TIME\", \"x_type\": \"DATE\", \"y_type\": \"FLOAT\"}, {\"y\": 129830912.0, \"y_label\": \"Memory(16)\", \"x\": 655.0, \"x_label\": \"TIME\", \"x_type\": \"DATE\", \"y_type\": \"FLOAT\"}, {\"y\": 144494592.0, \"y_label\": \"Memory(16)\", \"x\": 735.0, \"x_label\": \"TIME\", \"x_type\": \"DATE\", \"y_type\": \"FLOAT\"}, {\"y\": 151613440.0, \"y_label\": \"Memory(16)\", \"x\": 812.0, \"x_label\": \"TIME\", \"x_type\": \"DATE\", \"y_type\": \"FLOAT\"}, {\"y\": 258039808.0, \"y_label\": \"Memory(16)\", \"x\": 876.0, \"x_label\": \"TIME\", \"x_type\": \"DATE\", \"y_type\": \"FLOAT\"}, {\"y\": 286191616.0, \"y_label\": \"Memory(16)\", \"x\": 961.0, \"x_label\": \"TIME\", \"x_type\": \"DATE\", \"y_type\": \"FLOAT\"}, {\"y\": 320061440.0, \"y_label\": \"Memory(16)\", \"x\": 43.0, \"x_label\": \"TIME\", \"x_type\": \"DATE\", \"y_type\": \"FLOAT\"}, {\"y\": 335413248.0, \"y_label\": \"Memory(16)\", \"x\": 145.0, \"x_label\": \"TIME\", \"x_type\": \"DATE\", \"y_type\": \"FLOAT\"}, {\"y\": 341241856.0, \"y_label\": \"Memory(16)\", \"x\": 241.0, \"x_label\": \"TIME\", \"x_type\": \"DATE\", \"y_type\": \"FLOAT\"}, {\"y\": 343101440.0, \"y_label\": \"Memory(16)\", \"x\": 331.0, \"x_label\": \"TIME\", \"x_type\": \"DATE\", \"y_type\": \"FLOAT\"}, {\"y\": 343384064.0, \"y_label\": \"Memory(16)\", \"x\": 418.0, \"x_label\": \"TIME\", \"x_type\": \"DATE\", \"y_type\": \"FLOAT\"}], \"data-8d749be1ed36c62b8c6a6c70c6abc61a\": [{\"y\": 3, \"y_label\": \"NUMBER OF RECORDS PRODUCED\", \"x\": 0.0, \"x_label\": \"TIME\", \"x_type\": \"DATE\", \"y_type\": \"FLOAT\"}]}}, {\"mode\": \"vega-lite\"});\n",
       "</script>"
      ],
      "text/plain": [
       "alt.VConcatChart(...)"
      ]
     },
     "execution_count": 5,
     "metadata": {},
     "output_type": "execute_result"
    }
   ],
   "source": [
    "deployed_pipeline.monitor()\n",
    "\n",
    "deployed_pipeline.metrics().plot()"
   ]
  },
  {
   "cell_type": "code",
   "execution_count": 6,
   "metadata": {},
   "outputs": [
    {
     "data": {
      "text/plain": [
       "'No logs available yet. Check back again in sometime.'"
      ]
     },
     "execution_count": 6,
     "metadata": {},
     "output_type": "execute_result"
    }
   ],
   "source": [
    "deployed_pipeline.logs()"
   ]
  },
  {
   "cell_type": "code",
   "execution_count": null,
   "metadata": {},
   "outputs": [],
   "source": []
  },
  {
   "cell_type": "code",
   "execution_count": null,
   "metadata": {},
   "outputs": [],
   "source": []
  },
  {
   "cell_type": "code",
   "execution_count": 7,
   "metadata": {},
   "outputs": [],
   "source": [
    "# deployed.monitor()"
   ]
  },
  {
   "cell_type": "code",
   "execution_count": null,
   "metadata": {},
   "outputs": [],
   "source": []
  },
  {
   "cell_type": "code",
   "execution_count": null,
   "metadata": {},
   "outputs": [],
   "source": []
  }
 ],
 "metadata": {
  "kernelspec": {
   "display_name": "Python 3",
   "language": "python",
   "name": "python3"
  },
  "language_info": {
   "codemirror_mode": {
    "name": "ipython",
    "version": 3
   },
   "file_extension": ".py",
   "mimetype": "text/x-python",
   "name": "python",
   "nbconvert_exporter": "python",
   "pygments_lexer": "ipython3",
   "version": "3.7.5"
  }
 },
 "nbformat": 4,
 "nbformat_minor": 4
}
