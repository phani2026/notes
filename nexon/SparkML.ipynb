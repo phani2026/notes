{
 "cells": [
  {
   "cell_type": "code",
   "execution_count": 1,
   "metadata": {},
   "outputs": [],
   "source": [
    "import pyspark\n",
    "from pyspark import SparkContext, SparkConf\n",
    "from pyspark.sql import SparkSession\n"
   ]
  },
  {
   "cell_type": "code",
   "execution_count": 2,
   "metadata": {},
   "outputs": [],
   "source": [
    "spark = SparkSession.builder.appName('test').master(\"spark://bphani.local:7077\").getOrCreate()\n"
   ]
  },
  {
   "cell_type": "code",
   "execution_count": 3,
   "metadata": {},
   "outputs": [],
   "source": [
    "df = spark.read.csv('/Users/phaneendra/Downloads/kill_match_stats_final_0.csv', inferSchema=True, header=True)"
   ]
  },
  {
   "cell_type": "code",
   "execution_count": 4,
   "metadata": {},
   "outputs": [
    {
     "data": {
      "text/plain": [
       "StructType(List(StructField(killed_by,StringType,true),StructField(killer_name,StringType,true),StructField(killer_placement,DoubleType,true),StructField(killer_position_x,DoubleType,true),StructField(killer_position_y,DoubleType,true),StructField(map,StringType,true),StructField(match_id,StringType,true),StructField(time,IntegerType,true),StructField(victim_name,StringType,true),StructField(victim_placement,DoubleType,true),StructField(victim_position_x,DoubleType,true),StructField(victim_position_y,DoubleType,true)))"
      ]
     },
     "execution_count": 4,
     "metadata": {},
     "output_type": "execute_result"
    }
   ],
   "source": [
    "df.schema"
   ]
  },
  {
   "cell_type": "code",
   "execution_count": 5,
   "metadata": {},
   "outputs": [
    {
     "name": "stdout",
     "output_type": "stream",
     "text": [
      "+------------+----------------+----------------+-----------------+-----------------+-------+--------------------+----+---------------+----------------+-----------------+-----------------+\n",
      "|   killed_by|     killer_name|killer_placement|killer_position_x|killer_position_y|    map|            match_id|time|    victim_name|victim_placement|victim_position_x|victim_position_y|\n",
      "+------------+----------------+----------------+-----------------+-----------------+-------+--------------------+----+---------------+----------------+-----------------+-----------------+\n",
      "|     Grenade| KrazyPortuguese|             5.0|         657725.1|         146275.2|MIRAMAR|2U4GBNA0YmnLSqvEy...| 823|KrazyPortuguese|             5.0|         657725.1|         146275.2|\n",
      "|      SCAR-L|nide2Bxiaojiejie|            31.0|         93091.37|         722236.4|MIRAMAR|2U4GBNA0YmnLSqvEy...| 194|    X3evolution|            33.0|         92238.68|         723375.1|\n",
      "|        S686|        Ascholes|            43.0|         366921.4|         421623.9|MIRAMAR|2U4GBNA0YmnLSqvEy...| 103|        CtrlZee|            46.0|         367304.5|         421216.1|\n",
      "|Down and Out|      Weirdo7777|             9.0|         472014.2|         313274.8|MIRAMAR|2U4GBNA0YmnLSqvEy...|1018|      BlackDpre|            13.0|         476645.9|         316758.4|\n",
      "|        M416|       Solayuki1|             9.0|         473357.8|         318340.5|MIRAMAR|2U4GBNA0YmnLSqvEy...|1018|          Vjolt|            13.0|         473588.5|         318418.8|\n",
      "|       Punch|   xuezhiqian717|            26.0|         721944.4|         359575.3|MIRAMAR|2U4GBNA0YmnLSqvEy...| 123| PurplePenguin9|            47.0|              0.0|              0.0|\n",
      "|         AKM|       pdfjkkvjk|            12.0|         376333.8|         317858.9|MIRAMAR|2U4GBNA0YmnLSqvEy...| 886|     JoeyJoeman|            15.0|         372808.3|         297124.2|\n",
      "|        S686|       xiaogao13|            27.0|         373125.3|         433540.6|MIRAMAR|2U4GBNA0YmnLSqvEy...| 137|         BNOISE|            38.0|         373125.8|         433608.8|\n",
      "|        S686|       Jingchita|            40.0|         370990.6|         424074.5|MIRAMAR|2U4GBNA0YmnLSqvEy...|  89|    OmGiTzPauly|            47.0|         370761.1|         423662.1|\n",
      "|         AKM|    Alexande-999|            25.0|         368799.3|         420810.2|MIRAMAR|2U4GBNA0YmnLSqvEy...| 117|       Ascholes|            43.0|         368015.0|         421322.6|\n",
      "|       Punch|    NameLessisME|             8.0|         434351.8|         278681.6|MIRAMAR|2U4GBNA0YmnLSqvEy...| 165|       Haten-Gu|            28.0|         434383.5|         278608.1|\n",
      "|         P92|      Daerljgodi|            20.0|         365983.6|         439563.8|MIRAMAR|2U4GBNA0YmnLSqvEy...| 111|      BigBeefyy|            38.0|         366246.5|         439890.6|\n",
      "|        S686|        JoyFeng-|             3.0|         363435.6|         423069.7|MIRAMAR|2U4GBNA0YmnLSqvEy...| 406|   WalrusInHeat|            23.0|         363666.7|         423256.1|\n",
      "|        M416|    NameLessisME|             8.0|         374980.3|         293019.5|MIRAMAR|2U4GBNA0YmnLSqvEy...| 883|     Dinostoned|            15.0|         375053.3|         293151.7|\n",
      "|Down and Out|   UrGrandFather|            14.0|         535680.8|         368517.3|MIRAMAR|2U4GBNA0YmnLSqvEy...| 751|          Pis22|            null|         533947.6|         366812.6|\n",
      "|       Punch|   xuezhiqian717|            26.0|         725042.3|         361510.1|MIRAMAR|2U4GBNA0YmnLSqvEy...| 139|  patrickmoneyy|            47.0|              0.0|              0.0|\n",
      "|       Win94|   FantasticBoys|             2.0|         384599.4|         437149.5|MIRAMAR|2U4GBNA0YmnLSqvEy...| 127|     ImSoPhamcy|            42.0|         383677.7|         443822.2|\n",
      "|        M416|       PPPIGFEET|            26.0|         363133.9|         430829.4|MIRAMAR|2U4GBNA0YmnLSqvEy...| 229|     Northidaho|            30.0|         363109.9|         430999.2|\n",
      "|       M16A4|       EnGliSh22|             5.0|         582324.7|         251006.2|MIRAMAR|2U4GBNA0YmnLSqvEy...|1181|     BuckFutt22|            11.0|         584332.7|         252824.0|\n",
      "|        S12K|        Bookinga|            44.0|         371186.5|         423791.3|MIRAMAR|2U4GBNA0YmnLSqvEy...|  97|      BergerBoi|            47.0|         371092.2|         423650.7|\n",
      "+------------+----------------+----------------+-----------------+-----------------+-------+--------------------+----+---------------+----------------+-----------------+-----------------+\n",
      "only showing top 20 rows\n",
      "\n"
     ]
    }
   ],
   "source": [
    "df.show()"
   ]
  },
  {
   "cell_type": "code",
   "execution_count": null,
   "metadata": {},
   "outputs": [],
   "source": []
  },
  {
   "cell_type": "code",
   "execution_count": 8,
   "metadata": {},
   "outputs": [],
   "source": [
    "key = \"map\"\n",
    "df1 = df.select(key).groupBy(key).count().sort(desc(\"count\"))\n",
    "rlis = df1.limit(5).select(key).collect()\n",
    "rlis\n",
    "total = df1.count()"
   ]
  },
  {
   "cell_type": "code",
   "execution_count": 9,
   "metadata": {},
   "outputs": [
    {
     "data": {
      "text/plain": [
       "StructType(List(StructField(killed_by,StringType,true),StructField(map,StringType,true)))"
      ]
     },
     "execution_count": 9,
     "metadata": {},
     "output_type": "execute_result"
    }
   ],
   "source": [
    "\n",
    "input_columns = [\"killed_by\", \"map\"]\n",
    "df.select(input_columns).schema"
   ]
  },
  {
   "cell_type": "code",
   "execution_count": 6,
   "metadata": {},
   "outputs": [
    {
     "name": "stdout",
     "output_type": "stream",
     "text": [
      "Key: killed_by\n",
      "length:6\n",
      "Key: map\n",
      "length:3\n"
     ]
    }
   ],
   "source": [
    "from pyspark.ml.feature import OneHotEncoder\n",
    "from pyspark.ml.feature import StringIndexer, StringIndexerModel\n",
    "from pyspark.sql.functions import col, when,desc\n",
    "import pyspark.sql.functions as F\n",
    "from pyspark.sql.functions import udf\n",
    "\n",
    "cap = 5\n",
    "\n",
    "\n",
    "\n",
    "input_columns = [\"killed_by\", \"map\"]\n",
    "idx_cols = [x+'_idx' for x in input_columns]\n",
    "vec_cols = [y+'_vec' for y in input_columns]\n",
    "\n",
    "\n",
    "    \n",
    "input_arrays = {}\n",
    "\n",
    "for key in input_columns:\n",
    "    print(f\"Key: {key}\")\n",
    "    key_df = df.select(key).groupBy(key).count().sort(desc(\"count\"))\n",
    "    row_list = key_df.limit(cap).select(key).collect()\n",
    "    total_count = key_df.count()\n",
    "    _array = [row[0] for row in row_list]\n",
    "    if total_count>cap:\n",
    "        _array.append(\"OTHER\")\n",
    "    print(f\"length:{len(_array)}\")\n",
    "    input_arrays[key] = _array \n",
    "\n"
   ]
  },
  {
   "cell_type": "code",
   "execution_count": 7,
   "metadata": {},
   "outputs": [
    {
     "name": "stdout",
     "output_type": "stream",
     "text": [
      "+---------+-------+-------------+-------+\n",
      "|killed_by|    map|killed_by_idx|map_idx|\n",
      "+---------+-------+-------------+-------+\n",
      "|  Grenade|MIRAMAR|          6.0|    1.0|\n",
      "|   SCAR-L|MIRAMAR|          2.0|    1.0|\n",
      "|     S686|MIRAMAR|          6.0|    1.0|\n",
      "+---------+-------+-------------+-------+\n",
      "only showing top 3 rows\n",
      "\n"
     ]
    }
   ],
   "source": [
    "# Indexer\n",
    "\n",
    "def index_cols(row):\n",
    "    print(row)\n",
    "    new_val_list = []\n",
    "    for z in input_columns:\n",
    "        val = float(len(input_arrays[z]))\n",
    "        if row[z] in input_arrays[z]:\n",
    "            val = float(input_arrays[z].index(row[z]))\n",
    "        new_val_list.append(val)\n",
    "        \n",
    "    x = tuple(map(lambda x: row[x], row.__fields__)) + tuple(new_val_list)\n",
    "    print(x)\n",
    "    return x\n",
    "    \n",
    "\n",
    "\n",
    "new_idx_cols = df.columns + idx_cols\n",
    "newdf = df.rdd.map(index_cols).toDF(new_idx_cols)\n",
    "\n",
    "newdf.select(input_columns + idx_cols).show(3)"
   ]
  },
  {
   "cell_type": "code",
   "execution_count": 16,
   "metadata": {},
   "outputs": [
    {
     "data": {
      "text/plain": [
       "{'killed_by': ['Down and Out', 'M416', 'SCAR-L', 'M16A4', 'AKM'],\n",
       " 'map': ['ERANGEL', 'MIRAMAR', None]}"
      ]
     },
     "execution_count": 16,
     "metadata": {},
     "output_type": "execute_result"
    }
   ],
   "source": [
    "input_arrays"
   ]
  },
  {
   "cell_type": "code",
   "execution_count": 6,
   "metadata": {},
   "outputs": [
    {
     "data": {
      "text/plain": [
       "['killed_by_Down and Out',\n",
       " 'killed_by_M416',\n",
       " 'killed_by_SCAR-L',\n",
       " 'killed_by_M16A4',\n",
       " 'killed_by_AKM',\n",
       " 'killed_by_OTHER',\n",
       " 'map_ERANGEL',\n",
       " 'map_MIRAMAR',\n",
       " 'map_None',\n",
       " 'map_OTHER']"
      ]
     },
     "execution_count": 6,
     "metadata": {},
     "output_type": "execute_result"
    }
   ],
   "source": []
  },
  {
   "cell_type": "code",
   "execution_count": 6,
   "metadata": {},
   "outputs": [
    {
     "name": "stdout",
     "output_type": "stream",
     "text": [
      "+---------+-------+----------------------+--------------+----------------+---------------+-------------+---------------+-----------+-----------+--------+\n",
      "|killed_by|    map|killed_by_Down and Out|killed_by_M416|killed_by_SCAR-L|killed_by_M16A4|killed_by_AKM|killed_by_OTHER|map_ERANGEL|map_MIRAMAR|map_None|\n",
      "+---------+-------+----------------------+--------------+----------------+---------------+-------------+---------------+-----------+-----------+--------+\n",
      "|  Grenade|MIRAMAR|                     0|             0|               0|              0|            0|              1|          0|          1|       0|\n",
      "|   SCAR-L|MIRAMAR|                     0|             0|               1|              0|            0|              0|          0|          1|       0|\n",
      "|     S686|MIRAMAR|                     0|             0|               0|              0|            0|              1|          0|          1|       0|\n",
      "+---------+-------+----------------------+--------------+----------------+---------------+-------------+---------------+-----------+-----------+--------+\n",
      "only showing top 3 rows\n",
      "\n"
     ]
    }
   ],
   "source": [
    "# Custom onehot\n",
    "\n",
    "\n",
    "\n",
    "def index_cols(row):\n",
    "    print(row)\n",
    "    new_val_list = []\n",
    "    for z in input_columns:\n",
    "        res = []\n",
    "        for val in range(0, len(input_arrays[z]) - 1):\n",
    "            res.append(0)\n",
    "        index = len(input_arrays[z])-1\n",
    "        if row[z] in input_arrays[z]:\n",
    "            index = input_arrays[z].index(row[z])\n",
    "        res.insert(index, 1)\n",
    "        new_val_list.extend(res)\n",
    "        \n",
    "    x = tuple(map(lambda x: row[x], row.__fields__)) + tuple(new_val_list)\n",
    "    print(x)\n",
    "    return x\n",
    "    \n",
    "\n",
    "new_oh_cols = []\n",
    "for z in input_columns:\n",
    "    new_oh_cols.extend([z +'_'+ str(ohc) for ohc in input_arrays[z]])\n",
    "\n",
    "\n",
    "new_idx_cols = df.columns + new_oh_cols\n",
    "newdf = df.rdd.map(index_cols).toDF(new_idx_cols)\n",
    "\n",
    "newdf.select(input_columns + new_oh_cols).show(3)"
   ]
  },
  {
   "cell_type": "code",
   "execution_count": null,
   "metadata": {},
   "outputs": [],
   "source": [
    "\n",
    "# \"killed_by\", \"map\", \"killer_name\"   \"killed_by_idx\", \"map_idx\", \"killer_name_idx\" \n",
    " \n",
    "# indexed = StringIndexerModel.from_arrays_of_labels(input_arrays,inputCols=input_columns,outputCols=idx_cols,handleInvalid='keep').transform(df)\n",
    "# str_indexer = StringIndexer(inputCols=input_columns, outputCols=idx_cols, handleInvalid=\"keep\")\n",
    "# indexer = str_indexer.fit(df)\n",
    "# indexed = indexer.transform(df)\n",
    "indexed.select(idx_cols).show()"
   ]
  },
  {
   "cell_type": "code",
   "execution_count": 8,
   "metadata": {},
   "outputs": [
    {
     "name": "stdout",
     "output_type": "stream",
     "text": [
      "+------------+----------------+----------------+-----------------+-----------------+-------+--------------------+----+---------------+----------------+-----------------+-----------------+-------------+-------+-------------+-------------+\n",
      "|   killed_by|     killer_name|killer_placement|killer_position_x|killer_position_y|    map|            match_id|time|    victim_name|victim_placement|victim_position_x|victim_position_y|killed_by_idx|map_idx|killed_by_vec|      map_vec|\n",
      "+------------+----------------+----------------+-----------------+-----------------+-------+--------------------+----+---------------+----------------+-----------------+-----------------+-------------+-------+-------------+-------------+\n",
      "|     Grenade| KrazyPortuguese|             5.0|         657725.1|         146275.2|MIRAMAR|2U4GBNA0YmnLSqvEy...| 823|KrazyPortuguese|             5.0|         657725.1|         146275.2|          6.0|    1.0|(8,[6],[1.0])|(4,[1],[1.0])|\n",
      "|      SCAR-L|nide2Bxiaojiejie|            31.0|         93091.37|         722236.4|MIRAMAR|2U4GBNA0YmnLSqvEy...| 194|    X3evolution|            33.0|         92238.68|         723375.1|          2.0|    1.0|(8,[2],[1.0])|(4,[1],[1.0])|\n",
      "|        S686|        Ascholes|            43.0|         366921.4|         421623.9|MIRAMAR|2U4GBNA0YmnLSqvEy...| 103|        CtrlZee|            46.0|         367304.5|         421216.1|          6.0|    1.0|(8,[6],[1.0])|(4,[1],[1.0])|\n",
      "|Down and Out|      Weirdo7777|             9.0|         472014.2|         313274.8|MIRAMAR|2U4GBNA0YmnLSqvEy...|1018|      BlackDpre|            13.0|         476645.9|         316758.4|          0.0|    1.0|(8,[0],[1.0])|(4,[1],[1.0])|\n",
      "|        M416|       Solayuki1|             9.0|         473357.8|         318340.5|MIRAMAR|2U4GBNA0YmnLSqvEy...|1018|          Vjolt|            13.0|         473588.5|         318418.8|          1.0|    1.0|(8,[1],[1.0])|(4,[1],[1.0])|\n",
      "|       Punch|   xuezhiqian717|            26.0|         721944.4|         359575.3|MIRAMAR|2U4GBNA0YmnLSqvEy...| 123| PurplePenguin9|            47.0|              0.0|              0.0|          6.0|    1.0|(8,[6],[1.0])|(4,[1],[1.0])|\n",
      "|         AKM|       pdfjkkvjk|            12.0|         376333.8|         317858.9|MIRAMAR|2U4GBNA0YmnLSqvEy...| 886|     JoeyJoeman|            15.0|         372808.3|         297124.2|          4.0|    1.0|(8,[4],[1.0])|(4,[1],[1.0])|\n",
      "|        S686|       xiaogao13|            27.0|         373125.3|         433540.6|MIRAMAR|2U4GBNA0YmnLSqvEy...| 137|         BNOISE|            38.0|         373125.8|         433608.8|          6.0|    1.0|(8,[6],[1.0])|(4,[1],[1.0])|\n",
      "|        S686|       Jingchita|            40.0|         370990.6|         424074.5|MIRAMAR|2U4GBNA0YmnLSqvEy...|  89|    OmGiTzPauly|            47.0|         370761.1|         423662.1|          6.0|    1.0|(8,[6],[1.0])|(4,[1],[1.0])|\n",
      "|         AKM|    Alexande-999|            25.0|         368799.3|         420810.2|MIRAMAR|2U4GBNA0YmnLSqvEy...| 117|       Ascholes|            43.0|         368015.0|         421322.6|          4.0|    1.0|(8,[4],[1.0])|(4,[1],[1.0])|\n",
      "|       Punch|    NameLessisME|             8.0|         434351.8|         278681.6|MIRAMAR|2U4GBNA0YmnLSqvEy...| 165|       Haten-Gu|            28.0|         434383.5|         278608.1|          6.0|    1.0|(8,[6],[1.0])|(4,[1],[1.0])|\n",
      "|         P92|      Daerljgodi|            20.0|         365983.6|         439563.8|MIRAMAR|2U4GBNA0YmnLSqvEy...| 111|      BigBeefyy|            38.0|         366246.5|         439890.6|          6.0|    1.0|(8,[6],[1.0])|(4,[1],[1.0])|\n",
      "|        S686|        JoyFeng-|             3.0|         363435.6|         423069.7|MIRAMAR|2U4GBNA0YmnLSqvEy...| 406|   WalrusInHeat|            23.0|         363666.7|         423256.1|          6.0|    1.0|(8,[6],[1.0])|(4,[1],[1.0])|\n",
      "|        M416|    NameLessisME|             8.0|         374980.3|         293019.5|MIRAMAR|2U4GBNA0YmnLSqvEy...| 883|     Dinostoned|            15.0|         375053.3|         293151.7|          1.0|    1.0|(8,[1],[1.0])|(4,[1],[1.0])|\n",
      "|Down and Out|   UrGrandFather|            14.0|         535680.8|         368517.3|MIRAMAR|2U4GBNA0YmnLSqvEy...| 751|          Pis22|            null|         533947.6|         366812.6|          0.0|    1.0|(8,[0],[1.0])|(4,[1],[1.0])|\n",
      "|       Punch|   xuezhiqian717|            26.0|         725042.3|         361510.1|MIRAMAR|2U4GBNA0YmnLSqvEy...| 139|  patrickmoneyy|            47.0|              0.0|              0.0|          6.0|    1.0|(8,[6],[1.0])|(4,[1],[1.0])|\n",
      "|       Win94|   FantasticBoys|             2.0|         384599.4|         437149.5|MIRAMAR|2U4GBNA0YmnLSqvEy...| 127|     ImSoPhamcy|            42.0|         383677.7|         443822.2|          6.0|    1.0|(8,[6],[1.0])|(4,[1],[1.0])|\n",
      "|        M416|       PPPIGFEET|            26.0|         363133.9|         430829.4|MIRAMAR|2U4GBNA0YmnLSqvEy...| 229|     Northidaho|            30.0|         363109.9|         430999.2|          1.0|    1.0|(8,[1],[1.0])|(4,[1],[1.0])|\n",
      "|       M16A4|       EnGliSh22|             5.0|         582324.7|         251006.2|MIRAMAR|2U4GBNA0YmnLSqvEy...|1181|     BuckFutt22|            11.0|         584332.7|         252824.0|          3.0|    1.0|(8,[3],[1.0])|(4,[1],[1.0])|\n",
      "|        S12K|        Bookinga|            44.0|         371186.5|         423791.3|MIRAMAR|2U4GBNA0YmnLSqvEy...|  97|      BergerBoi|            47.0|         371092.2|         423650.7|          6.0|    1.0|(8,[6],[1.0])|(4,[1],[1.0])|\n",
      "+------------+----------------+----------------+-----------------+-----------------+-------+--------------------+----+---------------+----------------+-----------------+-----------------+-------------+-------+-------------+-------------+\n",
      "only showing top 20 rows\n",
      "\n"
     ]
    }
   ],
   "source": [
    "one_encoder = OneHotEncoder(inputCols=[\"killed_by_idx\",\"map_idx\"], outputCols=[\"killed_by_vec\",\"map_vec\"], dropLast=False, handleInvalid=\"keep\")\n",
    "model = one_encoder.fit(newdf)\n",
    "encoded = model.transform(newdf)\n",
    "encoded.show()"
   ]
  },
  {
   "cell_type": "code",
   "execution_count": 8,
   "metadata": {},
   "outputs": [
    {
     "data": {
      "text/plain": [
       "['killed_by',\n",
       " 'killer_name',\n",
       " 'killer_placement',\n",
       " 'killer_position_x',\n",
       " 'killer_position_y',\n",
       " 'map',\n",
       " 'match_id',\n",
       " 'time',\n",
       " 'victim_name',\n",
       " 'victim_placement',\n",
       " 'victim_position_x',\n",
       " 'victim_position_y',\n",
       " 'killed_by_idx',\n",
       " 'map_idx',\n",
       " 'killed_by_vec',\n",
       " 'map_vec']"
      ]
     },
     "execution_count": 8,
     "metadata": {},
     "output_type": "execute_result"
    }
   ],
   "source": [
    "encoded.columns"
   ]
  },
  {
   "cell_type": "code",
   "execution_count": 10,
   "metadata": {},
   "outputs": [
    {
     "name": "stdout",
     "output_type": "stream",
     "text": [
      "{'ERANGEL': 0.0, None: 2.0, 'MIRAMAR': 1.0}\n"
     ]
    }
   ],
   "source": [
    "\n",
    "\n",
    "colIdx = encoded.select([\"map\",\"map_idx\"]).distinct().rdd.collectAsMap()\n",
    "print(colIdx)\n",
    "colIdx =  sorted((value, \"ls_\" + str(key)) for (key, value) in colIdx.items())\n",
    "\n",
    "newCols = list(map(lambda x: x[1], colIdx))\n",
    "actualCol = encoded.columns\n",
    "allColNames = actualCol + newCols\n"
   ]
  },
  {
   "cell_type": "code",
   "execution_count": 61,
   "metadata": {},
   "outputs": [
    {
     "name": "stdout",
     "output_type": "stream",
     "text": [
      "0 ls_ERANGEL\n",
      "1 ls_MIRAMAR\n",
      "2 ls_None\n"
     ]
    }
   ],
   "source": [
    "for x,y in colIdx:\n",
    "    print(int(x),y)"
   ]
  },
  {
   "cell_type": "code",
   "execution_count": 62,
   "metadata": {},
   "outputs": [],
   "source": [
    "# from pyspark.sql.types import DoubleType\n",
    "# from pyspark.sql.functions import lit, udf\n",
    "\n",
    "# def ith_(v, i):\n",
    "#     try:\n",
    "#         return float(v[i])\n",
    "#     except ValueError:\n",
    "#         return None\n",
    "\n",
    "# ith = udf(ith_, DoubleType())\n",
    "\n",
    "\n",
    "# for x,y in colIdx:\n",
    "#     print(int(x),y)\n",
    "#     encoded.withColumn(y, ith(\"map_vec\", lit(int(x))))\n",
    "\n",
    "# encoded.show()\n"
   ]
  },
  {
   "cell_type": "code",
   "execution_count": null,
   "metadata": {},
   "outputs": [],
   "source": []
  },
  {
   "cell_type": "code",
   "execution_count": 9,
   "metadata": {},
   "outputs": [
    {
     "name": "stdout",
     "output_type": "stream",
     "text": [
      "+------------+----------------+----+--------+--------+-------+--------------------+----+---------------+----+--------+--------+---+---+-------------+-------------+---+---+---+---+\n",
      "|          _1|              _2|  _3|      _4|      _5|     _6|                  _7|  _8|             _9| _10|     _11|     _12|_13|_14|          _15|          _16|_17|_18|_19|_20|\n",
      "+------------+----------------+----+--------+--------+-------+--------------------+----+---------------+----+--------+--------+---+---+-------------+-------------+---+---+---+---+\n",
      "|     Grenade| KrazyPortuguese| 5.0|657725.1|146275.2|MIRAMAR|2U4GBNA0YmnLSqvEy...| 823|KrazyPortuguese| 5.0|657725.1|146275.2|5.0|1.0|(7,[5],[1.0])|(4,[1],[1.0])|0.0|1.0|0.0|0.0|\n",
      "|      SCAR-L|nide2Bxiaojiejie|31.0|93091.37|722236.4|MIRAMAR|2U4GBNA0YmnLSqvEy...| 194|    X3evolution|33.0|92238.68|723375.1|2.0|1.0|(7,[2],[1.0])|(4,[1],[1.0])|0.0|1.0|0.0|0.0|\n",
      "|        S686|        Ascholes|43.0|366921.4|421623.9|MIRAMAR|2U4GBNA0YmnLSqvEy...| 103|        CtrlZee|46.0|367304.5|421216.1|5.0|1.0|(7,[5],[1.0])|(4,[1],[1.0])|0.0|1.0|0.0|0.0|\n",
      "|Down and Out|      Weirdo7777| 9.0|472014.2|313274.8|MIRAMAR|2U4GBNA0YmnLSqvEy...|1018|      BlackDpre|13.0|476645.9|316758.4|0.0|1.0|(7,[0],[1.0])|(4,[1],[1.0])|0.0|1.0|0.0|0.0|\n",
      "|        M416|       Solayuki1| 9.0|473357.8|318340.5|MIRAMAR|2U4GBNA0YmnLSqvEy...|1018|          Vjolt|13.0|473588.5|318418.8|1.0|1.0|(7,[1],[1.0])|(4,[1],[1.0])|0.0|1.0|0.0|0.0|\n",
      "|       Punch|   xuezhiqian717|26.0|721944.4|359575.3|MIRAMAR|2U4GBNA0YmnLSqvEy...| 123| PurplePenguin9|47.0|     0.0|     0.0|5.0|1.0|(7,[5],[1.0])|(4,[1],[1.0])|0.0|1.0|0.0|0.0|\n",
      "|         AKM|       pdfjkkvjk|12.0|376333.8|317858.9|MIRAMAR|2U4GBNA0YmnLSqvEy...| 886|     JoeyJoeman|15.0|372808.3|297124.2|4.0|1.0|(7,[4],[1.0])|(4,[1],[1.0])|0.0|1.0|0.0|0.0|\n",
      "|        S686|       xiaogao13|27.0|373125.3|433540.6|MIRAMAR|2U4GBNA0YmnLSqvEy...| 137|         BNOISE|38.0|373125.8|433608.8|5.0|1.0|(7,[5],[1.0])|(4,[1],[1.0])|0.0|1.0|0.0|0.0|\n",
      "|        S686|       Jingchita|40.0|370990.6|424074.5|MIRAMAR|2U4GBNA0YmnLSqvEy...|  89|    OmGiTzPauly|47.0|370761.1|423662.1|5.0|1.0|(7,[5],[1.0])|(4,[1],[1.0])|0.0|1.0|0.0|0.0|\n",
      "|         AKM|    Alexande-999|25.0|368799.3|420810.2|MIRAMAR|2U4GBNA0YmnLSqvEy...| 117|       Ascholes|43.0|368015.0|421322.6|4.0|1.0|(7,[4],[1.0])|(4,[1],[1.0])|0.0|1.0|0.0|0.0|\n",
      "|       Punch|    NameLessisME| 8.0|434351.8|278681.6|MIRAMAR|2U4GBNA0YmnLSqvEy...| 165|       Haten-Gu|28.0|434383.5|278608.1|5.0|1.0|(7,[5],[1.0])|(4,[1],[1.0])|0.0|1.0|0.0|0.0|\n",
      "|         P92|      Daerljgodi|20.0|365983.6|439563.8|MIRAMAR|2U4GBNA0YmnLSqvEy...| 111|      BigBeefyy|38.0|366246.5|439890.6|5.0|1.0|(7,[5],[1.0])|(4,[1],[1.0])|0.0|1.0|0.0|0.0|\n",
      "|        S686|        JoyFeng-| 3.0|363435.6|423069.7|MIRAMAR|2U4GBNA0YmnLSqvEy...| 406|   WalrusInHeat|23.0|363666.7|423256.1|5.0|1.0|(7,[5],[1.0])|(4,[1],[1.0])|0.0|1.0|0.0|0.0|\n",
      "|        M416|    NameLessisME| 8.0|374980.3|293019.5|MIRAMAR|2U4GBNA0YmnLSqvEy...| 883|     Dinostoned|15.0|375053.3|293151.7|1.0|1.0|(7,[1],[1.0])|(4,[1],[1.0])|0.0|1.0|0.0|0.0|\n",
      "|Down and Out|   UrGrandFather|14.0|535680.8|368517.3|MIRAMAR|2U4GBNA0YmnLSqvEy...| 751|          Pis22|null|533947.6|366812.6|0.0|1.0|(7,[0],[1.0])|(4,[1],[1.0])|0.0|1.0|0.0|0.0|\n",
      "|       Punch|   xuezhiqian717|26.0|725042.3|361510.1|MIRAMAR|2U4GBNA0YmnLSqvEy...| 139|  patrickmoneyy|47.0|     0.0|     0.0|5.0|1.0|(7,[5],[1.0])|(4,[1],[1.0])|0.0|1.0|0.0|0.0|\n",
      "|       Win94|   FantasticBoys| 2.0|384599.4|437149.5|MIRAMAR|2U4GBNA0YmnLSqvEy...| 127|     ImSoPhamcy|42.0|383677.7|443822.2|5.0|1.0|(7,[5],[1.0])|(4,[1],[1.0])|0.0|1.0|0.0|0.0|\n",
      "|        M416|       PPPIGFEET|26.0|363133.9|430829.4|MIRAMAR|2U4GBNA0YmnLSqvEy...| 229|     Northidaho|30.0|363109.9|430999.2|1.0|1.0|(7,[1],[1.0])|(4,[1],[1.0])|0.0|1.0|0.0|0.0|\n",
      "|       M16A4|       EnGliSh22| 5.0|582324.7|251006.2|MIRAMAR|2U4GBNA0YmnLSqvEy...|1181|     BuckFutt22|11.0|584332.7|252824.0|3.0|1.0|(7,[3],[1.0])|(4,[1],[1.0])|0.0|1.0|0.0|0.0|\n",
      "|        S12K|        Bookinga|44.0|371186.5|423791.3|MIRAMAR|2U4GBNA0YmnLSqvEy...|  97|      BergerBoi|47.0|371092.2|423650.7|5.0|1.0|(7,[5],[1.0])|(4,[1],[1.0])|0.0|1.0|0.0|0.0|\n",
      "+------------+----------------+----+--------+--------+-------+--------------------+----+---------------+----+--------+--------+---+---+-------------+-------------+---+---+---+---+\n",
      "only showing top 20 rows\n",
      "\n"
     ]
    }
   ],
   "source": [
    "def extract(row):\n",
    "    print(row)\n",
    "    x = tuple(map(lambda x: row[x], row.__fields__)) + tuple(row.map_vec.toArray().tolist())\n",
    "    print(x)\n",
    "    return x\n",
    "\n",
    "result = encoded.rdd.map(extract).toDF()\n",
    "result.show()"
   ]
  },
  {
   "cell_type": "code",
   "execution_count": 11,
   "metadata": {},
   "outputs": [
    {
     "ename": "IllegalArgumentException",
     "evalue": "requirement failed: The number of columns doesn't match.\nOld column names (20): _1, _2, _3, _4, _5, _6, _7, _8, _9, _10, _11, _12, _13, _14, _15, _16, _17, _18, _19, _20\nNew column names (19): killed_by, killer_name, killer_placement, killer_position_x, killer_position_y, map, match_id, time, victim_name, victim_placement, victim_position_x, victim_position_y, killed_by_idx, map_idx, killed_by_vec, map_vec, ls_ERANGEL, ls_MIRAMAR, ls_None",
     "output_type": "error",
     "traceback": [
      "\u001b[0;31m---------------------------------------------------------------------------\u001b[0m",
      "\u001b[0;31mIllegalArgumentException\u001b[0m                  Traceback (most recent call last)",
      "\u001b[0;32m<ipython-input-11-7d12121eb58c>\u001b[0m in \u001b[0;36m<module>\u001b[0;34m\u001b[0m\n\u001b[0;32m----> 1\u001b[0;31m \u001b[0mresult2\u001b[0m \u001b[0;34m=\u001b[0m \u001b[0mresult\u001b[0m\u001b[0;34m.\u001b[0m\u001b[0mtoDF\u001b[0m\u001b[0;34m(\u001b[0m\u001b[0;34m*\u001b[0m\u001b[0mallColNames\u001b[0m\u001b[0;34m)\u001b[0m\u001b[0;34m\u001b[0m\u001b[0;34m\u001b[0m\u001b[0m\n\u001b[0m",
      "\u001b[0;32m~/spark-3.0.0-bin-hadoop3.2/python/pyspark/sql/dataframe.py\u001b[0m in \u001b[0;36mtoDF\u001b[0;34m(self, *cols)\u001b[0m\n\u001b[1;32m   2159\u001b[0m         \u001b[0;34m[\u001b[0m\u001b[0mRow\u001b[0m\u001b[0;34m(\u001b[0m\u001b[0mf1\u001b[0m\u001b[0;34m=\u001b[0m\u001b[0;36m2\u001b[0m\u001b[0;34m,\u001b[0m \u001b[0mf2\u001b[0m\u001b[0;34m=\u001b[0m\u001b[0;34mu'Alice'\u001b[0m\u001b[0;34m)\u001b[0m\u001b[0;34m,\u001b[0m \u001b[0mRow\u001b[0m\u001b[0;34m(\u001b[0m\u001b[0mf1\u001b[0m\u001b[0;34m=\u001b[0m\u001b[0;36m5\u001b[0m\u001b[0;34m,\u001b[0m \u001b[0mf2\u001b[0m\u001b[0;34m=\u001b[0m\u001b[0;34mu'Bob'\u001b[0m\u001b[0;34m)\u001b[0m\u001b[0;34m]\u001b[0m\u001b[0;34m\u001b[0m\u001b[0;34m\u001b[0m\u001b[0m\n\u001b[1;32m   2160\u001b[0m         \"\"\"\n\u001b[0;32m-> 2161\u001b[0;31m         \u001b[0mjdf\u001b[0m \u001b[0;34m=\u001b[0m \u001b[0mself\u001b[0m\u001b[0;34m.\u001b[0m\u001b[0m_jdf\u001b[0m\u001b[0;34m.\u001b[0m\u001b[0mtoDF\u001b[0m\u001b[0;34m(\u001b[0m\u001b[0mself\u001b[0m\u001b[0;34m.\u001b[0m\u001b[0m_jseq\u001b[0m\u001b[0;34m(\u001b[0m\u001b[0mcols\u001b[0m\u001b[0;34m)\u001b[0m\u001b[0;34m)\u001b[0m\u001b[0;34m\u001b[0m\u001b[0;34m\u001b[0m\u001b[0m\n\u001b[0m\u001b[1;32m   2162\u001b[0m         \u001b[0;32mreturn\u001b[0m \u001b[0mDataFrame\u001b[0m\u001b[0;34m(\u001b[0m\u001b[0mjdf\u001b[0m\u001b[0;34m,\u001b[0m \u001b[0mself\u001b[0m\u001b[0;34m.\u001b[0m\u001b[0msql_ctx\u001b[0m\u001b[0;34m)\u001b[0m\u001b[0;34m\u001b[0m\u001b[0;34m\u001b[0m\u001b[0m\n\u001b[1;32m   2163\u001b[0m \u001b[0;34m\u001b[0m\u001b[0m\n",
      "\u001b[0;32m/Library/Frameworks/Python.framework/Versions/3.7/lib/python3.7/site-packages/py4j/java_gateway.py\u001b[0m in \u001b[0;36m__call__\u001b[0;34m(self, *args)\u001b[0m\n\u001b[1;32m   1255\u001b[0m         \u001b[0manswer\u001b[0m \u001b[0;34m=\u001b[0m \u001b[0mself\u001b[0m\u001b[0;34m.\u001b[0m\u001b[0mgateway_client\u001b[0m\u001b[0;34m.\u001b[0m\u001b[0msend_command\u001b[0m\u001b[0;34m(\u001b[0m\u001b[0mcommand\u001b[0m\u001b[0;34m)\u001b[0m\u001b[0;34m\u001b[0m\u001b[0;34m\u001b[0m\u001b[0m\n\u001b[1;32m   1256\u001b[0m         return_value = get_return_value(\n\u001b[0;32m-> 1257\u001b[0;31m             answer, self.gateway_client, self.target_id, self.name)\n\u001b[0m\u001b[1;32m   1258\u001b[0m \u001b[0;34m\u001b[0m\u001b[0m\n\u001b[1;32m   1259\u001b[0m         \u001b[0;32mfor\u001b[0m \u001b[0mtemp_arg\u001b[0m \u001b[0;32min\u001b[0m \u001b[0mtemp_args\u001b[0m\u001b[0;34m:\u001b[0m\u001b[0;34m\u001b[0m\u001b[0;34m\u001b[0m\u001b[0m\n",
      "\u001b[0;32m~/spark-3.0.0-bin-hadoop3.2/python/pyspark/sql/utils.py\u001b[0m in \u001b[0;36mdeco\u001b[0;34m(*a, **kw)\u001b[0m\n\u001b[1;32m    135\u001b[0m                 \u001b[0;31m# Hide where the exception came from that shows a non-Pythonic\u001b[0m\u001b[0;34m\u001b[0m\u001b[0;34m\u001b[0m\u001b[0;34m\u001b[0m\u001b[0m\n\u001b[1;32m    136\u001b[0m                 \u001b[0;31m# JVM exception message.\u001b[0m\u001b[0;34m\u001b[0m\u001b[0;34m\u001b[0m\u001b[0;34m\u001b[0m\u001b[0m\n\u001b[0;32m--> 137\u001b[0;31m                 \u001b[0mraise_from\u001b[0m\u001b[0;34m(\u001b[0m\u001b[0mconverted\u001b[0m\u001b[0;34m)\u001b[0m\u001b[0;34m\u001b[0m\u001b[0;34m\u001b[0m\u001b[0m\n\u001b[0m\u001b[1;32m    138\u001b[0m             \u001b[0;32melse\u001b[0m\u001b[0;34m:\u001b[0m\u001b[0;34m\u001b[0m\u001b[0;34m\u001b[0m\u001b[0m\n\u001b[1;32m    139\u001b[0m                 \u001b[0;32mraise\u001b[0m\u001b[0;34m\u001b[0m\u001b[0;34m\u001b[0m\u001b[0m\n",
      "\u001b[0;32m~/spark-3.0.0-bin-hadoop3.2/python/pyspark/sql/utils.py\u001b[0m in \u001b[0;36mraise_from\u001b[0;34m(e)\u001b[0m\n",
      "\u001b[0;31mIllegalArgumentException\u001b[0m: requirement failed: The number of columns doesn't match.\nOld column names (20): _1, _2, _3, _4, _5, _6, _7, _8, _9, _10, _11, _12, _13, _14, _15, _16, _17, _18, _19, _20\nNew column names (19): killed_by, killer_name, killer_placement, killer_position_x, killer_position_y, map, match_id, time, victim_name, victim_placement, victim_position_x, victim_position_y, killed_by_idx, map_idx, killed_by_vec, map_vec, ls_ERANGEL, ls_MIRAMAR, ls_None"
     ]
    }
   ],
   "source": [
    "result2 = result.toDF(*allColNames)\n"
   ]
  },
  {
   "cell_type": "code",
   "execution_count": null,
   "metadata": {},
   "outputs": [],
   "source": [
    "result2.show()"
   ]
  },
  {
   "cell_type": "code",
   "execution_count": null,
   "metadata": {},
   "outputs": [],
   "source": []
  }
 ],
 "metadata": {
  "kernelspec": {
   "display_name": "Python 3",
   "language": "python",
   "name": "python3"
  },
  "language_info": {
   "codemirror_mode": {
    "name": "ipython",
    "version": 3
   },
   "file_extension": ".py",
   "mimetype": "text/x-python",
   "name": "python",
   "nbconvert_exporter": "python",
   "pygments_lexer": "ipython3",
   "version": "3.7.5"
  }
 },
 "nbformat": 4,
 "nbformat_minor": 4
}
