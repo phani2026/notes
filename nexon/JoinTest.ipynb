{
 "cells": [
  {
   "cell_type": "code",
   "execution_count": 1,
   "metadata": {},
   "outputs": [],
   "source": [
    "import pyspark\n",
    "from operator import add, sub\n",
    "from time import sleep\n",
    "from pyspark import SparkContext\n",
    "from pyspark.streaming import StreamingContext\n",
    "from pyspark.sql import SparkSession\n",
    "from pyspark.sql.functions import *\n",
    "from pyspark.sql.types import *\n",
    "from pyspark.streaming.kafka import KafkaUtils\n",
    "import json\n",
    "from pyspark import SparkContext, SparkConf\n"
   ]
  },
  {
   "cell_type": "code",
   "execution_count": 4,
   "metadata": {},
   "outputs": [],
   "source": [
    "# conf = SparkConf().set(\"spark.jars\", \"/path-to-jar/spark-streaming-kafka-0-8-assembly_2.11-2.2.1.jar\")\n",
    "\n",
    "# sc = SparkContext( conf=conf)\n",
    "# spark = SparkSession.builder.appName('my_awes').master(\"spark://bphani.local:7077\").config(\"spark.jars\", \"/Users/phaneendra/Downloads/spark-sql-kafka-0-10_2.11-2.4.4.jar,/Users/phaneendra/Downloads/kafka-clients-2.4.0.jar\").getOrCreate()\n",
    "spark = SparkSession.builder.appName('my_awes').master(\"local\").config(\"spark.jars\", \"/Users/phaneendra/Downloads/spark-sql-kafka-0-10_2.11-2.4.4.jar,/Users/phaneendra/Downloads/kafka-clients-2.4.0.jar\").getOrCreate()\n",
    "\n"
   ]
  },
  {
   "cell_type": "code",
   "execution_count": 2,
   "metadata": {},
   "outputs": [],
   "source": [
    "agg_match_stats = '/Users/phaneendra/Downloads/agg_match_stats_0.csv'\n",
    "kill_match_stats = '/Users/phaneendra/Downloads/kill_match_stats_final_0.csv'"
   ]
  },
  {
   "cell_type": "code",
   "execution_count": 5,
   "metadata": {},
   "outputs": [
    {
     "name": "stdout",
     "output_type": "stream",
     "text": [
      "StructType(List(StructField(date,StringType,true),StructField(game_size,IntegerType,true),StructField(match_id,StringType,true),StructField(match_mode,StringType,true),StructField(party_size,IntegerType,true),StructField(player_assists,IntegerType,true),StructField(player_dbno,IntegerType,true),StructField(player_dist_ride,DoubleType,true),StructField(player_dist_walk,DoubleType,true),StructField(player_dmg,IntegerType,true),StructField(player_kills,IntegerType,true),StructField(player_name,StringType,true),StructField(player_survive_time,DoubleType,true),StructField(team_id,IntegerType,true),StructField(team_placement,IntegerType,true)))\n",
      "StructType(List(StructField(killed_by,StringType,true),StructField(killer_name,StringType,true),StructField(killer_placement,DoubleType,true),StructField(killer_position_x,DoubleType,true),StructField(killer_position_y,DoubleType,true),StructField(map,StringType,true),StructField(match_id,StringType,true),StructField(time,IntegerType,true),StructField(victim_name,StringType,true),StructField(victim_placement,DoubleType,true),StructField(victim_position_x,DoubleType,true),StructField(victim_position_y,DoubleType,true)))\n"
     ]
    }
   ],
   "source": [
    "adf = spark.read.csv(agg_match_stats, inferSchema=True, header=True)\n",
    "kdf = spark.read.csv(kill_match_stats, inferSchema=True, header=True)\n",
    "print(adf.schema)\n",
    "print(kdf.schema)"
   ]
  },
  {
   "cell_type": "code",
   "execution_count": 6,
   "metadata": {},
   "outputs": [
    {
     "name": "stdout",
     "output_type": "stream",
     "text": [
      "+--------------------+---------+--------------------+----------+----------+--------------+-----------+------------------+------------------+----------+------------+--------------+-------------------+-------+--------------+\n",
      "|                date|game_size|            match_id|match_mode|party_size|player_assists|player_dbno|  player_dist_ride|  player_dist_walk|player_dmg|player_kills|   player_name|player_survive_time|team_id|team_placement|\n",
      "+--------------------+---------+--------------------+----------+----------+--------------+-----------+------------------+------------------+----------+------------+--------------+-------------------+-------+--------------+\n",
      "|2017-11-26T20:59:...|       37|2U4GBNA0YmnNZYkzj...|       tpp|         2|             0|          1|          2870.724|        1784.84778|       117|           1|      SnuffIes|            1106.32|      4|            18|\n",
      "|2017-11-26T20:59:...|       37|2U4GBNA0YmnNZYkzj...|       tpp|         2|             0|          1|2938.4072300000003|1756.0797100000002|       127|           1|        Ozon3r|           1106.315|      4|            18|\n",
      "|2017-11-26T20:59:...|       37|2U4GBNA0YmnNZYkzj...|       tpp|         2|             0|          0|               0.0|        224.157562|        67|           0|        bovize|            235.558|      5|            33|\n",
      "|2017-11-26T20:59:...|       37|2U4GBNA0YmnNZYkzj...|       tpp|         2|             0|          0|               0.0|          92.93515|         0|           0|       sbahn87|            197.553|      5|            33|\n",
      "|2017-11-26T20:59:...|       37|2U4GBNA0YmnNZYkzj...|       tpp|         2|             0|          0|        2619.07739|          2510.447|       175|           2|     GeminiZZZ|           1537.495|     14|            11|\n",
      "|2017-11-26T20:59:...|       37|2U4GBNA0YmnNZYkzj...|       tpp|         2|             0|          0|         2896.3125|        2167.93213|        65|           0|      AlexWho6|             1537.5|     14|            11|\n",
      "|2017-11-26T20:59:...|       37|2U4GBNA0YmnNZYkzj...|       tpp|         2|             0|          0|               0.0|        3118.58032|         0|           0|    R1dd1ck913|           1264.792|     15|            17|\n",
      "|2017-11-26T20:59:...|       37|2U4GBNA0YmnNZYkzj...|       tpp|         2|             0|          0|               0.0|          3237.202|         0|           0|     Emmylou89|           1264.795|     15|            17|\n",
      "|2017-11-26T20:59:...|       37|2U4GBNA0YmnNZYkzj...|       tpp|         2|             0|          0|               0.0|         1552.3147|        79|           0|         ron-n|             868.56|     17|            24|\n",
      "|2017-11-26T20:59:...|       37|2U4GBNA0YmnNZYkzj...|       tpp|         2|             0|          1|               0.0|         1450.3147|       101|           1|       SoSpicy|            868.555|     17|            24|\n",
      "|2017-11-26T20:59:...|       37|2U4GBNA0YmnNZYkzj...|       tpp|         2|             0|          1|        2406.55469|        3100.02124|        54|           1|   MatthiasXIV|           1939.846|     22|             4|\n",
      "|2017-11-26T20:59:...|       37|2U4GBNA0YmnNZYkzj...|       tpp|         2|             0|          0|        3135.38647|2456.2775899999997|        34|           0|      Ninjapex|           1939.851|     22|             4|\n",
      "|2017-11-26T20:59:...|       37|2U4GBNA0YmnNZYkzj...|       tpp|         2|             0|          0|               0.0|        55.2714539|         0|           0|    thebrewski|             160.64|     24|            34|\n",
      "|2017-11-26T20:59:...|       37|2U4GBNA0YmnNZYkzj...|       tpp|         2|             0|          1|               0.0|          129.4159|       215|           2|GucciManeDrain| 180.90099999999998|     24|            34|\n",
      "|2017-11-26T20:59:...|       37|2U4GBNA0YmnNZYkzj...|       tpp|         2|             0|          0|          2418.547|        2474.08887|        75|           1|      subzero3|           2181.815|     25|             2|\n",
      "|2017-11-26T20:59:...|       37|2U4GBNA0YmnNZYkzj...|       tpp|         2|             0|          0|1277.5805699999999|        3286.67114|        84|           1|       Chogo82|            2181.82|     25|             2|\n",
      "|2017-11-26T20:59:...|       37|2U4GBNA0YmnNZYkzj...|       tpp|         2|             0|          0|               0.0|          2057.258|         0|           0|    FIYMNBVCXZ| 1583.1570000000002|     26|             3|\n",
      "|2017-11-26T20:59:...|       37|2U4GBNA0YmnNZYkzj...|       tpp|         2|             0|          4|               0.0|        3285.94385|       673|           6|     ShuLanHou| 2009.7220000000002|     26|             3|\n",
      "|2017-11-26T20:59:...|       37|2U4GBNA0YmnNZYkzj...|       tpp|         2|             0|          0|               0.0|        1522.11768|       117|           1|         sigbo| 1032.6480000000001|     29|            20|\n",
      "|2017-11-26T20:59:...|       37|2U4GBNA0YmnNZYkzj...|       tpp|         2|             0|          1|               0.0|        1078.95581|       100|           1|       Jerryxp|            513.487|     29|            20|\n",
      "+--------------------+---------+--------------------+----------+----------+--------------+-----------+------------------+------------------+----------+------------+--------------+-------------------+-------+--------------+\n",
      "only showing top 20 rows\n",
      "\n",
      "None\n"
     ]
    }
   ],
   "source": [
    "print(adf.show())"
   ]
  },
  {
   "cell_type": "code",
   "execution_count": null,
   "metadata": {},
   "outputs": [],
   "source": [
    "\n",
    "\n",
    "\n",
    "        \n",
    "    "
   ]
  },
  {
   "cell_type": "code",
   "execution_count": null,
   "metadata": {},
   "outputs": [],
   "source": [
    "x.columns"
   ]
  },
  {
   "cell_type": "code",
   "execution_count": null,
   "metadata": {},
   "outputs": [],
   "source": [
    "adf.columns"
   ]
  },
  {
   "cell_type": "code",
   "execution_count": null,
   "metadata": {},
   "outputs": [],
   "source": [
    "print(adf.columns)\n",
    "print(kdf.columns)\n",
    "print(str(adf.schema.json()))"
   ]
  },
  {
   "cell_type": "code",
   "execution_count": null,
   "metadata": {},
   "outputs": [],
   "source": [
    "adf.createOrReplaceTempView('adf')\n",
    "kdf.createOrReplaceTempView('kdf')"
   ]
  },
  {
   "cell_type": "code",
   "execution_count": null,
   "metadata": {},
   "outputs": [],
   "source": [
    "kdf.show()"
   ]
  },
  {
   "cell_type": "code",
   "execution_count": null,
   "metadata": {},
   "outputs": [],
   "source": [
    "sql_query = \"SELECT l.*, r.killed_by from adf l JOIN kdf r ON l.`match_id` = r.`match_id` and l.player_name=r.victim_name  \"\n",
    "join_df = spark.sql(sql_query)"
   ]
  },
  {
   "cell_type": "code",
   "execution_count": null,
   "metadata": {},
   "outputs": [],
   "source": [
    "join_df.show()"
   ]
  },
  {
   "cell_type": "code",
   "execution_count": null,
   "metadata": {},
   "outputs": [],
   "source": [
    "join_df.count()"
   ]
  },
  {
   "cell_type": "code",
   "execution_count": null,
   "metadata": {},
   "outputs": [],
   "source": [
    "import pandas as pd\n",
    "\n",
    "padf = pd.read_csv(agg_match_stats)\n",
    "pkdf = pd.read_csv(kill_match_stats)"
   ]
  },
  {
   "cell_type": "code",
   "execution_count": null,
   "metadata": {},
   "outputs": [],
   "source": [
    "pjoin_df = pd.merge(padf, pkdf, how='inner', left_on=['match_id', 'player_name'], right_on=['match_id', 'victim_name'])"
   ]
  },
  {
   "cell_type": "code",
   "execution_count": null,
   "metadata": {},
   "outputs": [],
   "source": [
    "len(pjoin_df)"
   ]
  },
  {
   "cell_type": "code",
   "execution_count": null,
   "metadata": {},
   "outputs": [],
   "source": []
  },
  {
   "cell_type": "code",
   "execution_count": null,
   "metadata": {},
   "outputs": [],
   "source": []
  },
  {
   "cell_type": "code",
   "execution_count": null,
   "metadata": {},
   "outputs": [],
   "source": []
  },
  {
   "cell_type": "code",
   "execution_count": null,
   "metadata": {},
   "outputs": [],
   "source": []
  },
  {
   "cell_type": "code",
   "execution_count": null,
   "metadata": {},
   "outputs": [],
   "source": [
    "# val mySchema = StructType(Array(\n",
    "#  StructField(\"id\", IntegerType),\n",
    "#  StructField(\"name\", StringType),\n",
    "#  StructField(\"year\", IntegerType),\n",
    "#  StructField(\"rating\", DoubleType),\n",
    "#  StructField(\"duration\", IntegerType)\n",
    "# ))\n",
    "movie_schema = StructType().add(\"id\", \"integer\")\\\n",
    ".add(\"name\", \"string\").add(\"year\", \"integer\").add(\"rating\", \"double\").add(\"duration\", \"integer\")\n",
    "\n",
    "\n",
    "\n",
    "df = spark.read.schema(movie_schema).csv('/Users/phaneendra/Downloads/moviedata.csv', inferSchema=True, header=True)"
   ]
  },
  {
   "cell_type": "code",
   "execution_count": null,
   "metadata": {},
   "outputs": [],
   "source": [
    "from pyspark.sql import functions as F\n",
    "\n",
    "newDf2 = df.withColumn(\"value\", F.to_json(F.struct([F.when(F.col(x)!=\"  \",df[x]).otherwise(None).alias(x) for x in df.columns])))\n",
    "newDf2.show(truncate=False)"
   ]
  },
  {
   "cell_type": "code",
   "execution_count": null,
   "metadata": {},
   "outputs": [],
   "source": [
    "newDf2.columns"
   ]
  },
  {
   "cell_type": "code",
   "execution_count": null,
   "metadata": {},
   "outputs": [],
   "source": [
    "#Worked\n",
    "newDf2.selectExpr(\"CAST(year AS INTEGER)\", \"CAST(value AS STRING)\") \\\n",
    "  .write \\\n",
    "  .format(\"kafka\") \\\n",
    "  .option(\"kafka.bootstrap.servers\", \"localhost:9092\") \\\n",
    "  .option(\"topic\", \"test_kafka_spark\") \\\n",
    "  .save()\n",
    "\n"
   ]
  },
  {
   "cell_type": "code",
   "execution_count": null,
   "metadata": {},
   "outputs": [],
   "source": [
    "#Worked\n",
    "newDf2.selectExpr(\"CAST(year AS STRING) AS key\", \"to_json(struct(*)) AS value\") \\\n",
    "  .write \\\n",
    "  .format(\"kafka\") \\\n",
    "  .option(\"kafka.bootstrap.servers\", \"localhost:9092\") \\\n",
    "  .option(\"topic\", \"test_kafka_spark_2\") \\\n",
    "  .save()"
   ]
  },
  {
   "cell_type": "code",
   "execution_count": null,
   "metadata": {},
   "outputs": [],
   "source": [
    "#Try for SalesRecords\n",
    "\n",
    "sdf = spark.read.csv('/Users/phaneendra/Downloads/100000SalesRecords.csv', inferSchema=True, header=True)\n",
    "sdf.columns"
   ]
  },
  {
   "cell_type": "code",
   "execution_count": null,
   "metadata": {},
   "outputs": [],
   "source": [
    "sdf.selectExpr(\"CAST(Region AS STRING) AS key\", \"to_json(struct(*)) AS value\") \\\n",
    "  .write \\\n",
    "  .format(\"kafka\") \\\n",
    "  .option(\"kafka.bootstrap.servers\", \"localhost:9092\") \\\n",
    "  .option(\"topic\", \"test_kafka_spark_3\") \\\n",
    "  .save()"
   ]
  },
  {
   "cell_type": "code",
   "execution_count": null,
   "metadata": {},
   "outputs": [],
   "source": []
  },
  {
   "cell_type": "code",
   "execution_count": null,
   "metadata": {},
   "outputs": [],
   "source": [
    "dft1 = spark.readStream.format(\"kafka\").option(\"kafka.bootstrap.servers\", \"localhost:9092\").option(\"subscribe\", \"topic-one\").option(\"startingOffsets\", \"latest\").load()\n",
    "\n"
   ]
  },
  {
   "cell_type": "code",
   "execution_count": null,
   "metadata": {},
   "outputs": [],
   "source": [
    "dft1.writeStream.format(\"kafka\").option(\"topic\", \"topic-one\").option(\"kafka.bootstrap.servers\", \"localhost:9092\").option(\"checkpointLocation\",\"/tmp/\").start()\n",
    "\n",
    "\n"
   ]
  },
  {
   "cell_type": "code",
   "execution_count": null,
   "metadata": {},
   "outputs": [],
   "source": []
  },
  {
   "cell_type": "code",
   "execution_count": null,
   "metadata": {},
   "outputs": [],
   "source": []
  },
  {
   "cell_type": "code",
   "execution_count": null,
   "metadata": {},
   "outputs": [],
   "source": [
    "prob_schema = StructType().add(\"CUST_ID\", \"string\").add(\"OUTBUFFER__1\", \"string\")\n",
    "# Read CSV files from set path\n",
    "dfCSV = spark.readStream.option(\"sep\", \",\").option(\"header\", \"true\").schema(prob_schema).csv(\"/Users/phaneendra/Downloads/prob*.csv\")\n"
   ]
  },
  {
   "cell_type": "code",
   "execution_count": null,
   "metadata": {},
   "outputs": [],
   "source": [
    "dfCSV.createOrReplaceTempView(\"prob\")\n",
    "total = spark.sql(\"select count(CUST_ID) from prob\")\n"
   ]
  },
  {
   "cell_type": "code",
   "execution_count": null,
   "metadata": {},
   "outputs": [],
   "source": [
    "dfCSV \\\n",
    ".write  \\\n",
    ".format(\"kafka\") \\\n",
    ".option(\"kafka.batch.size\", 5000) \\\n",
    ".option(\"kafka.bootstrap.servers\", \"localhost:9092\") \\\n",
    ".option(\"kafka.request.timeout.ms\", 120000) \\\n",
    ".option(\"topic\", \"raw\") \\\n",
    ".option(\"checkpointLocation\", \"/mnt/telemetry/cp.txt\") \\\n",
    ".save()"
   ]
  },
  {
   "cell_type": "code",
   "execution_count": null,
   "metadata": {},
   "outputs": [],
   "source": [
    "query = total.writeStream.outputMode(\"complete\").format(\"console\").start()\n",
    "query.awaitTermination()"
   ]
  },
  {
   "cell_type": "code",
   "execution_count": null,
   "metadata": {},
   "outputs": [],
   "source": [
    "query.close()"
   ]
  },
  {
   "cell_type": "code",
   "execution_count": null,
   "metadata": {},
   "outputs": [],
   "source": [
    "dfCSV.selectExpr(\"CAST(CUST_ID AS STRING) AS key\", \"to_json(struct(*)) AS value\").\n",
    "  writeStream\n",
    "  .format(\"kafka\")\n",
    "  .option(\"topic\", \"topic-one\")\n",
    "  .option(\"kafka.bootstrap.servers\", \"localhost:9092\")\n",
    "  .start()"
   ]
  },
  {
   "cell_type": "code",
   "execution_count": null,
   "metadata": {},
   "outputs": [],
   "source": []
  },
  {
   "cell_type": "code",
   "execution_count": null,
   "metadata": {},
   "outputs": [],
   "source": []
  },
  {
   "cell_type": "code",
   "execution_count": null,
   "metadata": {},
   "outputs": [],
   "source": []
  },
  {
   "cell_type": "code",
   "execution_count": null,
   "metadata": {},
   "outputs": [],
   "source": []
  },
  {
   "cell_type": "code",
   "execution_count": null,
   "metadata": {},
   "outputs": [],
   "source": []
  },
  {
   "cell_type": "code",
   "execution_count": null,
   "metadata": {},
   "outputs": [],
   "source": []
  },
  {
   "cell_type": "code",
   "execution_count": null,
   "metadata": {},
   "outputs": [],
   "source": []
  }
 ],
 "metadata": {
  "kernelspec": {
   "display_name": "Python 3",
   "language": "python",
   "name": "python3"
  },
  "language_info": {
   "codemirror_mode": {
    "name": "ipython",
    "version": 3
   },
   "file_extension": ".py",
   "mimetype": "text/x-python",
   "name": "python",
   "nbconvert_exporter": "python",
   "pygments_lexer": "ipython3",
   "version": "3.7.5"
  }
 },
 "nbformat": 4,
 "nbformat_minor": 4
}
