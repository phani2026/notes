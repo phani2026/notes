{
 "cells": [
  {
   "cell_type": "code",
   "execution_count": 1,
   "metadata": {},
   "outputs": [],
   "source": [
    "import os\n",
    "# os.environ['APP_HOST'] = 'http://192.168.60.25:8005'\n",
    "os.environ['USER_ID'] = 'abbd86d4-d3c0-48d4-be5a-a6cefd22002b'\n",
    "os.environ['PROJECT_ID'] = '9d9bca30-a314-4f93-b9c2-f368a0b0135b'\n",
    "os.environ['TENANT_ID'] = 'cb7d3189-7b2d-4d72-951f-a70a79931f52'\n",
    "\n",
    "import sys\n",
    "sys.version\n",
    "sys.path.append('/Users/phaneendra/IdeaProjects/razor-sdk')"
   ]
  },
  {
   "cell_type": "code",
   "execution_count": 2,
   "metadata": {},
   "outputs": [
    {
     "name": "stdout",
     "output_type": "stream",
     "text": [
      "Couldn't setup host configurations. You may not be running this in the platform's Jupyter\n",
      "Failed to load configuration file. Using default configs\n"
     ]
    }
   ],
   "source": [
    "from razor import Block, Pipeline, inputs, outputs"
   ]
  },
  {
   "cell_type": "code",
   "execution_count": 3,
   "metadata": {},
   "outputs": [
    {
     "data": {
      "image/svg+xml": [
       "<svg height=\"126pt\" viewBox=\"0.00 0.00 175.11 126.00\" width=\"175pt\" xmlns=\"http://www.w3.org/2000/svg\" xmlns:xlink=\"http://www.w3.org/1999/xlink\">\n",
       "<g class=\"graph\" id=\"graph0\" transform=\"scale(1 1) rotate(0) translate(4 122)\">\n",
       "<title>%3</title>\n",
       "<polygon fill=\"white\" points=\"-4,4 -4,-122 171.11,-122 171.11,4 -4,4\" stroke=\"transparent\"/>\n",
       "<!-- (CSVWriter) hima_csv_writer -->\n",
       "<g class=\"node\" id=\"node1\">\n",
       "<title>(CSVWriter) hima_csv_writer</title>\n",
       "<ellipse cx=\"83.56\" cy=\"-18\" fill=\"none\" rx=\"83.61\" ry=\"18\" stroke=\"black\"/>\n",
       "<text font-family=\"Helvetica,sans-Serif\" font-size=\"10.00\" text-anchor=\"middle\" x=\"83.56\" y=\"-15\">(CSVWriter) hima_csv_writer</text>\n",
       "</g>\n",
       "<!-- (DataLoader) DataLoader_1 -->\n",
       "<g class=\"node\" id=\"node2\">\n",
       "<title>(DataLoader) DataLoader_1</title>\n",
       "<ellipse cx=\"83.56\" cy=\"-100\" fill=\"none\" rx=\"81.41\" ry=\"18\" stroke=\"black\"/>\n",
       "<text font-family=\"Helvetica,sans-Serif\" font-size=\"10.00\" text-anchor=\"middle\" x=\"83.56\" y=\"-97\">(DataLoader) DataLoader_1</text>\n",
       "</g>\n",
       "<!-- (DataLoader) DataLoader_1&#45;&gt;(CSVWriter) hima_csv_writer -->\n",
       "<g class=\"edge\" id=\"edge1\">\n",
       "<title>(DataLoader) DataLoader_1-&gt;(CSVWriter) hima_csv_writer</title>\n",
       "<path d=\"M83.56,-81.64C83.56,-71.3 83.56,-57.94 83.56,-46.22\" fill=\"none\" stroke=\"black\"/>\n",
       "<polygon fill=\"black\" points=\"87.06,-46.05 83.56,-36.05 80.06,-46.05 87.06,-46.05\" stroke=\"black\"/>\n",
       "<text font-family=\"Helvetica,sans-Serif\" font-size=\"10.00\" text-anchor=\"middle\" x=\"110.39\" y=\"-56\">data-&gt;data1</text>\n",
       "</g>\n",
       "</g>\n",
       "</svg>"
      ],
      "text/plain": [
       "<IPython.core.display.SVG object>"
      ]
     },
     "metadata": {},
     "output_type": "display_data"
    }
   ],
   "source": [
    "import numpy as np\n",
    "from razor import Block, inputs, outputs, Pipeline\n",
    "from razor.platform import project_space_path\n",
    "\n",
    "@inputs.atomic.generic(name=\"load_path\")\n",
    "@outputs.series.generic(\"data\")\n",
    "class DataLoader(Block):\n",
    "    def run(self, load_path, data):\n",
    "        for i in range(4):\n",
    "            data.put({\"input_buffer\": np.ones([298, 298, 3]).astype(float), \"label_buffer\": np.ones(1).astype(np.float32)})\n",
    "\n",
    "\n",
    "\n",
    "@inputs.series.generic(\"data1\")\n",
    "@inputs.atomic.generic(\"path\")\n",
    "class CSVWriter(Block):\n",
    "    def run(self, path, data1):\n",
    "        print(f\"path is: {path}\")\n",
    "        import os\n",
    "        import pandas as pd\n",
    "        print(f\"path for ===::: ::: {project_space_path(path)}\")\n",
    "        if os.path.exists(project_space_path(path)):\n",
    "            os.remove(project_space_path(path))\n",
    "        for batch in data1:\n",
    "            print(f\"batch is {batch}\")\n",
    "\n",
    "train_loader = DataLoader()\n",
    "csv_writer = CSVWriter(\"hima_csv_writer\").path(\"hub_engine.csv\").data1(train_loader.data)\n",
    "\n",
    "pipeline = Pipeline(targets=[csv_writer], name=\"hima_pipeline\")\n",
    "pipeline.show()\n",
    "\n"
   ]
  },
  {
   "cell_type": "code",
   "execution_count": 4,
   "metadata": {},
   "outputs": [],
   "source": [
    "import razor\n",
    "deployed_pipeline= razor.platform.engines(name='Engine-1-dev1').execute(pipeline=pipeline)"
   ]
  },
  {
   "cell_type": "code",
   "execution_count": null,
   "metadata": {},
   "outputs": [],
   "source": []
  },
  {
   "cell_type": "code",
   "execution_count": 5,
   "metadata": {},
   "outputs": [
    {
     "name": "stdout",
     "output_type": "stream",
     "text": [
      "Pipeline Progress: [####################] 100.0% - Success\n"
     ]
    },
    {
     "data": {
      "text/html": [
       "\n",
       "<div id=\"altair-viz-2be66e798709435fb697b28aeacc72bb\"></div>\n",
       "<script type=\"text/javascript\">\n",
       "  (function(spec, embedOpt){\n",
       "    let outputDiv = document.currentScript.previousElementSibling;\n",
       "    if (outputDiv.id !== \"altair-viz-2be66e798709435fb697b28aeacc72bb\") {\n",
       "      outputDiv = document.getElementById(\"altair-viz-2be66e798709435fb697b28aeacc72bb\");\n",
       "    }\n",
       "    const paths = {\n",
       "      \"vega\": \"https://cdn.jsdelivr.net/npm//vega@5?noext\",\n",
       "      \"vega-lib\": \"https://cdn.jsdelivr.net/npm//vega-lib?noext\",\n",
       "      \"vega-lite\": \"https://cdn.jsdelivr.net/npm//vega-lite@4.8.1?noext\",\n",
       "      \"vega-embed\": \"https://cdn.jsdelivr.net/npm//vega-embed@6?noext\",\n",
       "    };\n",
       "\n",
       "    function loadScript(lib) {\n",
       "      return new Promise(function(resolve, reject) {\n",
       "        var s = document.createElement('script');\n",
       "        s.src = paths[lib];\n",
       "        s.async = true;\n",
       "        s.onload = () => resolve(paths[lib]);\n",
       "        s.onerror = () => reject(`Error loading script: ${paths[lib]}`);\n",
       "        document.getElementsByTagName(\"head\")[0].appendChild(s);\n",
       "      });\n",
       "    }\n",
       "\n",
       "    function showError(err) {\n",
       "      outputDiv.innerHTML = `<div class=\"error\" style=\"color:red;\">${err}</div>`;\n",
       "      throw err;\n",
       "    }\n",
       "\n",
       "    function displayChart(vegaEmbed) {\n",
       "      vegaEmbed(outputDiv, spec, embedOpt)\n",
       "        .catch(err => showError(`Javascript Error: ${err.message}<br>This usually means there's a typo in your chart specification. See the javascript console for the full traceback.`));\n",
       "    }\n",
       "\n",
       "    if(typeof define === \"function\" && define.amd) {\n",
       "      requirejs.config({paths});\n",
       "      require([\"vega-embed\"], displayChart, err => showError(`Error loading script: ${err.message}`));\n",
       "    } else if (typeof vegaEmbed === \"function\") {\n",
       "      displayChart(vegaEmbed);\n",
       "    } else {\n",
       "      loadScript(\"vega\")\n",
       "        .then(() => loadScript(\"vega-lite\"))\n",
       "        .then(() => loadScript(\"vega-embed\"))\n",
       "        .catch(showError)\n",
       "        .then(() => displayChart(vegaEmbed));\n",
       "    }\n",
       "  })({\"config\": {\"view\": {\"continuousWidth\": 400, \"continuousHeight\": 300}}, \"vconcat\": [{\"hconcat\": [{\"data\": {\"name\": \"data-21214d0030e905a8925a3c1f50303fa3\"}, \"mark\": {\"type\": \"line\", \"point\": true}, \"encoding\": {\"color\": {\"type\": \"nominal\", \"field\": \"y_label\", \"legend\": {\"columns\": 1, \"orient\": \"bottom\"}}, \"x\": {\"type\": \"ordinal\", \"field\": \"x\", \"title\": \"TIME( milliseconds )\"}, \"y\": {\"type\": \"quantitative\", \"field\": \"y\", \"scale\": {\"zero\": false}, \"title\": \"CPU(16) %\"}}, \"height\": 300, \"title\": {\"text\": \"CPU vs TIME of Block: DataLoader_1\", \"frame\": \"group\"}, \"width\": 300}, {\"data\": {\"name\": \"data-b8933e890ffd8ca53b09bced13b59ef9\"}, \"mark\": {\"type\": \"line\", \"point\": true}, \"encoding\": {\"color\": {\"type\": \"nominal\", \"field\": \"y_label\", \"legend\": {\"columns\": 1, \"orient\": \"bottom\"}}, \"x\": {\"type\": \"ordinal\", \"field\": \"x\", \"title\": \"TIME( milliseconds )\"}, \"y\": {\"type\": \"quantitative\", \"field\": \"y\", \"scale\": {\"zero\": false}, \"title\": \"Memory(16)\"}}, \"height\": 300, \"title\": {\"text\": \"MEMORY vs TIME of Block: DataLoader_1\", \"frame\": \"group\"}, \"width\": 300}, {\"data\": {\"name\": \"data-367dcc1a1a1e762a50eaa9318673f31d\"}, \"mark\": {\"type\": \"line\", \"point\": true}, \"encoding\": {\"color\": {\"type\": \"nominal\", \"field\": \"y_label\", \"legend\": {\"columns\": 1, \"orient\": \"bottom\"}}, \"x\": {\"type\": \"ordinal\", \"field\": \"x\", \"title\": \"TIME( milliseconds )\"}, \"y\": {\"type\": \"quantitative\", \"field\": \"y\", \"scale\": {\"zero\": false}, \"title\": \"NUMBER OF RECORDS PRODUCED\"}}, \"height\": 300, \"title\": {\"text\": \"IO METRICS of Block: DataLoader_1\", \"frame\": \"group\"}, \"width\": 300}], \"resolve\": {\"scale\": {\"color\": \"independent\"}}}, {\"hconcat\": [{\"data\": {\"name\": \"data-3f391ed14d8d075342bcba1ddca22b70\"}, \"mark\": {\"type\": \"line\", \"point\": true}, \"encoding\": {\"color\": {\"type\": \"nominal\", \"field\": \"y_label\", \"legend\": {\"columns\": 1, \"orient\": \"bottom\"}}, \"x\": {\"type\": \"ordinal\", \"field\": \"x\", \"title\": \"TIME( milliseconds )\"}, \"y\": {\"type\": \"quantitative\", \"field\": \"y\", \"scale\": {\"zero\": false}, \"title\": \"CPU(16) %\"}}, \"height\": 300, \"title\": {\"text\": \"CPU vs TIME of Block: hima_csv_writer\", \"frame\": \"group\"}, \"width\": 300}, {\"data\": {\"name\": \"data-05a080aae31b83c20c37acb80d025971\"}, \"mark\": {\"type\": \"line\", \"point\": true}, \"encoding\": {\"color\": {\"type\": \"nominal\", \"field\": \"y_label\", \"legend\": {\"columns\": 1, \"orient\": \"bottom\"}}, \"x\": {\"type\": \"ordinal\", \"field\": \"x\", \"title\": \"TIME( milliseconds )\"}, \"y\": {\"type\": \"quantitative\", \"field\": \"y\", \"scale\": {\"zero\": false}, \"title\": \"Memory(16)\"}}, \"height\": 300, \"title\": {\"text\": \"MEMORY vs TIME of Block: hima_csv_writer\", \"frame\": \"group\"}, \"width\": 300}, {\"data\": {\"name\": \"data-7274347c1399d25cf44d76440f97784e\"}, \"mark\": {\"type\": \"line\", \"point\": true}, \"encoding\": {\"color\": {\"type\": \"nominal\", \"field\": \"y_label\", \"legend\": {\"columns\": 1, \"orient\": \"bottom\"}}, \"x\": {\"type\": \"ordinal\", \"field\": \"x\", \"title\": \"TIME( milliseconds )\"}, \"y\": {\"type\": \"quantitative\", \"field\": \"y\", \"scale\": {\"zero\": false}, \"title\": \"NUMBER OF RECORDS CONSUMED\"}}, \"height\": 300, \"title\": {\"text\": \"IO METRICS of Block: hima_csv_writer\", \"frame\": \"group\"}, \"width\": 300}], \"resolve\": {\"scale\": {\"color\": \"independent\"}}}], \"$schema\": \"https://vega.github.io/schema/vega-lite/v4.8.1.json\", \"datasets\": {\"data-21214d0030e905a8925a3c1f50303fa3\": [{\"y\": 0.0, \"y_label\": \"CPU(16) %\", \"x\": 0.0, \"x_label\": \"TIME\", \"x_type\": \"DATE\", \"y_type\": \"FLOAT\"}, {\"y\": 45.0, \"y_label\": \"CPU(16) %\", \"x\": 113.0, \"x_label\": \"TIME\", \"x_type\": \"DATE\", \"y_type\": \"FLOAT\"}, {\"y\": 17.2, \"y_label\": \"CPU(16) %\", \"x\": 215.0, \"x_label\": \"TIME\", \"x_type\": \"DATE\", \"y_type\": \"FLOAT\"}, {\"y\": 48.8, \"y_label\": \"CPU(16) %\", \"x\": 320.0, \"x_label\": \"TIME\", \"x_type\": \"DATE\", \"y_type\": \"FLOAT\"}, {\"y\": 43.0, \"y_label\": \"CPU(16) %\", \"x\": 437.0, \"x_label\": \"TIME\", \"x_type\": \"DATE\", \"y_type\": \"FLOAT\"}, {\"y\": 45.4, \"y_label\": \"CPU(16) %\", \"x\": 538.0, \"x_label\": \"TIME\", \"x_type\": \"DATE\", \"y_type\": \"FLOAT\"}, {\"y\": 54.5, \"y_label\": \"CPU(16) %\", \"x\": 621.0, \"x_label\": \"TIME\", \"x_type\": \"DATE\", \"y_type\": \"FLOAT\"}, {\"y\": 50.1, \"y_label\": \"CPU(16) %\", \"x\": 699.0, \"x_label\": \"TIME\", \"x_type\": \"DATE\", \"y_type\": \"FLOAT\"}, {\"y\": 47.9, \"y_label\": \"CPU(16) %\", \"x\": 784.0, \"x_label\": \"TIME\", \"x_type\": \"DATE\", \"y_type\": \"FLOAT\"}, {\"y\": 57.0, \"y_label\": \"CPU(16) %\", \"x\": 293.0, \"x_label\": \"TIME\", \"x_type\": \"DATE\", \"y_type\": \"FLOAT\"}, {\"y\": 79.5, \"y_label\": \"CPU(16) %\", \"x\": 375.0, \"x_label\": \"TIME\", \"x_type\": \"DATE\", \"y_type\": \"FLOAT\"}, {\"y\": 83.8, \"y_label\": \"CPU(16) %\", \"x\": 473.0, \"x_label\": \"TIME\", \"x_type\": \"DATE\", \"y_type\": \"FLOAT\"}, {\"y\": 66.7, \"y_label\": \"CPU(16) %\", \"x\": 552.0, \"x_label\": \"TIME\", \"x_type\": \"DATE\", \"y_type\": \"FLOAT\"}, {\"y\": 60.9, \"y_label\": \"CPU(16) %\", \"x\": 636.0, \"x_label\": \"TIME\", \"x_type\": \"DATE\", \"y_type\": \"FLOAT\"}, {\"y\": 40.3, \"y_label\": \"CPU(16) %\", \"x\": 702.0, \"x_label\": \"TIME\", \"x_type\": \"DATE\", \"y_type\": \"FLOAT\"}, {\"y\": 2.8, \"y_label\": \"CPU(16) %\", \"x\": 779.0, \"x_label\": \"TIME\", \"x_type\": \"DATE\", \"y_type\": \"FLOAT\"}, {\"y\": 7.4, \"y_label\": \"CPU(16) %\", \"x\": 855.0, \"x_label\": \"TIME\", \"x_type\": \"DATE\", \"y_type\": \"FLOAT\"}], \"data-b8933e890ffd8ca53b09bced13b59ef9\": [{\"y\": 41226240.0, \"y_label\": \"Memory(16)\", \"x\": 0.0, \"x_label\": \"TIME\", \"x_type\": \"DATE\", \"y_type\": \"FLOAT\"}, {\"y\": 62070784.0, \"y_label\": \"Memory(16)\", \"x\": 113.0, \"x_label\": \"TIME\", \"x_type\": \"DATE\", \"y_type\": \"FLOAT\"}, {\"y\": 62070784.0, \"y_label\": \"Memory(16)\", \"x\": 215.0, \"x_label\": \"TIME\", \"x_type\": \"DATE\", \"y_type\": \"FLOAT\"}, {\"y\": 86790144.0, \"y_label\": \"Memory(16)\", \"x\": 320.0, \"x_label\": \"TIME\", \"x_type\": \"DATE\", \"y_type\": \"FLOAT\"}, {\"y\": 99524608.0, \"y_label\": \"Memory(16)\", \"x\": 437.0, \"x_label\": \"TIME\", \"x_type\": \"DATE\", \"y_type\": \"FLOAT\"}, {\"y\": 111407104.0, \"y_label\": \"Memory(16)\", \"x\": 538.0, \"x_label\": \"TIME\", \"x_type\": \"DATE\", \"y_type\": \"FLOAT\"}, {\"y\": 126664704.0, \"y_label\": \"Memory(16)\", \"x\": 621.0, \"x_label\": \"TIME\", \"x_type\": \"DATE\", \"y_type\": \"FLOAT\"}, {\"y\": 142987264.0, \"y_label\": \"Memory(16)\", \"x\": 699.0, \"x_label\": \"TIME\", \"x_type\": \"DATE\", \"y_type\": \"FLOAT\"}, {\"y\": 151879680.0, \"y_label\": \"Memory(16)\", \"x\": 784.0, \"x_label\": \"TIME\", \"x_type\": \"DATE\", \"y_type\": \"FLOAT\"}, {\"y\": 253816832.0, \"y_label\": \"Memory(16)\", \"x\": 293.0, \"x_label\": \"TIME\", \"x_type\": \"DATE\", \"y_type\": \"FLOAT\"}, {\"y\": 282566656.0, \"y_label\": \"Memory(16)\", \"x\": 375.0, \"x_label\": \"TIME\", \"x_type\": \"DATE\", \"y_type\": \"FLOAT\"}, {\"y\": 310923264.0, \"y_label\": \"Memory(16)\", \"x\": 473.0, \"x_label\": \"TIME\", \"x_type\": \"DATE\", \"y_type\": \"FLOAT\"}, {\"y\": 330223616.0, \"y_label\": \"Memory(16)\", \"x\": 552.0, \"x_label\": \"TIME\", \"x_type\": \"DATE\", \"y_type\": \"FLOAT\"}, {\"y\": 338030592.0, \"y_label\": \"Memory(16)\", \"x\": 636.0, \"x_label\": \"TIME\", \"x_type\": \"DATE\", \"y_type\": \"FLOAT\"}, {\"y\": 360308736.0, \"y_label\": \"Memory(16)\", \"x\": 702.0, \"x_label\": \"TIME\", \"x_type\": \"DATE\", \"y_type\": \"FLOAT\"}, {\"y\": 364695552.0, \"y_label\": \"Memory(16)\", \"x\": 779.0, \"x_label\": \"TIME\", \"x_type\": \"DATE\", \"y_type\": \"FLOAT\"}, {\"y\": 354594816.0, \"y_label\": \"Memory(16)\", \"x\": 855.0, \"x_label\": \"TIME\", \"x_type\": \"DATE\", \"y_type\": \"FLOAT\"}], \"data-367dcc1a1a1e762a50eaa9318673f31d\": [{\"y\": 5, \"y_label\": \"NUMBER OF RECORDS PRODUCED\", \"x\": 0.0, \"x_label\": \"TIME\", \"x_type\": \"DATE\", \"y_type\": \"FLOAT\"}], \"data-3f391ed14d8d075342bcba1ddca22b70\": [{\"y\": 0.0, \"y_label\": \"CPU(16) %\", \"x\": 0.0, \"x_label\": \"TIME\", \"x_type\": \"DATE\", \"y_type\": \"FLOAT\"}, {\"y\": 88.4, \"y_label\": \"CPU(16) %\", \"x\": 120.0, \"x_label\": \"TIME\", \"x_type\": \"DATE\", \"y_type\": \"FLOAT\"}, {\"y\": 96.3, \"y_label\": \"CPU(16) %\", \"x\": 241.0, \"x_label\": \"TIME\", \"x_type\": \"DATE\", \"y_type\": \"FLOAT\"}, {\"y\": 78.9, \"y_label\": \"CPU(16) %\", \"x\": 344.0, \"x_label\": \"TIME\", \"x_type\": \"DATE\", \"y_type\": \"FLOAT\"}, {\"y\": 88.1, \"y_label\": \"CPU(16) %\", \"x\": 525.0, \"x_label\": \"TIME\", \"x_type\": \"DATE\", \"y_type\": \"FLOAT\"}, {\"y\": 98.3, \"y_label\": \"CPU(16) %\", \"x\": 624.0, \"x_label\": \"TIME\", \"x_type\": \"DATE\", \"y_type\": \"FLOAT\"}, {\"y\": 93.5, \"y_label\": \"CPU(16) %\", \"x\": 703.0, \"x_label\": \"TIME\", \"x_type\": \"DATE\", \"y_type\": \"FLOAT\"}, {\"y\": 43.9, \"y_label\": \"CPU(16) %\", \"x\": 819.0, \"x_label\": \"TIME\", \"x_type\": \"DATE\", \"y_type\": \"FLOAT\"}, {\"y\": 1.9, \"y_label\": \"CPU(16) %\", \"x\": 893.0, \"x_label\": \"TIME\", \"x_type\": \"DATE\", \"y_type\": \"FLOAT\"}, {\"y\": 0.9, \"y_label\": \"CPU(16) %\", \"x\": 965.0, \"x_label\": \"TIME\", \"x_type\": \"DATE\", \"y_type\": \"FLOAT\"}, {\"y\": 1.8, \"y_label\": \"CPU(16) %\", \"x\": 65.0, \"x_label\": \"TIME\", \"x_type\": \"DATE\", \"y_type\": \"FLOAT\"}, {\"y\": 0.9, \"y_label\": \"CPU(16) %\", \"x\": 126.0, \"x_label\": \"TIME\", \"x_type\": \"DATE\", \"y_type\": \"FLOAT\"}, {\"y\": 2.8, \"y_label\": \"CPU(16) %\", \"x\": 209.0, \"x_label\": \"TIME\", \"x_type\": \"DATE\", \"y_type\": \"FLOAT\"}], \"data-05a080aae31b83c20c37acb80d025971\": [{\"y\": 41865216.0, \"y_label\": \"Memory(16)\", \"x\": 0.0, \"x_label\": \"TIME\", \"x_type\": \"DATE\", \"y_type\": \"FLOAT\"}, {\"y\": 98357248.0, \"y_label\": \"Memory(16)\", \"x\": 120.0, \"x_label\": \"TIME\", \"x_type\": \"DATE\", \"y_type\": \"FLOAT\"}, {\"y\": 129892352.0, \"y_label\": \"Memory(16)\", \"x\": 241.0, \"x_label\": \"TIME\", \"x_type\": \"DATE\", \"y_type\": \"FLOAT\"}, {\"y\": 151752704.0, \"y_label\": \"Memory(16)\", \"x\": 344.0, \"x_label\": \"TIME\", \"x_type\": \"DATE\", \"y_type\": \"FLOAT\"}, {\"y\": 269479936.0, \"y_label\": \"Memory(16)\", \"x\": 525.0, \"x_label\": \"TIME\", \"x_type\": \"DATE\", \"y_type\": \"FLOAT\"}, {\"y\": 304730112.0, \"y_label\": \"Memory(16)\", \"x\": 624.0, \"x_label\": \"TIME\", \"x_type\": \"DATE\", \"y_type\": \"FLOAT\"}, {\"y\": 334532608.0, \"y_label\": \"Memory(16)\", \"x\": 703.0, \"x_label\": \"TIME\", \"x_type\": \"DATE\", \"y_type\": \"FLOAT\"}, {\"y\": 341602304.0, \"y_label\": \"Memory(16)\", \"x\": 819.0, \"x_label\": \"TIME\", \"x_type\": \"DATE\", \"y_type\": \"FLOAT\"}, {\"y\": 341602304.0, \"y_label\": \"Memory(16)\", \"x\": 893.0, \"x_label\": \"TIME\", \"x_type\": \"DATE\", \"y_type\": \"FLOAT\"}, {\"y\": 341602304.0, \"y_label\": \"Memory(16)\", \"x\": 965.0, \"x_label\": \"TIME\", \"x_type\": \"DATE\", \"y_type\": \"FLOAT\"}, {\"y\": 341774336.0, \"y_label\": \"Memory(16)\", \"x\": 65.0, \"x_label\": \"TIME\", \"x_type\": \"DATE\", \"y_type\": \"FLOAT\"}, {\"y\": 341774336.0, \"y_label\": \"Memory(16)\", \"x\": 126.0, \"x_label\": \"TIME\", \"x_type\": \"DATE\", \"y_type\": \"FLOAT\"}, {\"y\": 341774336.0, \"y_label\": \"Memory(16)\", \"x\": 209.0, \"x_label\": \"TIME\", \"x_type\": \"DATE\", \"y_type\": \"FLOAT\"}], \"data-7274347c1399d25cf44d76440f97784e\": [{\"y\": 1, \"y_label\": \"NUMBER OF RECORDS CONSUMED\", \"x\": 0.0, \"x_label\": \"TIME\", \"x_type\": \"DATE\", \"y_type\": \"FLOAT\"}]}}, {\"mode\": \"vega-lite\"});\n",
       "</script>"
      ],
      "text/plain": [
       "alt.VConcatChart(...)"
      ]
     },
     "execution_count": 5,
     "metadata": {},
     "output_type": "execute_result"
    }
   ],
   "source": [
    "deployed_pipeline.monitor()\n",
    "\n",
    "deployed_pipeline.metrics().plot()"
   ]
  },
  {
   "cell_type": "code",
   "execution_count": 6,
   "metadata": {},
   "outputs": [
    {
     "data": {
      "text/plain": [
       "'No logs available yet. Check back again in sometime.'"
      ]
     },
     "execution_count": 6,
     "metadata": {},
     "output_type": "execute_result"
    }
   ],
   "source": [
    "deployed_pipeline.logs()"
   ]
  },
  {
   "cell_type": "code",
   "execution_count": null,
   "metadata": {},
   "outputs": [],
   "source": []
  },
  {
   "cell_type": "code",
   "execution_count": null,
   "metadata": {},
   "outputs": [],
   "source": []
  },
  {
   "cell_type": "code",
   "execution_count": 7,
   "metadata": {},
   "outputs": [],
   "source": [
    "# deployed.monitor()"
   ]
  },
  {
   "cell_type": "code",
   "execution_count": null,
   "metadata": {},
   "outputs": [],
   "source": []
  },
  {
   "cell_type": "code",
   "execution_count": null,
   "metadata": {},
   "outputs": [],
   "source": []
  }
 ],
 "metadata": {
  "kernelspec": {
   "display_name": "Python 3",
   "language": "python",
   "name": "python3"
  },
  "language_info": {
   "codemirror_mode": {
    "name": "ipython",
    "version": 3
   },
   "file_extension": ".py",
   "mimetype": "text/x-python",
   "name": "python",
   "nbconvert_exporter": "python",
   "pygments_lexer": "ipython3",
   "version": "3.7.5"
  }
 },
 "nbformat": 4,
 "nbformat_minor": 4
}
