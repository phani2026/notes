{
 "cells": [
  {
   "cell_type": "code",
   "execution_count": 1,
   "metadata": {},
   "outputs": [],
   "source": [
    "import os\n",
    "# os.environ['APP_HOST'] = 'http://192.168.60.25:8005'\n",
    "os.environ['USER_ID'] = 'abbd86d4-d3c0-48d4-be5a-a6cefd22002b'\n",
    "os.environ['PROJECT_ID'] = '9d9bca30-a314-4f93-b9c2-f368a0b0135b'\n",
    "os.environ['TENANT_ID'] = 'cb7d3189-7b2d-4d72-951f-a70a79931f52'\n",
    "\n",
    "import sys\n",
    "sys.version\n",
    "sys.path.append('/Users/phaneendra/IdeaProjects/razor-sdk')"
   ]
  },
  {
   "cell_type": "code",
   "execution_count": 2,
   "metadata": {},
   "outputs": [
    {
     "name": "stdout",
     "output_type": "stream",
     "text": [
      "Couldn't setup host configurations. You may not be running this in the platform's Jupyter\n",
      "Failed to load configuration file. Using default configs\n"
     ]
    }
   ],
   "source": [
    "def generator_function():\n",
    "    print(\"in generator\")\n",
    "    for i in range(10):\n",
    "        print(\"yielding\")\n",
    "        yield [1], [2]\n",
    "\n",
    "from razor import Pipeline, inputs, outputs, Block\n",
    "@outputs.atomic.generic('data')\n",
    "class DataGen(Block):\n",
    "    def run(self, data):\n",
    "        def data_gen():\n",
    "            import tensorflow as tf\n",
    "            print('in generator')\n",
    "            dataset = tf.data.Dataset.from_generator(generator_function, output_types=tuple([tf.float32 for i in range(2)]))\n",
    "            print('created data gen')\n",
    "            return list(dataset)\n",
    "        data.put(data_gen())\n",
    "\n",
    "\n"
   ]
  },
  {
   "cell_type": "code",
   "execution_count": 3,
   "metadata": {},
   "outputs": [],
   "source": [
    "from razor.core.blocks import ContainerExecutor\n",
    "data_gen= DataGen().executor(ContainerExecutor(cores=4, memory=4096, gpu=1))\n",
    "\n",
    "\n",
    "#data_gen.execute() -> This works\n",
    "\n",
    "\n",
    "from razor.core.blocks.executors import SubProcessExecutor\n",
    "\n",
    "pipeline = Pipeline(targets=[data_gen])\n"
   ]
  },
  {
   "cell_type": "code",
   "execution_count": 4,
   "metadata": {},
   "outputs": [
    {
     "ename": "Exception",
     "evalue": "{\"timestamp\":\"2020-05-28T11:57:25.417+0000\",\"status\":405,\"error\":\"Method Not Allowed\",\"message\":\"Request method 'POST' not supported\",\"path\":\"/rztai/engine-manager/engine/un-auth/list\"}",
     "output_type": "error",
     "traceback": [
      "\u001b[0;31m---------------------------------------------------------------------------\u001b[0m",
      "\u001b[0;31mException\u001b[0m                                 Traceback (most recent call last)",
      "\u001b[0;32m<ipython-input-4-aa6840941d72>\u001b[0m in \u001b[0;36m<module>\u001b[0;34m\u001b[0m\n\u001b[1;32m      1\u001b[0m \u001b[0;32mfrom\u001b[0m \u001b[0mrazor\u001b[0m\u001b[0;34m.\u001b[0m\u001b[0mplatform\u001b[0m \u001b[0;32mimport\u001b[0m \u001b[0mengines\u001b[0m\u001b[0;34m\u001b[0m\u001b[0;34m\u001b[0m\u001b[0m\n\u001b[0;32m----> 2\u001b[0;31m \u001b[0mdeployed\u001b[0m \u001b[0;34m=\u001b[0m \u001b[0mengines\u001b[0m\u001b[0;34m(\u001b[0m\u001b[0;34m'Engine-1-dev1'\u001b[0m\u001b[0;34m)\u001b[0m\u001b[0;34m.\u001b[0m\u001b[0mexecute\u001b[0m\u001b[0;34m(\u001b[0m\u001b[0mpipeline\u001b[0m\u001b[0;34m)\u001b[0m \u001b[0;31m# Change `Engine-1-dev1` to the engine name in your tenant\u001b[0m\u001b[0;34m\u001b[0m\u001b[0;34m\u001b[0m\u001b[0m\n\u001b[0m",
      "\u001b[0;32m~/IdeaProjects/razor-sdk/razor/platform/core/engine.py\u001b[0m in \u001b[0;36mengines\u001b[0;34m(name, display)\u001b[0m\n\u001b[1;32m     14\u001b[0m \u001b[0;34m\u001b[0m\u001b[0m\n\u001b[1;32m     15\u001b[0m \u001b[0;32mdef\u001b[0m \u001b[0mengines\u001b[0m\u001b[0;34m(\u001b[0m\u001b[0mname\u001b[0m\u001b[0;34m:\u001b[0m \u001b[0mstr\u001b[0m \u001b[0;34m=\u001b[0m \u001b[0;34m\"\"\u001b[0m\u001b[0;34m,\u001b[0m \u001b[0mdisplay\u001b[0m\u001b[0;34m:\u001b[0m \u001b[0mbool\u001b[0m \u001b[0;34m=\u001b[0m \u001b[0;32mFalse\u001b[0m\u001b[0;34m)\u001b[0m\u001b[0;34m:\u001b[0m\u001b[0;34m\u001b[0m\u001b[0;34m\u001b[0m\u001b[0m\n\u001b[0;32m---> 16\u001b[0;31m     \u001b[0mengines_api_response\u001b[0m \u001b[0;34m=\u001b[0m \u001b[0mPlatformAPI\u001b[0m\u001b[0;34m.\u001b[0m\u001b[0mEngine\u001b[0m\u001b[0;34m.\u001b[0m\u001b[0mlist_engines\u001b[0m\u001b[0;34m(\u001b[0m\u001b[0;34m)\u001b[0m\u001b[0;34m\u001b[0m\u001b[0;34m\u001b[0m\u001b[0m\n\u001b[0m\u001b[1;32m     17\u001b[0m     \u001b[0mengines_list\u001b[0m \u001b[0;34m=\u001b[0m \u001b[0;34m[\u001b[0m\u001b[0;34m]\u001b[0m\u001b[0;34m\u001b[0m\u001b[0;34m\u001b[0m\u001b[0m\n\u001b[1;32m     18\u001b[0m     \u001b[0;32mfor\u001b[0m \u001b[0men\u001b[0m \u001b[0;32min\u001b[0m \u001b[0mengines_api_response\u001b[0m\u001b[0;34m:\u001b[0m\u001b[0;34m\u001b[0m\u001b[0;34m\u001b[0m\u001b[0m\n",
      "\u001b[0;32m~/IdeaProjects/razor-sdk/razor/platform/api/platform.py\u001b[0m in \u001b[0;36mlist_engines\u001b[0;34m()\u001b[0m\n\u001b[1;32m    179\u001b[0m             }\n\u001b[1;32m    180\u001b[0m             res = Request.post(url=Endpoint.Engine.LIST_ENGINES, data=data, user_id=UserContext.consumer_id,\n\u001b[0;32m--> 181\u001b[0;31m                                query_params={})\n\u001b[0m\u001b[1;32m    182\u001b[0m             \u001b[0;32mreturn\u001b[0m \u001b[0mres\u001b[0m\u001b[0;34m.\u001b[0m\u001b[0mjson\u001b[0m\u001b[0;34m(\u001b[0m\u001b[0;34m)\u001b[0m\u001b[0;34m[\u001b[0m\u001b[0;34m'result'\u001b[0m\u001b[0;34m]\u001b[0m\u001b[0;34m[\u001b[0m\u001b[0;34m'data'\u001b[0m\u001b[0;34m]\u001b[0m\u001b[0;34m\u001b[0m\u001b[0;34m\u001b[0m\u001b[0m\n\u001b[1;32m    183\u001b[0m \u001b[0;34m\u001b[0m\u001b[0m\n",
      "\u001b[0;32m~/IdeaProjects/razor-sdk/razor/platform/api/request.py\u001b[0m in \u001b[0;36mpost\u001b[0;34m(url, data, user_id, query_params)\u001b[0m\n\u001b[1;32m     19\u001b[0m             \u001b[0;32mreturn\u001b[0m \u001b[0mr\u001b[0m\u001b[0;34m\u001b[0m\u001b[0;34m\u001b[0m\u001b[0m\n\u001b[1;32m     20\u001b[0m         \u001b[0;32melse\u001b[0m\u001b[0;34m:\u001b[0m\u001b[0;34m\u001b[0m\u001b[0;34m\u001b[0m\u001b[0m\n\u001b[0;32m---> 21\u001b[0;31m             \u001b[0;32mraise\u001b[0m \u001b[0mException\u001b[0m\u001b[0;34m(\u001b[0m\u001b[0mr\u001b[0m\u001b[0;34m.\u001b[0m\u001b[0mtext\u001b[0m\u001b[0;34m)\u001b[0m\u001b[0;34m\u001b[0m\u001b[0;34m\u001b[0m\u001b[0m\n\u001b[0m\u001b[1;32m     22\u001b[0m \u001b[0;34m\u001b[0m\u001b[0m\n\u001b[1;32m     23\u001b[0m     \u001b[0;34m@\u001b[0m\u001b[0mstaticmethod\u001b[0m\u001b[0;34m\u001b[0m\u001b[0;34m\u001b[0m\u001b[0m\n",
      "\u001b[0;31mException\u001b[0m: {\"timestamp\":\"2020-05-28T11:57:25.417+0000\",\"status\":405,\"error\":\"Method Not Allowed\",\"message\":\"Request method 'POST' not supported\",\"path\":\"/rztai/engine-manager/engine/un-auth/list\"}"
     ]
    }
   ],
   "source": [
    "from razor.platform import engines\n",
    "deployed = engines('Engine-1-dev1').execute(pipeline) # Change `Engine-1-dev1` to the engine name in your tenant "
   ]
  },
  {
   "cell_type": "code",
   "execution_count": null,
   "metadata": {},
   "outputs": [],
   "source": [
    "deployed.monitor()"
   ]
  },
  {
   "cell_type": "code",
   "execution_count": null,
   "metadata": {},
   "outputs": [],
   "source": []
  }
 ],
 "metadata": {
  "kernelspec": {
   "display_name": "Python 3",
   "language": "python",
   "name": "python3"
  },
  "language_info": {
   "codemirror_mode": {
    "name": "ipython",
    "version": 3
   },
   "file_extension": ".py",
   "mimetype": "text/x-python",
   "name": "python",
   "nbconvert_exporter": "python",
   "pygments_lexer": "ipython3",
   "version": "3.7.5"
  }
 },
 "nbformat": 4,
 "nbformat_minor": 4
}
