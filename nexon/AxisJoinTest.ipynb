{
 "cells": [
  {
   "cell_type": "code",
   "execution_count": 1,
   "metadata": {},
   "outputs": [],
   "source": [
    "import pyspark\n"
   ]
  },
  {
   "cell_type": "code",
   "execution_count": 2,
   "metadata": {},
   "outputs": [],
   "source": [
    "from pyspark.sql import SparkSession as ss\n",
    "from pyspark import SparkContext\n",
    "from pyspark.streaming import StreamingContext"
   ]
  },
  {
   "cell_type": "code",
   "execution_count": 3,
   "metadata": {},
   "outputs": [],
   "source": [
    "spark = ss.builder.appName('hello').getOrCreate();"
   ]
  },
  {
   "cell_type": "code",
   "execution_count": 4,
   "metadata": {},
   "outputs": [
    {
     "data": {
      "text/plain": [
       "<pyspark.sql.streaming.DataStreamReader at 0x111e9d250>"
      ]
     },
     "execution_count": 4,
     "metadata": {},
     "output_type": "execute_result"
    }
   ],
   "source": [
    "spark.readStream.format(\"kafka\")"
   ]
  },
  {
   "cell_type": "code",
   "execution_count": 5,
   "metadata": {},
   "outputs": [],
   "source": [
    "df = spark.read.csv('../../../Downloads/1500KSalesRecords.csv', inferSchema=True, header=True)"
   ]
  },
  {
   "cell_type": "code",
   "execution_count": 11,
   "metadata": {},
   "outputs": [
    {
     "data": {
      "text/plain": [
       "['Region',\n",
       " 'Country',\n",
       " 'Item Type',\n",
       " 'Sales Channel',\n",
       " 'Order Priority',\n",
       " 'Order Date',\n",
       " 'Order ID',\n",
       " 'Ship Date',\n",
       " 'Units Sold',\n",
       " 'Unit Price',\n",
       " 'Unit Cost',\n",
       " 'Total Revenue',\n",
       " 'Total Cost',\n",
       " 'Total Profit']"
      ]
     },
     "execution_count": 11,
     "metadata": {},
     "output_type": "execute_result"
    }
   ],
   "source": [
    "df.columns"
   ]
  },
  {
   "cell_type": "code",
   "execution_count": 9,
   "metadata": {},
   "outputs": [
    {
     "name": "stdout",
     "output_type": "stream",
     "text": [
      "CPU times: user 1.06 ms, sys: 1.4 ms, total: 2.46 ms\n",
      "Wall time: 3.39 s\n"
     ]
    },
    {
     "data": {
      "text/plain": [
       "5999994"
      ]
     },
     "execution_count": 9,
     "metadata": {},
     "output_type": "execute_result"
    }
   ],
   "source": [
    "%%time\n",
    "df.count()"
   ]
  },
  {
   "cell_type": "code",
   "execution_count": 27,
   "metadata": {},
   "outputs": [],
   "source": [
    "ta = df.createOrReplaceTempView('ta')\n",
    "tb = df.createOrReplaceTempView('tb')\n",
    "sql_query = \"SELECT * from ta l JOIN tb r ON l.`Order ID` = r.`Order ID` \"\n",
    "left_join = spark.sql(sql_query)"
   ]
  },
  {
   "cell_type": "code",
   "execution_count": 23,
   "metadata": {},
   "outputs": [
    {
     "name": "stdout",
     "output_type": "stream",
     "text": [
      "CPU times: user 1.21 ms, sys: 1.68 ms, total: 2.89 ms\n",
      "Wall time: 6.19 s\n"
     ]
    },
    {
     "data": {
      "text/plain": [
       "30974386"
      ]
     },
     "execution_count": 23,
     "metadata": {},
     "output_type": "execute_result"
    }
   ],
   "source": [
    "%%time\n",
    "left_join.count()"
   ]
  },
  {
   "cell_type": "code",
   "execution_count": 30,
   "metadata": {},
   "outputs": [
    {
     "name": "stdout",
     "output_type": "stream",
     "text": [
      "CPU times: user 18.7 ms, sys: 36.2 ms, total: 54.8 ms\n",
      "Wall time: 1min 53s\n"
     ]
    }
   ],
   "source": [
    "%%time\n",
    "new_column_name_list = left_join.columns\n",
    "for i, col in enumerate(new_column_name_list):\n",
    "    count = new_column_name_list.count(col)\n",
    "    if count > 1:\n",
    "        idx = new_column_name_list.index(col)\n",
    "        new_column_name_list[i] = col + '_'+str(i)\n",
    "left_join = left_join.toDF(*new_column_name_list)\n",
    "#.coalesce(1)\n",
    "left_join.write.mode(\"overwrite\").option(\"header\", \"true\").csv('Downloads/results.csv')"
   ]
  },
  {
   "cell_type": "code",
   "execution_count": 26,
   "metadata": {},
   "outputs": [
    {
     "name": "stdout",
     "output_type": "stream",
     "text": [
      "CPU times: user 1.31 ms, sys: 2.01 ms, total: 3.33 ms\n",
      "Wall time: 6.25 s\n"
     ]
    },
    {
     "data": {
      "text/plain": [
       "30974386"
      ]
     },
     "execution_count": 26,
     "metadata": {},
     "output_type": "execute_result"
    }
   ],
   "source": [
    "%%time\n",
    "left_join.count()"
   ]
  },
  {
   "cell_type": "code",
   "execution_count": 19,
   "metadata": {},
   "outputs": [],
   "source": [
    "res_df = spark.read.csv('Downloads/results.csv', inferSchema=True, header=True)"
   ]
  },
  {
   "cell_type": "code",
   "execution_count": 20,
   "metadata": {},
   "outputs": [
    {
     "name": "stdout",
     "output_type": "stream",
     "text": [
      "CPU times: user 5.75 ms, sys: 6.32 ms, total: 12.1 ms\n",
      "Wall time: 46.9 s\n"
     ]
    },
    {
     "data": {
      "text/plain": [
       "30974186"
      ]
     },
     "execution_count": 20,
     "metadata": {},
     "output_type": "execute_result"
    }
   ],
   "source": [
    "%%time\n",
    "res_df.count()"
   ]
  },
  {
   "cell_type": "code",
   "execution_count": null,
   "metadata": {},
   "outputs": [],
   "source": []
  },
  {
   "cell_type": "code",
   "execution_count": null,
   "metadata": {},
   "outputs": [],
   "source": []
  },
  {
   "cell_type": "code",
   "execution_count": null,
   "metadata": {},
   "outputs": [],
   "source": []
  },
  {
   "cell_type": "code",
   "execution_count": null,
   "metadata": {},
   "outputs": [],
   "source": []
  },
  {
   "cell_type": "code",
   "execution_count": null,
   "metadata": {},
   "outputs": [],
   "source": []
  },
  {
   "cell_type": "code",
   "execution_count": 11,
   "metadata": {},
   "outputs": [],
   "source": [
    "df.repartition(1).write.mode(\"overwrite\").format(\"com.databricks.spark.csv\").option(\"header\", \"true\").csv(\"test_out.csv\")\n",
    "\n",
    "\n",
    "\n"
   ]
  },
  {
   "cell_type": "code",
   "execution_count": 12,
   "metadata": {},
   "outputs": [
    {
     "data": {
      "text/plain": [
       "DataFrame[summary: string, Region: string, Country: string, Item Type: string, Sales Channel: string, Order Priority: string, Order Date: string, Order ID: string, Ship Date: string, Units Sold: string, Unit Price: string, Unit Cost: string, Total Revenue: string, Total Cost: string, Total Profit: string]"
      ]
     },
     "execution_count": 12,
     "metadata": {},
     "output_type": "execute_result"
    }
   ],
   "source": [
    "df.describe()"
   ]
  },
  {
   "cell_type": "code",
   "execution_count": 127,
   "metadata": {},
   "outputs": [
    {
     "data": {
      "text/plain": [
       "['Region',\n",
       " 'Country',\n",
       " 'Item Type',\n",
       " 'Sales Channel',\n",
       " 'Order Priority',\n",
       " 'Order Date',\n",
       " 'order_id',\n",
       " 'Ship Date',\n",
       " 'Units Sold',\n",
       " 'Unit Price',\n",
       " 'Unit Cost',\n",
       " 'Total Revenue',\n",
       " 'Total Cost',\n",
       " 'Total Profit']"
      ]
     },
     "execution_count": 127,
     "metadata": {},
     "output_type": "execute_result"
    }
   ],
   "source": [
    "df = df.withColumnRenamed(\"Order ID\",\"order_id\")\n",
    "df.columns"
   ]
  },
  {
   "cell_type": "code",
   "execution_count": 57,
   "metadata": {},
   "outputs": [
    {
     "name": "stdout",
     "output_type": "stream",
     "text": [
      "+------+-------+-------------+-------------+--------------+----------+---------+---------+----------+----------+---------+-------------+----------+------------+------+-------+-------------+-------------+--------------+----------+---------+---------+----------+----------+---------+-------------+----------+------------+\n",
      "|Region|Country|    Item Type|Sales Channel|Order Priority|Order Date| order_id|Ship Date|Units Sold|Unit Price|Unit Cost|Total Revenue|Total Cost|Total Profit|Region|Country|    Item Type|Sales Channel|Order Priority|Order Date| order_id|Ship Date|Units Sold|Unit Price|Unit Cost|Total Revenue|Total Cost|Total Profit|\n",
      "+------+-------+-------------+-------------+--------------+----------+---------+---------+----------+----------+---------+-------------+----------+------------+------+-------+-------------+-------------+--------------+----------+---------+---------+----------+----------+---------+-------------+----------+------------+\n",
      "|Europe| Latvia|Personal Care|       Online|             H| 8/22/2011|100054395|10/8/2011|      7174|     81.73|    56.67|    586331.02| 406550.58|   179780.44|Europe| Latvia|Personal Care|       Online|             H| 8/22/2011|100054395|10/8/2011|      7174|     81.73|    56.67|    586331.02| 406550.58|   179780.44|\n",
      "|Europe| Latvia|Personal Care|       Online|             H| 8/22/2011|100054395|10/8/2011|      7174|     81.73|    56.67|    586331.02| 406550.58|   179780.44|Europe| Latvia|Personal Care|       Online|             H| 8/22/2011|100054395|10/8/2011|      7174|     81.73|    56.67|    586331.02| 406550.58|   179780.44|\n",
      "|Europe| Latvia|Personal Care|       Online|             H| 8/22/2011|100054395|10/8/2011|      7174|     81.73|    56.67|    586331.02| 406550.58|   179780.44|Europe| Latvia|Personal Care|       Online|             H| 8/22/2011|100054395|10/8/2011|      7174|     81.73|    56.67|    586331.02| 406550.58|   179780.44|\n",
      "|Europe| Latvia|Personal Care|       Online|             H| 8/22/2011|100054395|10/8/2011|      7174|     81.73|    56.67|    586331.02| 406550.58|   179780.44|Europe| Latvia|Personal Care|       Online|             H| 8/22/2011|100054395|10/8/2011|      7174|     81.73|    56.67|    586331.02| 406550.58|   179780.44|\n",
      "|Europe| Latvia|Personal Care|       Online|             H| 8/22/2011|100054395|10/8/2011|      7174|     81.73|    56.67|    586331.02| 406550.58|   179780.44|Europe| Latvia|Personal Care|       Online|             H| 8/22/2011|100054395|10/8/2011|      7174|     81.73|    56.67|    586331.02| 406550.58|   179780.44|\n",
      "|Europe| Latvia|Personal Care|       Online|             H| 8/22/2011|100054395|10/8/2011|      7174|     81.73|    56.67|    586331.02| 406550.58|   179780.44|Europe| Latvia|Personal Care|       Online|             H| 8/22/2011|100054395|10/8/2011|      7174|     81.73|    56.67|    586331.02| 406550.58|   179780.44|\n",
      "|Europe| Latvia|Personal Care|       Online|             H| 8/22/2011|100054395|10/8/2011|      7174|     81.73|    56.67|    586331.02| 406550.58|   179780.44|Europe| Latvia|Personal Care|       Online|             H| 8/22/2011|100054395|10/8/2011|      7174|     81.73|    56.67|    586331.02| 406550.58|   179780.44|\n",
      "|Europe| Latvia|Personal Care|       Online|             H| 8/22/2011|100054395|10/8/2011|      7174|     81.73|    56.67|    586331.02| 406550.58|   179780.44|Europe| Latvia|Personal Care|       Online|             H| 8/22/2011|100054395|10/8/2011|      7174|     81.73|    56.67|    586331.02| 406550.58|   179780.44|\n",
      "|Europe| Latvia|Personal Care|       Online|             H| 8/22/2011|100054395|10/8/2011|      7174|     81.73|    56.67|    586331.02| 406550.58|   179780.44|Europe| Latvia|Personal Care|       Online|             H| 8/22/2011|100054395|10/8/2011|      7174|     81.73|    56.67|    586331.02| 406550.58|   179780.44|\n",
      "|Europe| Latvia|Personal Care|       Online|             H| 8/22/2011|100054395|10/8/2011|      7174|     81.73|    56.67|    586331.02| 406550.58|   179780.44|Europe| Latvia|Personal Care|       Online|             H| 8/22/2011|100054395|10/8/2011|      7174|     81.73|    56.67|    586331.02| 406550.58|   179780.44|\n",
      "|Europe| Latvia|Personal Care|       Online|             H| 8/22/2011|100054395|10/8/2011|      7174|     81.73|    56.67|    586331.02| 406550.58|   179780.44|Europe| Latvia|Personal Care|       Online|             H| 8/22/2011|100054395|10/8/2011|      7174|     81.73|    56.67|    586331.02| 406550.58|   179780.44|\n",
      "|Europe| Latvia|Personal Care|       Online|             H| 8/22/2011|100054395|10/8/2011|      7174|     81.73|    56.67|    586331.02| 406550.58|   179780.44|Europe| Latvia|Personal Care|       Online|             H| 8/22/2011|100054395|10/8/2011|      7174|     81.73|    56.67|    586331.02| 406550.58|   179780.44|\n",
      "|Europe| Latvia|Personal Care|       Online|             H| 8/22/2011|100054395|10/8/2011|      7174|     81.73|    56.67|    586331.02| 406550.58|   179780.44|Europe| Latvia|Personal Care|       Online|             H| 8/22/2011|100054395|10/8/2011|      7174|     81.73|    56.67|    586331.02| 406550.58|   179780.44|\n",
      "|Europe| Latvia|Personal Care|       Online|             H| 8/22/2011|100054395|10/8/2011|      7174|     81.73|    56.67|    586331.02| 406550.58|   179780.44|Europe| Latvia|Personal Care|       Online|             H| 8/22/2011|100054395|10/8/2011|      7174|     81.73|    56.67|    586331.02| 406550.58|   179780.44|\n",
      "|Europe| Latvia|Personal Care|       Online|             H| 8/22/2011|100054395|10/8/2011|      7174|     81.73|    56.67|    586331.02| 406550.58|   179780.44|Europe| Latvia|Personal Care|       Online|             H| 8/22/2011|100054395|10/8/2011|      7174|     81.73|    56.67|    586331.02| 406550.58|   179780.44|\n",
      "|Europe| Latvia|Personal Care|       Online|             H| 8/22/2011|100054395|10/8/2011|      7174|     81.73|    56.67|    586331.02| 406550.58|   179780.44|Europe| Latvia|Personal Care|       Online|             H| 8/22/2011|100054395|10/8/2011|      7174|     81.73|    56.67|    586331.02| 406550.58|   179780.44|\n",
      "|Europe| Cyprus|    Household|      Offline|             H|  4/5/2013|100310170| 4/5/2013|      2863|    668.27|   502.54|   1913257.01|1438772.02|   474484.99|Europe| Cyprus|    Household|      Offline|             H|  4/5/2013|100310170| 4/5/2013|      2863|    668.27|   502.54|   1913257.01|1438772.02|   474484.99|\n",
      "|Europe| Cyprus|    Household|      Offline|             H|  4/5/2013|100310170| 4/5/2013|      2863|    668.27|   502.54|   1913257.01|1438772.02|   474484.99|Europe| Cyprus|    Household|      Offline|             H|  4/5/2013|100310170| 4/5/2013|      2863|    668.27|   502.54|   1913257.01|1438772.02|   474484.99|\n",
      "|Europe| Cyprus|    Household|      Offline|             H|  4/5/2013|100310170| 4/5/2013|      2863|    668.27|   502.54|   1913257.01|1438772.02|   474484.99|Europe| Cyprus|    Household|      Offline|             H|  4/5/2013|100310170| 4/5/2013|      2863|    668.27|   502.54|   1913257.01|1438772.02|   474484.99|\n",
      "|Europe| Cyprus|    Household|      Offline|             H|  4/5/2013|100310170| 4/5/2013|      2863|    668.27|   502.54|   1913257.01|1438772.02|   474484.99|Europe| Cyprus|    Household|      Offline|             H|  4/5/2013|100310170| 4/5/2013|      2863|    668.27|   502.54|   1913257.01|1438772.02|   474484.99|\n",
      "+------+-------+-------------+-------------+--------------+----------+---------+---------+----------+----------+---------+-------------+----------+------------+------+-------+-------------+-------------+--------------+----------+---------+---------+----------+----------+---------+-------------+----------+------------+\n",
      "only showing top 20 rows\n",
      "\n"
     ]
    }
   ],
   "source": [
    "ta = df.alias('ta')\n",
    "tb = df.alias('tb')\n",
    "\n",
    "left_join = ta.join(tb, ta.order_id == tb.order_id ,how='left') # Could also use 'left_outer'\n",
    "left_join.show()"
   ]
  },
  {
   "cell_type": "code",
   "execution_count": 12,
   "metadata": {},
   "outputs": [
    {
     "data": {
      "text/plain": [
       "['Region',\n",
       " 'Country',\n",
       " 'Item Type',\n",
       " 'Sales Channel',\n",
       " 'Order Priority',\n",
       " 'Order Date',\n",
       " 'Order ID',\n",
       " 'Ship Date',\n",
       " 'Units Sold',\n",
       " 'Unit Price',\n",
       " 'Unit Cost',\n",
       " 'Total Revenue',\n",
       " 'Total Cost',\n",
       " 'Total Profit']"
      ]
     },
     "execution_count": 12,
     "metadata": {},
     "output_type": "execute_result"
    }
   ],
   "source": [
    "df.columns"
   ]
  },
  {
   "cell_type": "code",
   "execution_count": 23,
   "metadata": {},
   "outputs": [
    {
     "data": {
      "text/plain": [
       "['Region',\n",
       " 'Country',\n",
       " 'Item Type',\n",
       " 'Sales Channel',\n",
       " 'Order Priority',\n",
       " 'Order Date',\n",
       " 'order_id',\n",
       " 'Ship Date',\n",
       " 'Units Sold',\n",
       " 'Unit Price',\n",
       " 'Unit Cost',\n",
       " 'Total Revenue',\n",
       " 'Total Cost',\n",
       " 'Total Profit',\n",
       " 'Region',\n",
       " 'Country',\n",
       " 'Item Type',\n",
       " 'Sales Channel',\n",
       " 'Order Priority',\n",
       " 'Order Date',\n",
       " 'order_id',\n",
       " 'Ship Date',\n",
       " 'Units Sold',\n",
       " 'Unit Price',\n",
       " 'Unit Cost',\n",
       " 'Total Revenue',\n",
       " 'Total Cost',\n",
       " 'Total Profit']"
      ]
     },
     "execution_count": 23,
     "metadata": {},
     "output_type": "execute_result"
    }
   ],
   "source": [
    "\n",
    "\n",
    "\n",
    "left_join.columns"
   ]
  },
  {
   "cell_type": "code",
   "execution_count": 24,
   "metadata": {},
   "outputs": [
    {
     "data": {
      "text/plain": [
       "['Region',\n",
       " 'Country',\n",
       " 'Item Type',\n",
       " 'Sales Channel',\n",
       " 'Order Priority',\n",
       " 'Order Date',\n",
       " 'order_id',\n",
       " 'Ship Date',\n",
       " 'Units Sold',\n",
       " 'Unit Price',\n",
       " 'Unit Cost',\n",
       " 'Total Revenue',\n",
       " 'Total Cost',\n",
       " 'Total Profit',\n",
       " 'RRegion',\n",
       " 'RCountry',\n",
       " 'RItem Type',\n",
       " 'RSales Channel',\n",
       " 'ROrder Priority',\n",
       " 'ROrder Date',\n",
       " 'Rorder_id',\n",
       " 'RShip Date',\n",
       " 'RUnits Sold',\n",
       " 'RUnit Price',\n",
       " 'RUnit Cost',\n",
       " 'RTotal Revenue',\n",
       " 'RTotal Cost',\n",
       " 'RTotal Profit']"
      ]
     },
     "execution_count": 24,
     "metadata": {},
     "output_type": "execute_result"
    }
   ],
   "source": [
    "newNames = ['Region',\n",
    " 'Country',\n",
    " 'Item Type',\n",
    " 'Sales Channel',\n",
    " 'Order Priority',\n",
    " 'Order Date',\n",
    " 'order_id',\n",
    " 'Ship Date',\n",
    " 'Units Sold',\n",
    " 'Unit Price',\n",
    " 'Unit Cost',\n",
    " 'Total Revenue',\n",
    " 'Total Cost',\n",
    " 'Total Profit',\n",
    " 'RRegion',\n",
    " 'RCountry',\n",
    " 'RItem Type',\n",
    " 'RSales Channel',\n",
    " 'ROrder Priority',\n",
    " 'ROrder Date',\n",
    " 'Rorder_id',\n",
    " 'RShip Date',\n",
    " 'RUnits Sold',\n",
    " 'RUnit Price',\n",
    " 'RUnit Cost',\n",
    " 'RTotal Revenue',\n",
    " 'RTotal Cost',\n",
    " 'RTotal Profit']\n",
    "left_join= left_join.toDF(*newNames)\n",
    "left_join.columns"
   ]
  },
  {
   "cell_type": "code",
   "execution_count": 25,
   "metadata": {},
   "outputs": [],
   "source": [
    "left_join.write.csv('Downloads/results.csv')"
   ]
  },
  {
   "cell_type": "code",
   "execution_count": 44,
   "metadata": {},
   "outputs": [
    {
     "name": "stdout",
     "output_type": "stream",
     "text": [
      "+------+-------+-------------+-------------+--------------+----------+---------+---------+----------+----------+---------+-------------+----------+------------+------+-------+-------------+-------------+--------------+----------+---------+---------+----------+----------+---------+-------------+----------+------------+\n",
      "|Region|Country|    Item Type|Sales Channel|Order Priority|Order Date| order_id|Ship Date|Units Sold|Unit Price|Unit Cost|Total Revenue|Total Cost|Total Profit|Region|Country|    Item Type|Sales Channel|Order Priority|Order Date| order_id|Ship Date|Units Sold|Unit Price|Unit Cost|Total Revenue|Total Cost|Total Profit|\n",
      "+------+-------+-------------+-------------+--------------+----------+---------+---------+----------+----------+---------+-------------+----------+------------+------+-------+-------------+-------------+--------------+----------+---------+---------+----------+----------+---------+-------------+----------+------------+\n",
      "|Europe| Latvia|Personal Care|       Online|             H| 8/22/2011|100054395|10/8/2011|      7174|     81.73|    56.67|    586331.02| 406550.58|   179780.44|Europe| Latvia|Personal Care|       Online|             H| 8/22/2011|100054395|10/8/2011|      7174|     81.73|    56.67|    586331.02| 406550.58|   179780.44|\n",
      "|Europe| Latvia|Personal Care|       Online|             H| 8/22/2011|100054395|10/8/2011|      7174|     81.73|    56.67|    586331.02| 406550.58|   179780.44|Europe| Latvia|Personal Care|       Online|             H| 8/22/2011|100054395|10/8/2011|      7174|     81.73|    56.67|    586331.02| 406550.58|   179780.44|\n",
      "|Europe| Latvia|Personal Care|       Online|             H| 8/22/2011|100054395|10/8/2011|      7174|     81.73|    56.67|    586331.02| 406550.58|   179780.44|Europe| Latvia|Personal Care|       Online|             H| 8/22/2011|100054395|10/8/2011|      7174|     81.73|    56.67|    586331.02| 406550.58|   179780.44|\n",
      "|Europe| Latvia|Personal Care|       Online|             H| 8/22/2011|100054395|10/8/2011|      7174|     81.73|    56.67|    586331.02| 406550.58|   179780.44|Europe| Latvia|Personal Care|       Online|             H| 8/22/2011|100054395|10/8/2011|      7174|     81.73|    56.67|    586331.02| 406550.58|   179780.44|\n",
      "|Europe| Latvia|Personal Care|       Online|             H| 8/22/2011|100054395|10/8/2011|      7174|     81.73|    56.67|    586331.02| 406550.58|   179780.44|Europe| Latvia|Personal Care|       Online|             H| 8/22/2011|100054395|10/8/2011|      7174|     81.73|    56.67|    586331.02| 406550.58|   179780.44|\n",
      "|Europe| Latvia|Personal Care|       Online|             H| 8/22/2011|100054395|10/8/2011|      7174|     81.73|    56.67|    586331.02| 406550.58|   179780.44|Europe| Latvia|Personal Care|       Online|             H| 8/22/2011|100054395|10/8/2011|      7174|     81.73|    56.67|    586331.02| 406550.58|   179780.44|\n",
      "|Europe| Latvia|Personal Care|       Online|             H| 8/22/2011|100054395|10/8/2011|      7174|     81.73|    56.67|    586331.02| 406550.58|   179780.44|Europe| Latvia|Personal Care|       Online|             H| 8/22/2011|100054395|10/8/2011|      7174|     81.73|    56.67|    586331.02| 406550.58|   179780.44|\n",
      "|Europe| Latvia|Personal Care|       Online|             H| 8/22/2011|100054395|10/8/2011|      7174|     81.73|    56.67|    586331.02| 406550.58|   179780.44|Europe| Latvia|Personal Care|       Online|             H| 8/22/2011|100054395|10/8/2011|      7174|     81.73|    56.67|    586331.02| 406550.58|   179780.44|\n",
      "|Europe| Latvia|Personal Care|       Online|             H| 8/22/2011|100054395|10/8/2011|      7174|     81.73|    56.67|    586331.02| 406550.58|   179780.44|Europe| Latvia|Personal Care|       Online|             H| 8/22/2011|100054395|10/8/2011|      7174|     81.73|    56.67|    586331.02| 406550.58|   179780.44|\n",
      "|Europe| Latvia|Personal Care|       Online|             H| 8/22/2011|100054395|10/8/2011|      7174|     81.73|    56.67|    586331.02| 406550.58|   179780.44|Europe| Latvia|Personal Care|       Online|             H| 8/22/2011|100054395|10/8/2011|      7174|     81.73|    56.67|    586331.02| 406550.58|   179780.44|\n",
      "|Europe| Latvia|Personal Care|       Online|             H| 8/22/2011|100054395|10/8/2011|      7174|     81.73|    56.67|    586331.02| 406550.58|   179780.44|Europe| Latvia|Personal Care|       Online|             H| 8/22/2011|100054395|10/8/2011|      7174|     81.73|    56.67|    586331.02| 406550.58|   179780.44|\n",
      "|Europe| Latvia|Personal Care|       Online|             H| 8/22/2011|100054395|10/8/2011|      7174|     81.73|    56.67|    586331.02| 406550.58|   179780.44|Europe| Latvia|Personal Care|       Online|             H| 8/22/2011|100054395|10/8/2011|      7174|     81.73|    56.67|    586331.02| 406550.58|   179780.44|\n",
      "|Europe| Latvia|Personal Care|       Online|             H| 8/22/2011|100054395|10/8/2011|      7174|     81.73|    56.67|    586331.02| 406550.58|   179780.44|Europe| Latvia|Personal Care|       Online|             H| 8/22/2011|100054395|10/8/2011|      7174|     81.73|    56.67|    586331.02| 406550.58|   179780.44|\n",
      "|Europe| Latvia|Personal Care|       Online|             H| 8/22/2011|100054395|10/8/2011|      7174|     81.73|    56.67|    586331.02| 406550.58|   179780.44|Europe| Latvia|Personal Care|       Online|             H| 8/22/2011|100054395|10/8/2011|      7174|     81.73|    56.67|    586331.02| 406550.58|   179780.44|\n",
      "|Europe| Latvia|Personal Care|       Online|             H| 8/22/2011|100054395|10/8/2011|      7174|     81.73|    56.67|    586331.02| 406550.58|   179780.44|Europe| Latvia|Personal Care|       Online|             H| 8/22/2011|100054395|10/8/2011|      7174|     81.73|    56.67|    586331.02| 406550.58|   179780.44|\n",
      "|Europe| Latvia|Personal Care|       Online|             H| 8/22/2011|100054395|10/8/2011|      7174|     81.73|    56.67|    586331.02| 406550.58|   179780.44|Europe| Latvia|Personal Care|       Online|             H| 8/22/2011|100054395|10/8/2011|      7174|     81.73|    56.67|    586331.02| 406550.58|   179780.44|\n",
      "|Europe| Latvia|Personal Care|       Online|             H| 8/22/2011|100054395|10/8/2011|      7174|     81.73|    56.67|    586331.02| 406550.58|   179780.44|Europe| Latvia|Personal Care|       Online|             H| 8/22/2011|100054395|10/8/2011|      7174|     81.73|    56.67|    586331.02| 406550.58|   179780.44|\n",
      "|Europe| Latvia|Personal Care|       Online|             H| 8/22/2011|100054395|10/8/2011|      7174|     81.73|    56.67|    586331.02| 406550.58|   179780.44|Europe| Latvia|Personal Care|       Online|             H| 8/22/2011|100054395|10/8/2011|      7174|     81.73|    56.67|    586331.02| 406550.58|   179780.44|\n",
      "|Europe| Latvia|Personal Care|       Online|             H| 8/22/2011|100054395|10/8/2011|      7174|     81.73|    56.67|    586331.02| 406550.58|   179780.44|Europe| Latvia|Personal Care|       Online|             H| 8/22/2011|100054395|10/8/2011|      7174|     81.73|    56.67|    586331.02| 406550.58|   179780.44|\n",
      "|Europe| Latvia|Personal Care|       Online|             H| 8/22/2011|100054395|10/8/2011|      7174|     81.73|    56.67|    586331.02| 406550.58|   179780.44|Europe| Latvia|Personal Care|       Online|             H| 8/22/2011|100054395|10/8/2011|      7174|     81.73|    56.67|    586331.02| 406550.58|   179780.44|\n",
      "+------+-------+-------------+-------------+--------------+----------+---------+---------+----------+----------+---------+-------------+----------+------------+------+-------+-------------+-------------+--------------+----------+---------+---------+----------+----------+---------+-------------+----------+------------+\n",
      "only showing top 20 rows\n",
      "\n"
     ]
    }
   ],
   "source": [
    "left_join.show()"
   ]
  },
  {
   "cell_type": "code",
   "execution_count": 27,
   "metadata": {},
   "outputs": [
    {
     "data": {
      "text/plain": [
       "DataFrame[Region: string, Country: string, Item Type: string, Sales Channel: string, Order Priority: string, Order Date: string, order_id: int, Ship Date: string, Units Sold: int, Unit Price: double, Unit Cost: double, Total Revenue: double, Total Cost: double, Total Profit: double]"
      ]
     },
     "execution_count": 27,
     "metadata": {},
     "output_type": "execute_result"
    }
   ],
   "source": [
    "df.persist(pyspark.StorageLevel.DISK_ONLY)"
   ]
  },
  {
   "cell_type": "code",
   "execution_count": 39,
   "metadata": {},
   "outputs": [
    {
     "data": {
      "text/plain": [
       "383999616"
      ]
     },
     "execution_count": 39,
     "metadata": {},
     "output_type": "execute_result"
    }
   ],
   "source": [
    "df = df.union(df)\n",
    "df.count()"
   ]
  },
  {
   "cell_type": "code",
   "execution_count": 40,
   "metadata": {},
   "outputs": [
    {
     "data": {
      "text/plain": [
       "['Region',\n",
       " 'Country',\n",
       " 'Item Type',\n",
       " 'Sales Channel',\n",
       " 'Order Priority',\n",
       " 'Order Date',\n",
       " 'order_id',\n",
       " 'Ship Date',\n",
       " 'Units Sold',\n",
       " 'Unit Price',\n",
       " 'Unit Cost',\n",
       " 'Total Revenue',\n",
       " 'Total Cost',\n",
       " 'Total Profit']"
      ]
     },
     "execution_count": 40,
     "metadata": {},
     "output_type": "execute_result"
    }
   ],
   "source": [
    "df.columns"
   ]
  },
  {
   "cell_type": "code",
   "execution_count": 51,
   "metadata": {},
   "outputs": [],
   "source": [
    "sub_df = df.head(100)"
   ]
  },
  {
   "cell_type": "code",
   "execution_count": 61,
   "metadata": {},
   "outputs": [
    {
     "ename": "SyntaxError",
     "evalue": "invalid syntax (<ipython-input-61-712e76ef5cd0>, line 16)",
     "output_type": "error",
     "traceback": [
      "\u001b[0;36m  File \u001b[0;32m\"<ipython-input-61-712e76ef5cd0>\"\u001b[0;36m, line \u001b[0;32m16\u001b[0m\n\u001b[0;31m    df.write.parquet('Downloads/test_data.csv' h)\u001b[0m\n\u001b[0m                                               ^\u001b[0m\n\u001b[0;31mSyntaxError\u001b[0m\u001b[0;31m:\u001b[0m invalid syntax\n"
     ]
    }
   ],
   "source": [
    "test_head = ['Region',\n",
    " 'Country',\n",
    " 'Item_Type',\n",
    " 'Sales_Channel',\n",
    " 'Order_Priority',\n",
    " 'Order_Date',\n",
    " 'order_id',\n",
    " 'Ship_Date',\n",
    " 'Units_Sold',\n",
    " 'Unit_Price',\n",
    " 'Unit_Cost',\n",
    " 'Total_Revenue',\n",
    " 'Total_Cost',\n",
    " 'Total_Profit']\n",
    "\n",
    "df.write.parquet('Downloads/test_data.csv' )"
   ]
  },
  {
   "cell_type": "code",
   "execution_count": null,
   "metadata": {},
   "outputs": [],
   "source": []
  },
  {
   "cell_type": "code",
   "execution_count": 46,
   "metadata": {},
   "outputs": [
    {
     "data": {
      "text/plain": [
       "['Region',\n",
       " 'Country',\n",
       " 'Item Type',\n",
       " 'Sales Channel',\n",
       " 'Order Priority',\n",
       " 'Order Date',\n",
       " 'order_id',\n",
       " 'Ship Date',\n",
       " 'Units Sold',\n",
       " 'Unit Price',\n",
       " 'Unit Cost',\n",
       " 'Total Revenue',\n",
       " 'Total Cost',\n",
       " 'Total Profit']"
      ]
     },
     "execution_count": 46,
     "metadata": {},
     "output_type": "execute_result"
    }
   ],
   "source": [
    "df.columns"
   ]
  },
  {
   "cell_type": "code",
   "execution_count": 73,
   "metadata": {},
   "outputs": [
    {
     "ename": "AttributeError",
     "evalue": "'DataFrame' object has no attribute 'reduce'",
     "output_type": "error",
     "traceback": [
      "\u001b[0;31m---------------------------------------------------------------------------\u001b[0m",
      "\u001b[0;31mAttributeError\u001b[0m                            Traceback (most recent call last)",
      "\u001b[0;32m<ipython-input-73-003386bf4f54>\u001b[0m in \u001b[0;36m<module>\u001b[0;34m\u001b[0m\n\u001b[1;32m     29\u001b[0m  'Total_Profit']\n\u001b[1;32m     30\u001b[0m \u001b[0;34m\u001b[0m\u001b[0m\n\u001b[0;32m---> 31\u001b[0;31m \u001b[0mdf\u001b[0m \u001b[0;34m=\u001b[0m \u001b[0mdf\u001b[0m\u001b[0;34m.\u001b[0m\u001b[0mreduce\u001b[0m\u001b[0;34m(\u001b[0m\u001b[0;32mlambda\u001b[0m \u001b[0mdata\u001b[0m\u001b[0;34m,\u001b[0m \u001b[0midx\u001b[0m\u001b[0;34m:\u001b[0m \u001b[0mdata\u001b[0m\u001b[0;34m.\u001b[0m\u001b[0mwithColumnRenamed\u001b[0m\u001b[0;34m(\u001b[0m\u001b[0moldColumns\u001b[0m\u001b[0;34m[\u001b[0m\u001b[0midx\u001b[0m\u001b[0;34m]\u001b[0m\u001b[0;34m,\u001b[0m \u001b[0mnewColumns\u001b[0m\u001b[0;34m[\u001b[0m\u001b[0midx\u001b[0m\u001b[0;34m]\u001b[0m\u001b[0;34m)\u001b[0m\u001b[0;34m,\u001b[0m \u001b[0mxrange\u001b[0m\u001b[0;34m(\u001b[0m\u001b[0mlen\u001b[0m\u001b[0;34m(\u001b[0m\u001b[0moldColumns\u001b[0m\u001b[0;34m)\u001b[0m\u001b[0;34m)\u001b[0m\u001b[0;34m,\u001b[0m \u001b[0mdata\u001b[0m\u001b[0;34m)\u001b[0m\u001b[0;34m\u001b[0m\u001b[0;34m\u001b[0m\u001b[0m\n\u001b[0m\u001b[1;32m     32\u001b[0m \u001b[0;34m\u001b[0m\u001b[0m\n",
      "\u001b[0;32m/Library/Frameworks/Python.framework/Versions/3.7/lib/python3.7/site-packages/pyspark/sql/dataframe.py\u001b[0m in \u001b[0;36m__getattr__\u001b[0;34m(self, name)\u001b[0m\n\u001b[1;32m   1302\u001b[0m         \u001b[0;32mif\u001b[0m \u001b[0mname\u001b[0m \u001b[0;32mnot\u001b[0m \u001b[0;32min\u001b[0m \u001b[0mself\u001b[0m\u001b[0;34m.\u001b[0m\u001b[0mcolumns\u001b[0m\u001b[0;34m:\u001b[0m\u001b[0;34m\u001b[0m\u001b[0;34m\u001b[0m\u001b[0m\n\u001b[1;32m   1303\u001b[0m             raise AttributeError(\n\u001b[0;32m-> 1304\u001b[0;31m                 \"'%s' object has no attribute '%s'\" % (self.__class__.__name__, name))\n\u001b[0m\u001b[1;32m   1305\u001b[0m         \u001b[0mjc\u001b[0m \u001b[0;34m=\u001b[0m \u001b[0mself\u001b[0m\u001b[0;34m.\u001b[0m\u001b[0m_jdf\u001b[0m\u001b[0;34m.\u001b[0m\u001b[0mapply\u001b[0m\u001b[0;34m(\u001b[0m\u001b[0mname\u001b[0m\u001b[0;34m)\u001b[0m\u001b[0;34m\u001b[0m\u001b[0;34m\u001b[0m\u001b[0m\n\u001b[1;32m   1306\u001b[0m         \u001b[0;32mreturn\u001b[0m \u001b[0mColumn\u001b[0m\u001b[0;34m(\u001b[0m\u001b[0mjc\u001b[0m\u001b[0;34m)\u001b[0m\u001b[0;34m\u001b[0m\u001b[0;34m\u001b[0m\u001b[0m\n",
      "\u001b[0;31mAttributeError\u001b[0m: 'DataFrame' object has no attribute 'reduce'"
     ]
    }
   ],
   "source": [
    "\n",
    "\n"
   ]
  },
  {
   "cell_type": "code",
   "execution_count": null,
   "metadata": {},
   "outputs": [],
   "source": []
  },
  {
   "cell_type": "code",
   "execution_count": 69,
   "metadata": {},
   "outputs": [
    {
     "data": {
      "text/plain": [
       "['Region',\n",
       " 'Country',\n",
       " 'Item Type',\n",
       " 'Sales Channel',\n",
       " 'Order Priority',\n",
       " 'Order Date',\n",
       " 'Order ID',\n",
       " 'Ship Date',\n",
       " 'Units Sold',\n",
       " 'Unit Price',\n",
       " 'Unit Cost',\n",
       " 'Total Revenue',\n",
       " 'Total Cost',\n",
       " 'Total Profit']"
      ]
     },
     "execution_count": 69,
     "metadata": {},
     "output_type": "execute_result"
    }
   ],
   "source": [
    "newDf.columns"
   ]
  },
  {
   "cell_type": "code",
   "execution_count": 76,
   "metadata": {},
   "outputs": [
    {
     "name": "stdout",
     "output_type": "stream",
     "text": [
      "Region Region\n",
      "Country Country\n",
      "Item Type Item_Type\n",
      "Sales Channel Sales_Channel\n",
      "Order Priority Order_Priority\n",
      "Order Date Order_Date\n",
      "Order ID Order_ID\n",
      "Ship Date Ship_Date\n",
      "Units Sold Units_Sold\n",
      "Unit Price Unit_Price\n",
      "Unit Cost Unit_Cost\n",
      "Total Revenue Total_Revenue\n",
      "Total Cost Total_Cost\n",
      "Total Profit Total_Profit\n"
     ]
    },
    {
     "data": {
      "text/plain": [
       "['Region',\n",
       " 'Country',\n",
       " 'Item_Type',\n",
       " 'Sales_Channel',\n",
       " 'Order_Priority',\n",
       " 'Order_Date',\n",
       " 'Order_ID',\n",
       " 'Ship_Date',\n",
       " 'Units_Sold',\n",
       " 'Unit_Price',\n",
       " 'Unit_Cost',\n",
       " 'Total_Revenue',\n",
       " 'Total_Cost',\n",
       " 'Total_Profit']"
      ]
     },
     "execution_count": 76,
     "metadata": {},
     "output_type": "execute_result"
    }
   ],
   "source": [
    "for col in df.columns:\n",
    "    df = df.withColumnRenamed(col, col.replace(' ','_'))\n",
    "    print(col, col.replace(' ','_'))\n",
    "\n",
    "df.columns"
   ]
  },
  {
   "cell_type": "code",
   "execution_count": 77,
   "metadata": {},
   "outputs": [],
   "source": [
    "df.write.parquet('Downloads/test_data.csv' )"
   ]
  },
  {
   "cell_type": "code",
   "execution_count": 82,
   "metadata": {},
   "outputs": [
    {
     "data": {
      "text/plain": [
       "17999982"
      ]
     },
     "execution_count": 82,
     "metadata": {},
     "output_type": "execute_result"
    }
   ],
   "source": [
    "test_1 = sp1.read.parquet('Downloads/test_data.csv' );\n",
    "test_1.count()"
   ]
  },
  {
   "cell_type": "code",
   "execution_count": 81,
   "metadata": {},
   "outputs": [],
   "source": [
    "df.write.mode('append').parquet('Downloads/test_data.csv' )"
   ]
  },
  {
   "cell_type": "code",
   "execution_count": 89,
   "metadata": {},
   "outputs": [],
   "source": [
    "import threading\n",
    "\n",
    "class ReadRecords(threading.Thread):\n",
    "    def __init__(self, spark):\n",
    "        threading.Thread.__init__(self)\n",
    "        self.spark = spark\n",
    "\n",
    "    def run(self):\n",
    "        test_1 = self.spark.read.parquet('Downloads/test_data.csv' )\n",
    "        print(test_1.count())\n",
    "\n",
    "\n",
    "thread1 = myThread(sp1)\n"
   ]
  },
  {
   "cell_type": "code",
   "execution_count": 90,
   "metadata": {},
   "outputs": [
    {
     "name": "stdout",
     "output_type": "stream",
     "text": [
      "17999982\n"
     ]
    }
   ],
   "source": [
    "thread1.start()"
   ]
  },
  {
   "cell_type": "code",
   "execution_count": null,
   "metadata": {},
   "outputs": [],
   "source": [
    "\n",
    "import pyspark\n",
    "import threading\n",
    "class ReadRecords(threading.Thread):\n",
    "    def __init__(self, spark, topic, idx, schema, input_dict=None, block_params=None, optional_arg=None):\n",
    "        threading.Thread.__init__(self)\n",
    "        self.spark = spark\n",
    "        self.topic = topic\n",
    "        self.idx = str(idx)\n",
    "        self.schema = schema\n",
    "        self.input_dict = input_dict\n",
    "        self.block_params = block_params\n",
    "        self.optional_arg = optional_arg\n",
    "\n",
    "    def run(self):\n",
    "        self.logger.info(\"Started reading records for topic\", self.topic)\n",
    "        channels = self.optional_arg[\"channels\"]\n",
    "        read_msgs_channel = {\n",
    "            \"channelId\": channels[self.idx],\n",
    "            \"registerId\": \"\"\n",
    "        }\n",
    "        converted_list = []\n",
    "        while True:\n",
    "            print('Reading...')\n",
    "            read_msgs_res = optional_arg['api_instance'].read_messages_from_topic_using_post(read_msgs_channel)\n",
    "            msgs = read_msgs_res.result\n",
    "            if (len(msgs) == 0):\n",
    "                topic = {\"topicName\": topic}\n",
    "                res = optional_arg['api_instance'].get_producer_status_using_post(topic)\n",
    "                if not res.result['value']:\n",
    "                    break;\n",
    "            \n",
    "            for msg in msgs:\n",
    "                msg = json.loads(msg)\n",
    "                for index, i in enumerate(msg):\n",
    "                    if self.field_list[self.idx][index] == 'int':\n",
    "                        msg[index] = int(float(msg[index]))\n",
    "                    elif self.field_list[self.idx][index] == 'float':\n",
    "                        msg[index] = float(msg[index])\n",
    "                converted_list.append(msg)\n",
    "            \n",
    "            if len(converted_list)>100000:\n",
    "                print('Writing to file',\"/tmp/\"+ self.idx ,len(converted_list))\n",
    "                df = self.spark.createDataFrame(converted_list, self.schema)\n",
    "                df.write.mode('append').parquet('/tmp/'+self.idx)\n",
    "    \n",
    "        if len(converted_list)>0:\n",
    "            print('Writing to file',\"/tmp/\"+ self.idx ,len(converted_list))\n",
    "            df = self.spark.createDataFrame(converted_list, self.schema)\n",
    "            df.write.mode('append').parquet('/tmp/'+self.idx)\n",
    "        \n",
    "        print('Done with ', self.idx)\n",
    "\n"
   ]
  },
  {
   "cell_type": "code",
   "execution_count": 92,
   "metadata": {},
   "outputs": [
    {
     "data": {
      "text/plain": [
       "['Region',\n",
       " 'Country',\n",
       " 'Item Type',\n",
       " 'Sales Channel',\n",
       " 'Order Priority',\n",
       " 'Order Date',\n",
       " 'order_id',\n",
       " 'Ship Date',\n",
       " 'Units Sold',\n",
       " 'Unit Price',\n",
       " 'Unit Cost',\n",
       " 'Total Revenue',\n",
       " 'Total Cost',\n",
       " 'Total Profit',\n",
       " 'Region',\n",
       " 'Country',\n",
       " 'Item Type',\n",
       " 'Sales Channel',\n",
       " 'Order Priority',\n",
       " 'Order Date',\n",
       " 'order_id',\n",
       " 'Ship Date',\n",
       " 'Units Sold',\n",
       " 'Unit Price',\n",
       " 'Unit Cost',\n",
       " 'Total Revenue',\n",
       " 'Total Cost',\n",
       " 'Total Profit']"
      ]
     },
     "execution_count": 92,
     "metadata": {},
     "output_type": "execute_result"
    }
   ],
   "source": [
    "left_join.columns"
   ]
  },
  {
   "cell_type": "code",
   "execution_count": 104,
   "metadata": {},
   "outputs": [
    {
     "name": "stdout",
     "output_type": "stream",
     "text": [
      "['Region', 'Country', 'Item_Type', 'Sales_Channel', 'Order_Priority', 'Order_Date', 'Order_ID', 'Ship_Date', 'Units_Sold', 'Unit_Price', 'Unit_Cost', 'Total_Revenue', 'Total_Cost', 'Total_Profit']\n",
      "['Region', 'Country', 'Item_Type', 'Sales_Channel', 'Order_Priority', 'Order_Date', 'Order_ID', 'Ship_Date', 'Units_Sold', 'Unit_Price', 'Unit_Cost', 'Total_Revenue', 'Total_Cost', 'Total_Profit']\n",
      "['bb_lbbl_Region', 'bb_lbbl_Country', 'bb_lItem Type', 'bb_lSales Channel', 'bb_lOrder Priority', 'bb_lOrder Date', 'bb_lorder_id', 'bb_lShip Date', 'bb_lUnits Sold', 'bb_lUnit Price', 'bb_lUnit Cost', 'bb_lTotal Revenue', 'bb_lTotal Cost', 'bb_lTotal Profit', 'bbl_Region', 'bbl_Country', 'Item Type', 'Sales Channel', 'Order Priority', 'Order Date', 'order_id', 'Ship Date', 'Units Sold', 'Unit Price', 'Unit Cost', 'Total Revenue', 'Total Cost', 'Total Profit']\n"
     ]
    }
   ],
   "source": [
    "left_cols = df.columns.copy()\n",
    "right_cols = df.columns.copy()\n",
    "print(left_cols)\n",
    "print(right_cols)\n",
    "renamed_cols = {}\n",
    "new_column_name_list = left_join.columns\n",
    "for col in new_column_name_list:\n",
    "    count = new_column_name_list.count(col)\n",
    "    if(count>1):\n",
    "        idx = new_column_name_list.index(col)\n",
    "        new_column_name_list[idx] = 'bbl_'+col\n",
    "\n",
    "print(new_column_name_list)"
   ]
  },
  {
   "cell_type": "code",
   "execution_count": 105,
   "metadata": {},
   "outputs": [],
   "source": [
    "m_left_join = left_join.toDF(*new_column_name_list)"
   ]
  },
  {
   "cell_type": "code",
   "execution_count": 106,
   "metadata": {},
   "outputs": [
    {
     "data": {
      "text/plain": [
       "['bb_lbbl_Region',\n",
       " 'bb_lbbl_Country',\n",
       " 'bb_lItem Type',\n",
       " 'bb_lSales Channel',\n",
       " 'bb_lOrder Priority',\n",
       " 'bb_lOrder Date',\n",
       " 'bb_lorder_id',\n",
       " 'bb_lShip Date',\n",
       " 'bb_lUnits Sold',\n",
       " 'bb_lUnit Price',\n",
       " 'bb_lUnit Cost',\n",
       " 'bb_lTotal Revenue',\n",
       " 'bb_lTotal Cost',\n",
       " 'bb_lTotal Profit',\n",
       " 'bbl_Region',\n",
       " 'bbl_Country',\n",
       " 'Item Type',\n",
       " 'Sales Channel',\n",
       " 'Order Priority',\n",
       " 'Order Date',\n",
       " 'order_id',\n",
       " 'Ship Date',\n",
       " 'Units Sold',\n",
       " 'Unit Price',\n",
       " 'Unit Cost',\n",
       " 'Total Revenue',\n",
       " 'Total Cost',\n",
       " 'Total Profit']"
      ]
     },
     "execution_count": 106,
     "metadata": {},
     "output_type": "execute_result"
    }
   ],
   "source": [
    "m_left_join.columns"
   ]
  },
  {
   "cell_type": "code",
   "execution_count": 108,
   "metadata": {},
   "outputs": [
    {
     "ename": "SyntaxError",
     "evalue": "invalid syntax (<ipython-input-108-8f489a2393e8>, line 1)",
     "output_type": "error",
     "traceback": [
      "\u001b[0;36m  File \u001b[0;32m\"<ipython-input-108-8f489a2393e8>\"\u001b[0;36m, line \u001b[0;32m1\u001b[0m\n\u001b[0;31m    m_left_join.foreachPartition( ele =>\u001b[0m\n\u001b[0m                                       ^\u001b[0m\n\u001b[0;31mSyntaxError\u001b[0m\u001b[0;31m:\u001b[0m invalid syntax\n"
     ]
    }
   ],
   "source": [
    "m_left_join.foreachPartition( ele =>\n",
    "   ele.grouped(1000).foreach { chunk =>\n",
    "   print(chunk))"
   ]
  },
  {
   "cell_type": "code",
   "execution_count": 110,
   "metadata": {},
   "outputs": [
    {
     "ename": "ModuleNotFoundError",
     "evalue": "No module named 'toolz'",
     "output_type": "error",
     "traceback": [
      "\u001b[0;31m---------------------------------------------------------------------------\u001b[0m",
      "\u001b[0;31mModuleNotFoundError\u001b[0m                       Traceback (most recent call last)",
      "\u001b[0;32m<ipython-input-110-1b6ac0c02282>\u001b[0m in \u001b[0;36m<module>\u001b[0;34m\u001b[0m\n\u001b[0;32m----> 1\u001b[0;31m \u001b[0;32mfrom\u001b[0m \u001b[0mtoolz\u001b[0m\u001b[0;34m.\u001b[0m\u001b[0mitertoolz\u001b[0m \u001b[0;32mimport\u001b[0m \u001b[0mpartition_all\u001b[0m\u001b[0;34m\u001b[0m\u001b[0;34m\u001b[0m\u001b[0m\n\u001b[0m\u001b[1;32m      2\u001b[0m \u001b[0;34m\u001b[0m\u001b[0m\n\u001b[1;32m      3\u001b[0m \u001b[0;32mdef\u001b[0m \u001b[0mdoSomething\u001b[0m\u001b[0;34m(\u001b[0m\u001b[0mxs\u001b[0m\u001b[0;34m)\u001b[0m\u001b[0;34m:\u001b[0m\u001b[0;34m\u001b[0m\u001b[0;34m\u001b[0m\u001b[0m\n\u001b[1;32m      4\u001b[0m     \u001b[0mprint\u001b[0m\u001b[0;34m(\u001b[0m\u001b[0mxs\u001b[0m\u001b[0;34m)\u001b[0m\u001b[0;34m\u001b[0m\u001b[0;34m\u001b[0m\u001b[0m\n\u001b[1;32m      5\u001b[0m \u001b[0;34m\u001b[0m\u001b[0m\n",
      "\u001b[0;31mModuleNotFoundError\u001b[0m: No module named 'toolz'"
     ]
    }
   ],
   "source": [
    "from toolz.itertoolz import partition_all\n",
    "\n",
    "def doSomething(xs):\n",
    "    print(xs)\n",
    "\n",
    "for xs in partition_all(batchSize, m_left_join.toLocalIterator()):\n",
    "    doSomething(xs)"
   ]
  },
  {
   "cell_type": "code",
   "execution_count": 111,
   "metadata": {},
   "outputs": [],
   "source": [
    "import pandas as pd"
   ]
  },
  {
   "cell_type": "code",
   "execution_count": 122,
   "metadata": {},
   "outputs": [
    {
     "ename": "NameError",
     "evalue": "name 'pri' is not defined",
     "output_type": "error",
     "traceback": [
      "\u001b[0;31m---------------------------------------------------------------------------\u001b[0m",
      "\u001b[0;31mNameError\u001b[0m                                 Traceback (most recent call last)",
      "\u001b[0;32m<ipython-input-122-8352b547f23f>\u001b[0m in \u001b[0;36m<module>\u001b[0;34m\u001b[0m\n\u001b[1;32m      2\u001b[0m \u001b[0mdirectory\u001b[0m \u001b[0;34m=\u001b[0m \u001b[0;34m'Downloads/test_data.csv'\u001b[0m\u001b[0;34m\u001b[0m\u001b[0;34m\u001b[0m\u001b[0m\n\u001b[1;32m      3\u001b[0m \u001b[0;32mfor\u001b[0m \u001b[0mfilename\u001b[0m \u001b[0;32min\u001b[0m \u001b[0mos\u001b[0m\u001b[0;34m.\u001b[0m\u001b[0mlistdir\u001b[0m\u001b[0;34m(\u001b[0m\u001b[0mdirectory\u001b[0m\u001b[0;34m)\u001b[0m\u001b[0;34m:\u001b[0m\u001b[0;34m\u001b[0m\u001b[0;34m\u001b[0m\u001b[0m\n\u001b[0;32m----> 4\u001b[0;31m     \u001b[0mpri\u001b[0m\u001b[0;34m\u001b[0m\u001b[0;34m\u001b[0m\u001b[0m\n\u001b[0m\u001b[1;32m      5\u001b[0m     \u001b[0;32mif\u001b[0m \u001b[0mfilename\u001b[0m\u001b[0;34m.\u001b[0m\u001b[0mendswith\u001b[0m\u001b[0;34m(\u001b[0m\u001b[0;34m\".csv\"\u001b[0m\u001b[0;34m)\u001b[0m\u001b[0;34m:\u001b[0m\u001b[0;34m\u001b[0m\u001b[0;34m\u001b[0m\u001b[0m\n\u001b[1;32m      6\u001b[0m         \u001b[0mfile_path\u001b[0m \u001b[0;34m=\u001b[0m \u001b[0mdirectory\u001b[0m \u001b[0;34m+\u001b[0m \u001b[0;34m'/'\u001b[0m \u001b[0;34m+\u001b[0m \u001b[0mfilename\u001b[0m\u001b[0;34m\u001b[0m\u001b[0;34m\u001b[0m\u001b[0m\n",
      "\u001b[0;31mNameError\u001b[0m: name 'pri' is not defined"
     ]
    }
   ],
   "source": [
    "\n",
    "import os\n",
    "directory = 'Downloads/test_data.csv'\n",
    "for filename in os.listdir(directory):\n",
    "    pri\n",
    "    if filename.endswith(\".csv\"):\n",
    "        file_path = directory + '/' + filename\n",
    "        print(filename)\n",
    "        pdf = pd.read_csv(directory + filename)\n",
    "        print(len(pdf))\n",
    "        continue\n",
    "    else:\n",
    "        continue\n",
    "\n"
   ]
  },
  {
   "cell_type": "code",
   "execution_count": 123,
   "metadata": {},
   "outputs": [
    {
     "name": "stdout",
     "output_type": "stream",
     "text": [
      "+----------+-----------+-------------+-------------+--------------+----------+---------+---------+----------+----------+---------+-------------+----------+------------+----------+-----------+-------------+-------------+--------------+----------+---------+---------+----------+----------+---------+-------------+----------+------------+\n",
      "|bbl_Region|bbl_Country|    Item Type|Sales Channel|Order Priority|Order Date| order_id|Ship Date|Units Sold|Unit Price|Unit Cost|Total Revenue|Total Cost|Total Profit|bbl_Region|bbl_Country|    Item Type|Sales Channel|Order Priority|Order Date| order_id|Ship Date|Units Sold|Unit Price|Unit Cost|Total Revenue|Total Cost|Total Profit|\n",
      "+----------+-----------+-------------+-------------+--------------+----------+---------+---------+----------+----------+---------+-------------+----------+------------+----------+-----------+-------------+-------------+--------------+----------+---------+---------+----------+----------+---------+-------------+----------+------------+\n",
      "|    Europe|     Latvia|Personal Care|       Online|             H| 8/22/2011|100054395|10/8/2011|      7174|     81.73|    56.67|    586331.02| 406550.58|   179780.44|    Europe|     Latvia|Personal Care|       Online|             H| 8/22/2011|100054395|10/8/2011|      7174|     81.73|    56.67|    586331.02| 406550.58|   179780.44|\n",
      "|    Europe|     Latvia|Personal Care|       Online|             H| 8/22/2011|100054395|10/8/2011|      7174|     81.73|    56.67|    586331.02| 406550.58|   179780.44|    Europe|     Latvia|Personal Care|       Online|             H| 8/22/2011|100054395|10/8/2011|      7174|     81.73|    56.67|    586331.02| 406550.58|   179780.44|\n",
      "|    Europe|     Latvia|Personal Care|       Online|             H| 8/22/2011|100054395|10/8/2011|      7174|     81.73|    56.67|    586331.02| 406550.58|   179780.44|    Europe|     Latvia|Personal Care|       Online|             H| 8/22/2011|100054395|10/8/2011|      7174|     81.73|    56.67|    586331.02| 406550.58|   179780.44|\n",
      "|    Europe|     Latvia|Personal Care|       Online|             H| 8/22/2011|100054395|10/8/2011|      7174|     81.73|    56.67|    586331.02| 406550.58|   179780.44|    Europe|     Latvia|Personal Care|       Online|             H| 8/22/2011|100054395|10/8/2011|      7174|     81.73|    56.67|    586331.02| 406550.58|   179780.44|\n",
      "|    Europe|     Latvia|Personal Care|       Online|             H| 8/22/2011|100054395|10/8/2011|      7174|     81.73|    56.67|    586331.02| 406550.58|   179780.44|    Europe|     Latvia|Personal Care|       Online|             H| 8/22/2011|100054395|10/8/2011|      7174|     81.73|    56.67|    586331.02| 406550.58|   179780.44|\n",
      "|    Europe|     Latvia|Personal Care|       Online|             H| 8/22/2011|100054395|10/8/2011|      7174|     81.73|    56.67|    586331.02| 406550.58|   179780.44|    Europe|     Latvia|Personal Care|       Online|             H| 8/22/2011|100054395|10/8/2011|      7174|     81.73|    56.67|    586331.02| 406550.58|   179780.44|\n",
      "|    Europe|     Latvia|Personal Care|       Online|             H| 8/22/2011|100054395|10/8/2011|      7174|     81.73|    56.67|    586331.02| 406550.58|   179780.44|    Europe|     Latvia|Personal Care|       Online|             H| 8/22/2011|100054395|10/8/2011|      7174|     81.73|    56.67|    586331.02| 406550.58|   179780.44|\n",
      "|    Europe|     Latvia|Personal Care|       Online|             H| 8/22/2011|100054395|10/8/2011|      7174|     81.73|    56.67|    586331.02| 406550.58|   179780.44|    Europe|     Latvia|Personal Care|       Online|             H| 8/22/2011|100054395|10/8/2011|      7174|     81.73|    56.67|    586331.02| 406550.58|   179780.44|\n",
      "|    Europe|     Latvia|Personal Care|       Online|             H| 8/22/2011|100054395|10/8/2011|      7174|     81.73|    56.67|    586331.02| 406550.58|   179780.44|    Europe|     Latvia|Personal Care|       Online|             H| 8/22/2011|100054395|10/8/2011|      7174|     81.73|    56.67|    586331.02| 406550.58|   179780.44|\n",
      "|    Europe|     Latvia|Personal Care|       Online|             H| 8/22/2011|100054395|10/8/2011|      7174|     81.73|    56.67|    586331.02| 406550.58|   179780.44|    Europe|     Latvia|Personal Care|       Online|             H| 8/22/2011|100054395|10/8/2011|      7174|     81.73|    56.67|    586331.02| 406550.58|   179780.44|\n",
      "|    Europe|     Latvia|Personal Care|       Online|             H| 8/22/2011|100054395|10/8/2011|      7174|     81.73|    56.67|    586331.02| 406550.58|   179780.44|    Europe|     Latvia|Personal Care|       Online|             H| 8/22/2011|100054395|10/8/2011|      7174|     81.73|    56.67|    586331.02| 406550.58|   179780.44|\n",
      "|    Europe|     Latvia|Personal Care|       Online|             H| 8/22/2011|100054395|10/8/2011|      7174|     81.73|    56.67|    586331.02| 406550.58|   179780.44|    Europe|     Latvia|Personal Care|       Online|             H| 8/22/2011|100054395|10/8/2011|      7174|     81.73|    56.67|    586331.02| 406550.58|   179780.44|\n",
      "|    Europe|     Latvia|Personal Care|       Online|             H| 8/22/2011|100054395|10/8/2011|      7174|     81.73|    56.67|    586331.02| 406550.58|   179780.44|    Europe|     Latvia|Personal Care|       Online|             H| 8/22/2011|100054395|10/8/2011|      7174|     81.73|    56.67|    586331.02| 406550.58|   179780.44|\n",
      "|    Europe|     Latvia|Personal Care|       Online|             H| 8/22/2011|100054395|10/8/2011|      7174|     81.73|    56.67|    586331.02| 406550.58|   179780.44|    Europe|     Latvia|Personal Care|       Online|             H| 8/22/2011|100054395|10/8/2011|      7174|     81.73|    56.67|    586331.02| 406550.58|   179780.44|\n",
      "|    Europe|     Latvia|Personal Care|       Online|             H| 8/22/2011|100054395|10/8/2011|      7174|     81.73|    56.67|    586331.02| 406550.58|   179780.44|    Europe|     Latvia|Personal Care|       Online|             H| 8/22/2011|100054395|10/8/2011|      7174|     81.73|    56.67|    586331.02| 406550.58|   179780.44|\n",
      "|    Europe|     Latvia|Personal Care|       Online|             H| 8/22/2011|100054395|10/8/2011|      7174|     81.73|    56.67|    586331.02| 406550.58|   179780.44|    Europe|     Latvia|Personal Care|       Online|             H| 8/22/2011|100054395|10/8/2011|      7174|     81.73|    56.67|    586331.02| 406550.58|   179780.44|\n",
      "|    Europe|     Cyprus|    Household|      Offline|             H|  4/5/2013|100310170| 4/5/2013|      2863|    668.27|   502.54|   1913257.01|1438772.02|   474484.99|    Europe|     Cyprus|    Household|      Offline|             H|  4/5/2013|100310170| 4/5/2013|      2863|    668.27|   502.54|   1913257.01|1438772.02|   474484.99|\n",
      "|    Europe|     Cyprus|    Household|      Offline|             H|  4/5/2013|100310170| 4/5/2013|      2863|    668.27|   502.54|   1913257.01|1438772.02|   474484.99|    Europe|     Cyprus|    Household|      Offline|             H|  4/5/2013|100310170| 4/5/2013|      2863|    668.27|   502.54|   1913257.01|1438772.02|   474484.99|\n",
      "|    Europe|     Cyprus|    Household|      Offline|             H|  4/5/2013|100310170| 4/5/2013|      2863|    668.27|   502.54|   1913257.01|1438772.02|   474484.99|    Europe|     Cyprus|    Household|      Offline|             H|  4/5/2013|100310170| 4/5/2013|      2863|    668.27|   502.54|   1913257.01|1438772.02|   474484.99|\n",
      "|    Europe|     Cyprus|    Household|      Offline|             H|  4/5/2013|100310170| 4/5/2013|      2863|    668.27|   502.54|   1913257.01|1438772.02|   474484.99|    Europe|     Cyprus|    Household|      Offline|             H|  4/5/2013|100310170| 4/5/2013|      2863|    668.27|   502.54|   1913257.01|1438772.02|   474484.99|\n",
      "+----------+-----------+-------------+-------------+--------------+----------+---------+---------+----------+----------+---------+-------------+----------+------------+----------+-----------+-------------+-------------+--------------+----------+---------+---------+----------+----------+---------+-------------+----------+------------+\n",
      "only showing top 20 rows\n",
      "\n"
     ]
    }
   ],
   "source": [
    "left_join.show()"
   ]
  },
  {
   "cell_type": "code",
   "execution_count": 134,
   "metadata": {},
   "outputs": [],
   "source": [
    "df.coalesce(1).write.mode(\"overwrite\").option(\"header\",\"true\").csv('Downloads/test_left_data.csv' )"
   ]
  },
  {
   "cell_type": "code",
   "execution_count": 129,
   "metadata": {},
   "outputs": [
    {
     "ename": "NameError",
     "evalue": "name 'full_spark' is not defined",
     "output_type": "error",
     "traceback": [
      "\u001b[0;31m---------------------------------------------------------------------------\u001b[0m",
      "\u001b[0;31mNameError\u001b[0m                                 Traceback (most recent call last)",
      "\u001b[0;32m<ipython-input-129-be320fe5043e>\u001b[0m in \u001b[0;36m<module>\u001b[0;34m\u001b[0m\n\u001b[0;32m----> 1\u001b[0;31m \u001b[0mfull_spark\u001b[0m\u001b[0;34m\u001b[0m\u001b[0;34m\u001b[0m\u001b[0m\n\u001b[0m",
      "\u001b[0;31mNameError\u001b[0m: name 'full_spark' is not defined"
     ]
    }
   ],
   "source": [
    "full_spark\n",
    "\n",
    "\n",
    "remove oracle writer\n",
    "\n"
   ]
  },
  {
   "cell_type": "code",
   "execution_count": 131,
   "metadata": {},
   "outputs": [
    {
     "name": "stdout",
     "output_type": "stream",
     "text": [
      "._SUCCESS.crc\n",
      "part-00000-28b2774b-7ea3-49fb-a01b-9ee093825a02-c000.csv\n",
      "part-00000-28b2774b-7ea3-49fb-a01b-9ee093825a02-c000.csv\n",
      ".part-00000-28b2774b-7ea3-49fb-a01b-9ee093825a02-c000.csv.crc\n",
      "_SUCCESS\n"
     ]
    }
   ],
   "source": [
    "for filename in os.listdir('Downloads/test_left_data.csv'):\n",
    "    print(filename)\n",
    "    if filename.endswith('.csv'):\n",
    "        print(filename)"
   ]
  },
  {
   "cell_type": "code",
   "execution_count": 135,
   "metadata": {},
   "outputs": [],
   "source": [
    "rdd_df = df.rdd.zipWithIndex()"
   ]
  },
  {
   "cell_type": "code",
   "execution_count": 140,
   "metadata": {},
   "outputs": [
    {
     "data": {
      "text/plain": [
       "['_1', '_2']"
      ]
     },
     "execution_count": 140,
     "metadata": {},
     "output_type": "execute_result"
    }
   ],
   "source": [
    "df_final = rdd_df.toDF()\n",
    "df_final.columns"
   ]
  },
  {
   "cell_type": "code",
   "execution_count": 154,
   "metadata": {},
   "outputs": [
    {
     "ename": "SyntaxError",
     "evalue": "invalid syntax (<ipython-input-154-d3d47ee3919c>, line 3)",
     "output_type": "error",
     "traceback": [
      "\u001b[0;36m  File \u001b[0;32m\"<ipython-input-154-d3d47ee3919c>\"\u001b[0;36m, line \u001b[0;32m3\u001b[0m\n\u001b[0;31m    temp = df_final.filter(df_final._2>0 and df_final<100))\u001b[0m\n\u001b[0m                                                          ^\u001b[0m\n\u001b[0;31mSyntaxError\u001b[0m\u001b[0;31m:\u001b[0m invalid syntax\n"
     ]
    }
   ],
   "source": [
    "from pyspark.sql.functions import col\n",
    "\n",
    "temp = df_final.filter(df_final._2>0 and df_final<100))"
   ]
  },
  {
   "cell_type": "code",
   "execution_count": 152,
   "metadata": {},
   "outputs": [
    {
     "name": "stdout",
     "output_type": "stream",
     "text": [
      "+--------------------+---+\n",
      "|                  _1| _2|\n",
      "+--------------------+---+\n",
      "|[Middle East and ...|  1|\n",
      "|[Australia and Oc...|  2|\n",
      "+--------------------+---+\n",
      "\n",
      "CPU times: user 4.36 ms, sys: 2.65 ms, total: 7.01 ms\n",
      "Wall time: 50 s\n"
     ]
    }
   ],
   "source": [
    "%%time\n",
    "temp.show()"
   ]
  },
  {
   "cell_type": "code",
   "execution_count": 155,
   "metadata": {},
   "outputs": [
    {
     "data": {
      "text/plain": [
       "['Region',\n",
       " 'Country',\n",
       " 'Item Type',\n",
       " 'Sales Channel',\n",
       " 'Order Priority',\n",
       " 'Order Date',\n",
       " 'order_id',\n",
       " 'Ship Date',\n",
       " 'Units Sold',\n",
       " 'Unit Price',\n",
       " 'Unit Cost',\n",
       " 'Total Revenue',\n",
       " 'Total Cost',\n",
       " 'Total Profit']"
      ]
     },
     "execution_count": 155,
     "metadata": {},
     "output_type": "execute_result"
    }
   ],
   "source": [
    "df.columns"
   ]
  },
  {
   "cell_type": "code",
   "execution_count": null,
   "metadata": {},
   "outputs": [],
   "source": [
    "column_list = ['order_id', 'Item Type']\n",
    "\n",
    "df.coalesce(1).write.partitionBy(column_list).mode(\"overwrite\").option(\"header\",\"true\").csv('Downloads/test_left_data.csv' )\n"
   ]
  },
  {
   "cell_type": "code",
   "execution_count": null,
   "metadata": {},
   "outputs": [],
   "source": []
  }
 ],
 "metadata": {
  "kernelspec": {
   "display_name": "Python 3",
   "language": "python",
   "name": "python3"
  },
  "language_info": {
   "codemirror_mode": {
    "name": "ipython",
    "version": 3
   },
   "file_extension": ".py",
   "mimetype": "text/x-python",
   "name": "python",
   "nbconvert_exporter": "python",
   "pygments_lexer": "ipython3",
   "version": "3.7.5"
  }
 },
 "nbformat": 4,
 "nbformat_minor": 4
}
